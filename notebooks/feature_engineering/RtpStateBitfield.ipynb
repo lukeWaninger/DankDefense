{
 "cells": [
  {
   "cell_type": "code",
   "execution_count": 1,
   "metadata": {
    "ExecuteTime": {
     "end_time": "2019-02-07T03:44:35.626023Z",
     "start_time": "2019-02-07T03:44:33.939514Z"
    }
   },
   "outputs": [],
   "source": [
    "import re\n",
    "\n",
    "import numpy as np\n",
    "import pandas as pd\n",
    "from tqdm import tqdm\n",
    "\n",
    "from dankypipe import pipe\n",
    "\n",
    "tqdm.pandas()\n",
    "\n",
    "def isfloat(x):\n",
    "    try:\n",
    "        float(x)\n",
    "        return True\n",
    "    except:\n",
    "        return False\n",
    "    \n",
    "def isint(x):\n",
    "    try:\n",
    "        int(x)\n",
    "        return True\n",
    "    except:\n",
    "        return False "
   ]
  },
  {
   "cell_type": "code",
   "execution_count": 2,
   "metadata": {
    "ExecuteTime": {
     "end_time": "2019-02-01T15:41:09.653145Z",
     "start_time": "2019-02-01T15:40:25.853522Z"
    }
   },
   "outputs": [],
   "source": [
    "train = pd.read_pickle('train.pickle').sort_values(by='AvSigVersion')\n",
    "test = pd.read_pickle('test.pickle').sort_values(by='AvSigVersion')\n",
    "\n",
    "train = train.rename(columns={'HasDetections':'Target'})"
   ]
  },
  {
   "cell_type": "code",
   "execution_count": 3,
   "metadata": {
    "ExecuteTime": {
     "end_time": "2019-02-01T15:41:09.660244Z",
     "start_time": "2019-02-01T15:41:09.654985Z"
    },
    "code_folding": [
     2
    ]
   },
   "outputs": [],
   "source": [
    "def transform(df):\n",
    "    df.loc[df.RtpStateBitfield.isnull(), 'RtpStateBitfield'] = 34\n",
    "\n",
    "    df.RtpStateBitfield = [\n",
    "        str(bin(int(float(c))))[2:].zfill(4)[-4:] if str(c) != 'nan' else np.nan \n",
    "        for c in tqdm(df.RtpStateBitfield, desc='converting to bit string')\n",
    "    ]\n",
    "    \n",
    "    for i in tqdm(range(1, 5), desc='expanding features'):\n",
    "        cname = f'RtpStateBitfield_{i}'\n",
    "        df[cname] = df.RtpStateBitfield.apply(\n",
    "            lambda x: bool(x[4-i]=='1') if str(x) != 'nan' else np.nan\n",
    "        )\n",
    "\n",
    "    return df"
   ]
  },
  {
   "cell_type": "code",
   "execution_count": 4,
   "metadata": {
    "ExecuteTime": {
     "end_time": "2019-02-01T15:41:09.974627Z",
     "start_time": "2019-02-01T15:41:09.663458Z"
    }
   },
   "outputs": [],
   "source": [
    "cols  = ['RtpStateBitfield', 'MachineIdentifier']\n",
    "train = train[cols+['Target']]\n",
    "test  = test[cols]"
   ]
  },
  {
   "cell_type": "code",
   "execution_count": 5,
   "metadata": {
    "ExecuteTime": {
     "end_time": "2019-02-01T15:42:54.997324Z",
     "start_time": "2019-02-01T15:41:09.977641Z"
    }
   },
   "outputs": [
    {
     "name": "stderr",
     "output_type": "stream",
     "text": [
      "converting to bit string: 100%|██████████| 8921483/8921483 [00:19<00:00, 456019.65it/s]\n",
      "expanding features: 100%|██████████| 4/4 [00:20<00:00,  5.04s/it]\n",
      "converting to bit string: 100%|██████████| 7853253/7853253 [00:16<00:00, 472419.08it/s]\n",
      "expanding features: 100%|██████████| 4/4 [00:17<00:00,  4.39s/it]\n"
     ]
    }
   ],
   "source": [
    "train = transform(train)\n",
    "test  = transform(test)"
   ]
  },
  {
   "cell_type": "code",
   "execution_count": 6,
   "metadata": {},
   "outputs": [],
   "source": [
    "avsig = pipe.download_feature('AvSigVersion_float', cache=True)\n",
    "avsig_combined = pd.concat([avsig['train'], avsig['validate']], sort=False).sort_values(by='AvSigVersion_float')\n",
    "\n",
    "train_ = train.merge(avsig_combined, on='MachineIdentifier', how='inner', sort=False)\n",
    "assert len(train_) == len(train)\n",
    "\n",
    "train = train_\n",
    "del train_\n",
    "\n",
    "train = train.sort_values(by='AvSigVersion_float').drop(columns='AvSigVersion_float')"
   ]
  },
  {
   "cell_type": "code",
   "execution_count": 7,
   "metadata": {
    "ExecuteTime": {
     "end_time": "2019-02-01T15:59:29.113817Z",
     "start_time": "2019-02-01T15:59:29.097429Z"
    }
   },
   "outputs": [
    {
     "data": {
      "text/html": [
       "<div>\n",
       "<style scoped>\n",
       "    .dataframe tbody tr th:only-of-type {\n",
       "        vertical-align: middle;\n",
       "    }\n",
       "\n",
       "    .dataframe tbody tr th {\n",
       "        vertical-align: top;\n",
       "    }\n",
       "\n",
       "    .dataframe thead th {\n",
       "        text-align: right;\n",
       "    }\n",
       "</style>\n",
       "<table border=\"1\" class=\"dataframe\">\n",
       "  <thead>\n",
       "    <tr style=\"text-align: right;\">\n",
       "      <th></th>\n",
       "      <th>RtpStateBitfield</th>\n",
       "      <th>MachineIdentifier</th>\n",
       "      <th>Target</th>\n",
       "      <th>RtpStateBitfield_1</th>\n",
       "      <th>RtpStateBitfield_2</th>\n",
       "      <th>RtpStateBitfield_3</th>\n",
       "      <th>RtpStateBitfield_4</th>\n",
       "    </tr>\n",
       "  </thead>\n",
       "  <tbody>\n",
       "    <tr>\n",
       "      <th>0</th>\n",
       "      <td>0001</td>\n",
       "      <td>c3c4bc04dc5f1c7245a862e52634428e</td>\n",
       "      <td>0</td>\n",
       "      <td>True</td>\n",
       "      <td>False</td>\n",
       "      <td>False</td>\n",
       "      <td>False</td>\n",
       "    </tr>\n",
       "    <tr>\n",
       "      <th>37</th>\n",
       "      <td>0101</td>\n",
       "      <td>60031444d3ec616c6e9084be521faa04</td>\n",
       "      <td>0</td>\n",
       "      <td>True</td>\n",
       "      <td>False</td>\n",
       "      <td>True</td>\n",
       "      <td>False</td>\n",
       "    </tr>\n",
       "    <tr>\n",
       "      <th>38</th>\n",
       "      <td>0001</td>\n",
       "      <td>d938abff6012c1488b851247a3098160</td>\n",
       "      <td>0</td>\n",
       "      <td>True</td>\n",
       "      <td>False</td>\n",
       "      <td>False</td>\n",
       "      <td>False</td>\n",
       "    </tr>\n",
       "    <tr>\n",
       "      <th>39</th>\n",
       "      <td>0000</td>\n",
       "      <td>910ddd20c6d334ca03a46d9f0008fe24</td>\n",
       "      <td>1</td>\n",
       "      <td>False</td>\n",
       "      <td>False</td>\n",
       "      <td>False</td>\n",
       "      <td>False</td>\n",
       "    </tr>\n",
       "    <tr>\n",
       "      <th>40</th>\n",
       "      <td>0001</td>\n",
       "      <td>5e05d22ab9db72ccbc8e41d4bc632f64</td>\n",
       "      <td>0</td>\n",
       "      <td>True</td>\n",
       "      <td>False</td>\n",
       "      <td>False</td>\n",
       "      <td>False</td>\n",
       "    </tr>\n",
       "  </tbody>\n",
       "</table>\n",
       "</div>"
      ],
      "text/plain": [
       "   RtpStateBitfield                 MachineIdentifier  Target  \\\n",
       "0              0001  c3c4bc04dc5f1c7245a862e52634428e       0   \n",
       "37             0101  60031444d3ec616c6e9084be521faa04       0   \n",
       "38             0001  d938abff6012c1488b851247a3098160       0   \n",
       "39             0000  910ddd20c6d334ca03a46d9f0008fe24       1   \n",
       "40             0001  5e05d22ab9db72ccbc8e41d4bc632f64       0   \n",
       "\n",
       "    RtpStateBitfield_1  RtpStateBitfield_2  RtpStateBitfield_3  \\\n",
       "0                 True               False               False   \n",
       "37                True               False                True   \n",
       "38                True               False               False   \n",
       "39               False               False               False   \n",
       "40                True               False               False   \n",
       "\n",
       "    RtpStateBitfield_4  \n",
       "0                False  \n",
       "37               False  \n",
       "38               False  \n",
       "39               False  \n",
       "40               False  "
      ]
     },
     "execution_count": 7,
     "metadata": {},
     "output_type": "execute_result"
    }
   ],
   "source": [
    "train.head()"
   ]
  },
  {
   "cell_type": "code",
   "execution_count": 8,
   "metadata": {
    "ExecuteTime": {
     "end_time": "2019-02-01T15:59:41.714557Z",
     "start_time": "2019-02-01T15:59:41.703147Z"
    }
   },
   "outputs": [
    {
     "data": {
      "text/html": [
       "<div>\n",
       "<style scoped>\n",
       "    .dataframe tbody tr th:only-of-type {\n",
       "        vertical-align: middle;\n",
       "    }\n",
       "\n",
       "    .dataframe tbody tr th {\n",
       "        vertical-align: top;\n",
       "    }\n",
       "\n",
       "    .dataframe thead th {\n",
       "        text-align: right;\n",
       "    }\n",
       "</style>\n",
       "<table border=\"1\" class=\"dataframe\">\n",
       "  <thead>\n",
       "    <tr style=\"text-align: right;\">\n",
       "      <th></th>\n",
       "      <th>RtpStateBitfield</th>\n",
       "      <th>MachineIdentifier</th>\n",
       "      <th>RtpStateBitfield_1</th>\n",
       "      <th>RtpStateBitfield_2</th>\n",
       "      <th>RtpStateBitfield_3</th>\n",
       "      <th>RtpStateBitfield_4</th>\n",
       "    </tr>\n",
       "  </thead>\n",
       "  <tbody>\n",
       "    <tr>\n",
       "      <th>7252423</th>\n",
       "      <td>0000</td>\n",
       "      <td>ec6910b4d9e0baae203e9819227659ec</td>\n",
       "      <td>False</td>\n",
       "      <td>False</td>\n",
       "      <td>False</td>\n",
       "      <td>False</td>\n",
       "    </tr>\n",
       "    <tr>\n",
       "      <th>6804872</th>\n",
       "      <td>0000</td>\n",
       "      <td>ddd66992da9cbb12db76d9d874fedf8b</td>\n",
       "      <td>False</td>\n",
       "      <td>False</td>\n",
       "      <td>False</td>\n",
       "      <td>False</td>\n",
       "    </tr>\n",
       "    <tr>\n",
       "      <th>6882538</th>\n",
       "      <td>0000</td>\n",
       "      <td>e05db268c5f1e48e5fa63de1f39f02d7</td>\n",
       "      <td>False</td>\n",
       "      <td>False</td>\n",
       "      <td>False</td>\n",
       "      <td>False</td>\n",
       "    </tr>\n",
       "    <tr>\n",
       "      <th>6856130</th>\n",
       "      <td>0001</td>\n",
       "      <td>df81a38177efaac6b95df42ddef504e6</td>\n",
       "      <td>True</td>\n",
       "      <td>False</td>\n",
       "      <td>False</td>\n",
       "      <td>False</td>\n",
       "    </tr>\n",
       "    <tr>\n",
       "      <th>2544324</th>\n",
       "      <td>0001</td>\n",
       "      <td>52eb832b198099b467d39481a77afcef</td>\n",
       "      <td>True</td>\n",
       "      <td>False</td>\n",
       "      <td>False</td>\n",
       "      <td>False</td>\n",
       "    </tr>\n",
       "  </tbody>\n",
       "</table>\n",
       "</div>"
      ],
      "text/plain": [
       "        RtpStateBitfield                 MachineIdentifier  \\\n",
       "7252423             0000  ec6910b4d9e0baae203e9819227659ec   \n",
       "6804872             0000  ddd66992da9cbb12db76d9d874fedf8b   \n",
       "6882538             0000  e05db268c5f1e48e5fa63de1f39f02d7   \n",
       "6856130             0001  df81a38177efaac6b95df42ddef504e6   \n",
       "2544324             0001  52eb832b198099b467d39481a77afcef   \n",
       "\n",
       "         RtpStateBitfield_1  RtpStateBitfield_2  RtpStateBitfield_3  \\\n",
       "7252423               False               False               False   \n",
       "6804872               False               False               False   \n",
       "6882538               False               False               False   \n",
       "6856130                True               False               False   \n",
       "2544324                True               False               False   \n",
       "\n",
       "         RtpStateBitfield_4  \n",
       "7252423               False  \n",
       "6804872               False  \n",
       "6882538               False  \n",
       "6856130               False  \n",
       "2544324               False  "
      ]
     },
     "execution_count": 8,
     "metadata": {},
     "output_type": "execute_result"
    }
   ],
   "source": [
    "test.head()"
   ]
  },
  {
   "cell_type": "code",
   "execution_count": 9,
   "metadata": {
    "ExecuteTime": {
     "end_time": "2019-02-01T15:59:51.050733Z",
     "start_time": "2019-02-01T15:59:51.047424Z"
    }
   },
   "outputs": [
    {
     "data": {
      "text/plain": [
       "6245038"
      ]
     },
     "execution_count": 9,
     "metadata": {},
     "output_type": "execute_result"
    }
   ],
   "source": [
    "val_idx = int(len(train)*.7)\n",
    "val_idx"
   ]
  },
  {
   "cell_type": "code",
   "execution_count": 10,
   "metadata": {
    "ExecuteTime": {
     "end_time": "2019-02-01T21:59:49.302833Z",
     "start_time": "2019-02-01T16:00:47.752655Z"
    }
   },
   "outputs": [
    {
     "name": "stderr",
     "output_type": "stream",
     "text": [
      "RtpStateBitfield_4: 100%|██████████| 5/5 [11:55<00:00, 142.42s/it]  "
     ]
    }
   ],
   "source": [
    "train = train.rename(columns={'RtpStateBitfield':'RtpStateBitfield_str'})\n",
    "test  = test.rename(columns={'RtpStateBitfield':'RtpStateBitfield_str'})\n",
    "\n",
    "pbar = tqdm(total=len(train.columns)-2)\n",
    "\n",
    "for c in train.columns:\n",
    "    if c == 'MachineIdentifier' or c == 'Target':\n",
    "        continue\n",
    "        \n",
    "    pbar.set_description(c)\n",
    "    \n",
    "    train_ = train[['MachineIdentifier', c]].iloc[:val_idx, :]\n",
    "    val_   = train[['MachineIdentifier', c]].iloc[val_idx:, :]\n",
    "    test_  =  test[['MachineIdentifier', c]]\n",
    "    \n",
    "    try:\n",
    "        pipe.upload_feature(c, (train_, val_, test_), overwrite=True)\n",
    "    except ValueError:\n",
    "        pass\n",
    "    \n",
    "    pbar.update(1)"
   ]
  }
 ],
 "metadata": {
  "kernelspec": {
   "display_name": "Python [conda env:dankd]",
   "language": "python",
   "name": "conda-env-dankd-py"
  },
  "language_info": {
   "codemirror_mode": {
    "name": "ipython",
    "version": 3
   },
   "file_extension": ".py",
   "mimetype": "text/x-python",
   "name": "python",
   "nbconvert_exporter": "python",
   "pygments_lexer": "ipython3",
   "version": "3.6.8"
  },
  "varInspector": {
   "cols": {
    "lenName": 16,
    "lenType": 16,
    "lenVar": 40
   },
   "kernels_config": {
    "python": {
     "delete_cmd_postfix": "",
     "delete_cmd_prefix": "del ",
     "library": "var_list.py",
     "varRefreshCmd": "print(var_dic_list())"
    },
    "r": {
     "delete_cmd_postfix": ") ",
     "delete_cmd_prefix": "rm(",
     "library": "var_list.r",
     "varRefreshCmd": "cat(var_dic_list()) "
    }
   },
   "types_to_exclude": [
    "module",
    "function",
    "builtin_function_or_method",
    "instance",
    "_Feature"
   ],
   "window_display": false
  }
 },
 "nbformat": 4,
 "nbformat_minor": 2
}
