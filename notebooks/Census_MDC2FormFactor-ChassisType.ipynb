{
 "cells": [
  {
   "cell_type": "code",
   "execution_count": 1,
   "metadata": {
    "ExecuteTime": {
     "end_time": "2019-02-01T16:19:12.346606Z",
     "start_time": "2019-02-01T16:19:11.188240Z"
    },
    "code_folding": [
     22
    ]
   },
   "outputs": [],
   "source": [
    "import re\n",
    "\n",
    "import numpy as np\n",
    "import pandas as pd\n",
    "from tqdm import tqdm\n",
    "\n",
    "from dankypipe import pipe\n",
    "\n",
    "def isfloat(x):\n",
    "    try:\n",
    "        float(x)\n",
    "        return True\n",
    "    except:\n",
    "        return False\n",
    "    \n",
    "def isint(x):\n",
    "    try:\n",
    "        int(x)\n",
    "        return True\n",
    "    except:\n",
    "        return False\n",
    "    \n",
    "ff_int = {\n",
    "    'invalid':0,\n",
    "    'other':1,\n",
    "    'unkown':2,\n",
    "    'desktop':3,\n",
    "    'lowprofiledesktop':4,\n",
    "    'pizzabox':5,\n",
    "    'minitower':6,\n",
    "    'tower':7,\n",
    "    'portable':8,\n",
    "    'laptop':9,\n",
    "    'notebook':10,\n",
    "    'handheld':11,\n",
    "    'dockingstation':12,\n",
    "    'allinone':13,\n",
    "    'subnotebook':14,\n",
    "    'spacesaving':15,\n",
    "    'lunchbox':16,\n",
    "    'mainserverchassis':17,\n",
    "    'expansionchassis':19,\n",
    "    'subchassis':20,\n",
    "    'busexpansionchassis':21,\n",
    "    'peripheralchassis':22,\n",
    "    'raidchassis':23,\n",
    "    'rackmountchassis':24,\n",
    "    'sealedcasepc':25,\n",
    "    'multisystemchassis':26,\n",
    "    'compactpci':27,\n",
    "    'advancedtca':28,\n",
    "    'blade':29,\n",
    "    'bladeenclosure':30,\n",
    "    'tablet':31,\n",
    "    'convertible':32,\n",
    "    'detachable':33,\n",
    "    'iotgateway':34,\n",
    "    'embeddedpc':35,\n",
    "    'minipc':36,\n",
    "    'stickpc':37\n",
    "}\n",
    "int_ff = { v:k for k, v in ff_int.items() }"
   ]
  },
  {
   "cell_type": "code",
   "execution_count": 2,
   "metadata": {
    "ExecuteTime": {
     "end_time": "2019-02-01T16:19:56.264969Z",
     "start_time": "2019-02-01T16:19:12.350403Z"
    }
   },
   "outputs": [],
   "source": [
    "train = pd.read_pickle('train.pickle').sort_values(by='AvSigVersion')\n",
    "test = pd.read_pickle('test.pickle').sort_values(by='AvSigVersion')\n",
    "\n",
    "train = train.rename(columns={'HasDetections':'Target'})"
   ]
  },
  {
   "cell_type": "code",
   "execution_count": 3,
   "metadata": {
    "ExecuteTime": {
     "end_time": "2019-02-01T16:19:56.275213Z",
     "start_time": "2019-02-01T16:19:56.266639Z"
    },
    "code_folding": []
   },
   "outputs": [],
   "source": [
    "def transform(df):\n",
    "    df = df.copy()\n",
    "    df.Census_ChassisTypeName = df.Census_ChassisTypeName.astype(str).apply(str.lower)\n",
    "    df.Census_MDC2FormFactor = df.Census_MDC2FormFactor.astype(str).apply(str.lower)\n",
    "    \n",
    "    df['Census_MDC2_FormFactor_isValid'] = [\n",
    "        (isint(x) and x in int_ff.keys())  or (isinstance(x, str) and x in ff_int.keys())\n",
    "        for x in tqdm(\n",
    "            df.Census_MDC2FormFactor, \n",
    "            desc='checking for valid ff in form factor'\n",
    "        )\n",
    "    ]\n",
    "\n",
    "    df['Census_ChassisTypeName_isValid'] = [\n",
    "        (isint(x) and x in int_ff.keys()) or (isinstance(x, str) and x in ff_int.keys())\n",
    "        for x in tqdm(\n",
    "            df.Census_ChassisTypeName, \n",
    "            desc='checking for valid ff in chassis type'\n",
    "        )\n",
    "    ]\n",
    "\n",
    "    df.loc[~df.Census_MDC2_FormFactor_isValid, 'Census_MDC2FormFactor']  = 'invalid'\n",
    "    df.loc[~df.Census_ChassisTypeName_isValid, 'Census_ChassisTypeName'] = 'invalid'    \n",
    "\n",
    "    step, subsets = 5, {}\n",
    "    for s in df.Census_MDC2FormFactor.unique():\n",
    "        subsets[s] = {s[i:i+step] for i in range(len(s)-step+1)}\n",
    "        \n",
    "    df['Census_FFMatch'] = [\n",
    "        any([\n",
    "            x in str(z) for x in subsets[y]\n",
    "        ])\n",
    "        for y, z in tqdm(\n",
    "            zip(df.Census_MDC2FormFactor, df.Census_ChassisTypeName), \n",
    "            desc='checking ff matches', \n",
    "            total=len(df)\n",
    "        )\n",
    "    ]\n",
    "    \n",
    "    df.Census_MDC2FormFactor = df.Census_MDC2FormFactor.astype('category')\n",
    "    df.Census_ChassisTypeName = df.Census_ChassisTypeName.astype('category')\n",
    "    return df"
   ]
  },
  {
   "cell_type": "code",
   "execution_count": 4,
   "metadata": {
    "ExecuteTime": {
     "end_time": "2019-02-01T16:19:56.562038Z",
     "start_time": "2019-02-01T16:19:56.278477Z"
    }
   },
   "outputs": [],
   "source": [
    "cols  = ['Census_MDC2FormFactor', 'Census_ChassisTypeName', 'MachineIdentifier']\n",
    "train = train[cols+['Target']]\n",
    "test  = test[cols]"
   ]
  },
  {
   "cell_type": "code",
   "execution_count": 5,
   "metadata": {
    "ExecuteTime": {
     "end_time": "2019-02-01T16:21:04.927212Z",
     "start_time": "2019-02-01T16:19:56.565500Z"
    },
    "scrolled": true
   },
   "outputs": [
    {
     "name": "stderr",
     "output_type": "stream",
     "text": [
      "checking for valid ff in form factor: 100%|██████████| 8921483/8921483 [00:14<00:00, 616050.04it/s]\n",
      "checking for valid ff in chassis type: 100%|██████████| 8921483/8921483 [00:14<00:00, 605302.77it/s]\n",
      "checking ff matches: 100%|██████████| 8921483/8921483 [00:12<00:00, 703480.91it/s]\n"
     ]
    }
   ],
   "source": [
    "train = transform(train)"
   ]
  },
  {
   "cell_type": "code",
   "execution_count": 6,
   "metadata": {
    "ExecuteTime": {
     "end_time": "2019-02-01T16:22:04.249778Z",
     "start_time": "2019-02-01T16:21:04.928728Z"
    },
    "scrolled": true
   },
   "outputs": [
    {
     "name": "stderr",
     "output_type": "stream",
     "text": [
      "checking for valid ff in form factor: 100%|██████████| 7853253/7853253 [00:12<00:00, 618757.16it/s]\n",
      "checking for valid ff in chassis type: 100%|██████████| 7853253/7853253 [00:12<00:00, 620501.97it/s]\n",
      "checking ff matches: 100%|██████████| 7853253/7853253 [00:10<00:00, 714860.01it/s]\n"
     ]
    }
   ],
   "source": [
    "test  = transform(test)"
   ]
  },
  {
   "cell_type": "code",
   "execution_count": 14,
   "metadata": {
    "ExecuteTime": {
     "end_time": "2019-02-01T16:24:50.320519Z",
     "start_time": "2019-02-01T16:24:49.974635Z"
    }
   },
   "outputs": [],
   "source": [
    "train = train.rename(columns={\n",
    "    'Census_MDC2FormFactor':'Census_MDC2FormFactor_validated',\n",
    "    'Census_ChassisTypeName':'Census_ChassisTypeName_validated'\n",
    "})\n",
    "test  = test.rename(columns={\n",
    "    'Census_MDC2FormFactor':'Census_MDC2FormFactor_validated',\n",
    "    'Census_ChassisTypeName':'Census_ChassisTypeName_validated'\n",
    "})"
   ]
  },
  {
   "cell_type": "code",
   "execution_count": 15,
   "metadata": {
    "ExecuteTime": {
     "end_time": "2019-02-01T16:24:56.379558Z",
     "start_time": "2019-02-01T16:24:56.366704Z"
    }
   },
   "outputs": [
    {
     "data": {
      "text/html": [
       "<div>\n",
       "<style scoped>\n",
       "    .dataframe tbody tr th:only-of-type {\n",
       "        vertical-align: middle;\n",
       "    }\n",
       "\n",
       "    .dataframe tbody tr th {\n",
       "        vertical-align: top;\n",
       "    }\n",
       "\n",
       "    .dataframe thead th {\n",
       "        text-align: right;\n",
       "    }\n",
       "</style>\n",
       "<table border=\"1\" class=\"dataframe\">\n",
       "  <thead>\n",
       "    <tr style=\"text-align: right;\">\n",
       "      <th></th>\n",
       "      <th>Census_MDC2FormFactor_validated</th>\n",
       "      <th>Census_ChassisTypeName_validated</th>\n",
       "      <th>MachineIdentifier</th>\n",
       "      <th>Target</th>\n",
       "      <th>Census_MDC2_FormFactor_isValid</th>\n",
       "      <th>Census_ChassisTypeName_isValid</th>\n",
       "      <th>Census_FFMatch</th>\n",
       "    </tr>\n",
       "  </thead>\n",
       "  <tbody>\n",
       "    <tr>\n",
       "      <th>6822125</th>\n",
       "      <td>notebook</td>\n",
       "      <td>notebook</td>\n",
       "      <td>c3c4bc04dc5f1c7245a862e52634428e</td>\n",
       "      <td>0</td>\n",
       "      <td>True</td>\n",
       "      <td>True</td>\n",
       "      <td>True</td>\n",
       "    </tr>\n",
       "    <tr>\n",
       "      <th>7285638</th>\n",
       "      <td>notebook</td>\n",
       "      <td>notebook</td>\n",
       "      <td>d106fcb0c6482265956c05ffbaf60744</td>\n",
       "      <td>0</td>\n",
       "      <td>True</td>\n",
       "      <td>True</td>\n",
       "      <td>True</td>\n",
       "    </tr>\n",
       "    <tr>\n",
       "      <th>5050150</th>\n",
       "      <td>desktop</td>\n",
       "      <td>desktop</td>\n",
       "      <td>90eeb2d77a5f58c0afe71de24f29bb50</td>\n",
       "      <td>0</td>\n",
       "      <td>True</td>\n",
       "      <td>True</td>\n",
       "      <td>True</td>\n",
       "    </tr>\n",
       "    <tr>\n",
       "      <th>165482</th>\n",
       "      <td>desktop</td>\n",
       "      <td>minitower</td>\n",
       "      <td>04c1c463cbb6e2bfae34c4c66fd3242c</td>\n",
       "      <td>0</td>\n",
       "      <td>True</td>\n",
       "      <td>True</td>\n",
       "      <td>False</td>\n",
       "    </tr>\n",
       "    <tr>\n",
       "      <th>735046</th>\n",
       "      <td>desktop</td>\n",
       "      <td>desktop</td>\n",
       "      <td>151dd3600408f025207073d09cbc6d5d</td>\n",
       "      <td>0</td>\n",
       "      <td>True</td>\n",
       "      <td>True</td>\n",
       "      <td>True</td>\n",
       "    </tr>\n",
       "  </tbody>\n",
       "</table>\n",
       "</div>"
      ],
      "text/plain": [
       "        Census_MDC2FormFactor_validated Census_ChassisTypeName_validated  \\\n",
       "6822125                        notebook                         notebook   \n",
       "7285638                        notebook                         notebook   \n",
       "5050150                         desktop                          desktop   \n",
       "165482                          desktop                        minitower   \n",
       "735046                          desktop                          desktop   \n",
       "\n",
       "                        MachineIdentifier  Target  \\\n",
       "6822125  c3c4bc04dc5f1c7245a862e52634428e       0   \n",
       "7285638  d106fcb0c6482265956c05ffbaf60744       0   \n",
       "5050150  90eeb2d77a5f58c0afe71de24f29bb50       0   \n",
       "165482   04c1c463cbb6e2bfae34c4c66fd3242c       0   \n",
       "735046   151dd3600408f025207073d09cbc6d5d       0   \n",
       "\n",
       "         Census_MDC2_FormFactor_isValid  Census_ChassisTypeName_isValid  \\\n",
       "6822125                            True                            True   \n",
       "7285638                            True                            True   \n",
       "5050150                            True                            True   \n",
       "165482                             True                            True   \n",
       "735046                             True                            True   \n",
       "\n",
       "         Census_FFMatch  \n",
       "6822125            True  \n",
       "7285638            True  \n",
       "5050150            True  \n",
       "165482            False  \n",
       "735046             True  "
      ]
     },
     "execution_count": 15,
     "metadata": {},
     "output_type": "execute_result"
    }
   ],
   "source": [
    "train.head()"
   ]
  },
  {
   "cell_type": "code",
   "execution_count": 16,
   "metadata": {
    "ExecuteTime": {
     "end_time": "2019-02-01T16:25:01.904015Z",
     "start_time": "2019-02-01T16:25:01.893795Z"
    }
   },
   "outputs": [
    {
     "data": {
      "text/html": [
       "<div>\n",
       "<style scoped>\n",
       "    .dataframe tbody tr th:only-of-type {\n",
       "        vertical-align: middle;\n",
       "    }\n",
       "\n",
       "    .dataframe tbody tr th {\n",
       "        vertical-align: top;\n",
       "    }\n",
       "\n",
       "    .dataframe thead th {\n",
       "        text-align: right;\n",
       "    }\n",
       "</style>\n",
       "<table border=\"1\" class=\"dataframe\">\n",
       "  <thead>\n",
       "    <tr style=\"text-align: right;\">\n",
       "      <th></th>\n",
       "      <th>Census_MDC2FormFactor_validated</th>\n",
       "      <th>Census_ChassisTypeName_validated</th>\n",
       "      <th>MachineIdentifier</th>\n",
       "      <th>Census_MDC2_FormFactor_isValid</th>\n",
       "      <th>Census_ChassisTypeName_isValid</th>\n",
       "      <th>Census_FFMatch</th>\n",
       "    </tr>\n",
       "  </thead>\n",
       "  <tbody>\n",
       "    <tr>\n",
       "      <th>7252423</th>\n",
       "      <td>notebook</td>\n",
       "      <td>portable</td>\n",
       "      <td>ec6910b4d9e0baae203e9819227659ec</td>\n",
       "      <td>True</td>\n",
       "      <td>True</td>\n",
       "      <td>False</td>\n",
       "    </tr>\n",
       "    <tr>\n",
       "      <th>6804872</th>\n",
       "      <td>desktop</td>\n",
       "      <td>desktop</td>\n",
       "      <td>ddd66992da9cbb12db76d9d874fedf8b</td>\n",
       "      <td>True</td>\n",
       "      <td>True</td>\n",
       "      <td>True</td>\n",
       "    </tr>\n",
       "    <tr>\n",
       "      <th>6882538</th>\n",
       "      <td>allinone</td>\n",
       "      <td>allinone</td>\n",
       "      <td>e05db268c5f1e48e5fa63de1f39f02d7</td>\n",
       "      <td>True</td>\n",
       "      <td>True</td>\n",
       "      <td>True</td>\n",
       "    </tr>\n",
       "    <tr>\n",
       "      <th>6856130</th>\n",
       "      <td>desktop</td>\n",
       "      <td>desktop</td>\n",
       "      <td>df81a38177efaac6b95df42ddef504e6</td>\n",
       "      <td>True</td>\n",
       "      <td>True</td>\n",
       "      <td>True</td>\n",
       "    </tr>\n",
       "    <tr>\n",
       "      <th>2544324</th>\n",
       "      <td>desktop</td>\n",
       "      <td>desktop</td>\n",
       "      <td>52eb832b198099b467d39481a77afcef</td>\n",
       "      <td>True</td>\n",
       "      <td>True</td>\n",
       "      <td>True</td>\n",
       "    </tr>\n",
       "  </tbody>\n",
       "</table>\n",
       "</div>"
      ],
      "text/plain": [
       "        Census_MDC2FormFactor_validated Census_ChassisTypeName_validated  \\\n",
       "7252423                        notebook                         portable   \n",
       "6804872                         desktop                          desktop   \n",
       "6882538                        allinone                         allinone   \n",
       "6856130                         desktop                          desktop   \n",
       "2544324                         desktop                          desktop   \n",
       "\n",
       "                        MachineIdentifier  Census_MDC2_FormFactor_isValid  \\\n",
       "7252423  ec6910b4d9e0baae203e9819227659ec                            True   \n",
       "6804872  ddd66992da9cbb12db76d9d874fedf8b                            True   \n",
       "6882538  e05db268c5f1e48e5fa63de1f39f02d7                            True   \n",
       "6856130  df81a38177efaac6b95df42ddef504e6                            True   \n",
       "2544324  52eb832b198099b467d39481a77afcef                            True   \n",
       "\n",
       "         Census_ChassisTypeName_isValid  Census_FFMatch  \n",
       "7252423                            True           False  \n",
       "6804872                            True            True  \n",
       "6882538                            True            True  \n",
       "6856130                            True            True  \n",
       "2544324                            True            True  "
      ]
     },
     "execution_count": 16,
     "metadata": {},
     "output_type": "execute_result"
    }
   ],
   "source": [
    "test.head()"
   ]
  },
  {
   "cell_type": "code",
   "execution_count": 10,
   "metadata": {
    "ExecuteTime": {
     "end_time": "2019-02-01T16:22:04.517931Z",
     "start_time": "2019-02-01T16:22:04.505628Z"
    }
   },
   "outputs": [
    {
     "data": {
      "text/plain": [
       "6245038"
      ]
     },
     "execution_count": 10,
     "metadata": {},
     "output_type": "execute_result"
    }
   ],
   "source": [
    "val_idx = int(len(train)*.7)\n",
    "val_idx"
   ]
  },
  {
   "cell_type": "code",
   "execution_count": 17,
   "metadata": {
    "ExecuteTime": {
     "end_time": "2019-02-01T22:38:07.787962Z",
     "start_time": "2019-02-01T16:25:25.259632Z"
    }
   },
   "outputs": [
    {
     "name": "stderr",
     "output_type": "stream",
     "text": [
      "Census_FFMatch: 100%|██████████| 5/5 [6:12:42<00:00, 4357.17s/it]                    "
     ]
    }
   ],
   "source": [
    "pbar = tqdm(total=len(train.columns)-2)\n",
    "\n",
    "for c in train.columns:\n",
    "    if c == 'MachineIdentifier' or c == 'Target':\n",
    "        continue\n",
    "        \n",
    "    pbar.set_description(c)\n",
    "    \n",
    "    train_ = train[['MachineIdentifier', c]].iloc[:val_idx, :]\n",
    "    val_   = train[['MachineIdentifier', c]].iloc[val_idx:, :]\n",
    "    test_  =  test[['MachineIdentifier', c]]\n",
    "    \n",
    "    try:\n",
    "        pipe.upload_feature(c, (train_, val_, test_))\n",
    "    except ValueError:\n",
    "        pass\n",
    "    \n",
    "    pbar.update(1)"
   ]
  }
 ],
 "metadata": {
  "kernelspec": {
   "display_name": "Python [conda env:dankd]",
   "language": "python",
   "name": "conda-env-dankd-py"
  },
  "language_info": {
   "codemirror_mode": {
    "name": "ipython",
    "version": 3
   },
   "file_extension": ".py",
   "mimetype": "text/x-python",
   "name": "python",
   "nbconvert_exporter": "python",
   "pygments_lexer": "ipython3",
   "version": "3.7.2"
  },
  "varInspector": {
   "cols": {
    "lenName": 16,
    "lenType": 16,
    "lenVar": 40
   },
   "kernels_config": {
    "python": {
     "delete_cmd_postfix": "",
     "delete_cmd_prefix": "del ",
     "library": "var_list.py",
     "varRefreshCmd": "print(var_dic_list())"
    },
    "r": {
     "delete_cmd_postfix": ") ",
     "delete_cmd_prefix": "rm(",
     "library": "var_list.r",
     "varRefreshCmd": "cat(var_dic_list()) "
    }
   },
   "types_to_exclude": [
    "module",
    "function",
    "builtin_function_or_method",
    "instance",
    "_Feature"
   ],
   "window_display": false
  }
 },
 "nbformat": 4,
 "nbformat_minor": 2
}
