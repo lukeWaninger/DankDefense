{
 "cells": [
  {
   "cell_type": "code",
   "execution_count": 1,
   "metadata": {
    "ExecuteTime": {
     "end_time": "2019-02-01T16:19:12.346606Z",
     "start_time": "2019-02-01T16:19:11.188240Z"
    },
    "code_folding": [
     22
    ]
   },
   "outputs": [],
   "source": [
    "import re\n",
    "\n",
    "import numpy as np\n",
    "import pandas as pd\n",
    "from tqdm import tqdm\n",
    "\n",
    "from dankypipe import pipe\n",
    "\n",
    "tqdm.pandas()\n",
    "\n",
    "def isfloat(x):\n",
    "    try:\n",
    "        float(x)\n",
    "        return True\n",
    "    except:\n",
    "        return False\n",
    "    \n",
    "def isint(x):\n",
    "    try:\n",
    "        int(x)\n",
    "        return True\n",
    "    except:\n",
    "        return False"
   ]
  },
  {
   "cell_type": "code",
   "execution_count": 2,
   "metadata": {
    "ExecuteTime": {
     "end_time": "2019-02-01T16:19:56.264969Z",
     "start_time": "2019-02-01T16:19:12.350403Z"
    }
   },
   "outputs": [],
   "source": [
    "train = pd.read_pickle('train.pickle').sort_values(by='AvSigVersion')\n",
    "test = pd.read_pickle('test.pickle').sort_values(by='AvSigVersion')\n",
    "\n",
    "train = train.rename(columns={'HasDetections':'Target'})\n",
    "\n",
    "cols = ['Census_OSBranch', 'OsPlatformSubRelease', 'MachineIdentifier']\n",
    "train = train.reindex(columns=cols+['Target'])\n",
    "test = test.reindex(columns=cols)"
   ]
  },
  {
   "cell_type": "markdown",
   "metadata": {},
   "source": [
    "I first replace any non-alphanumeric characters and then group the outlying minor battery types into one category - 'others'.\n",
    "\n",
    "I want to take a closer look at https://batteryuniversity.com/learn/article/types_of_battery_cells and estimate a device lifespan"
   ]
  },
  {
   "cell_type": "code",
   "execution_count": 3,
   "metadata": {},
   "outputs": [],
   "source": [
    "def transform(df):\n",
    "    def branch_ver(x):\n",
    "        m = re.search(r'[0-9_]', x)\n",
    "        idx = m.span()[0] if m is not None else len(x)\n",
    "        return x[:idx]\n",
    "\n",
    "    t = df[['Census_OSBranch', 'OsPlatformSubRelease']].copy()\n",
    "    t.columns = ['branch', 'subrel']\n",
    "\n",
    "    t.branch = t.branch.apply(lambda x: x.replace('release', ''))\n",
    "    t['branch_ver'] = [branch_ver(x) for x in t.branch]\n",
    "    t['subrel_ver'] = [branch_ver(x) for x in t.subrel]\n",
    "\n",
    "    t['subrel_ver_num'] = [re.sub(r'[^0-9.]', '', c) for c in t.subrel]\n",
    "    t['subrel_ver_num'] = [\n",
    "        np.round(float(x), 1) if isfloat(x) else np.nan for x in t.subrel_ver_num\n",
    "    ]\n",
    "\n",
    "    t['branch_release_num'] = [re.sub(r'[^0-9.]', '', c) for c in t.branch] \n",
    "    t['branch_release_num'] = [\n",
    "        np.round(float(x[0]), 1) if len(x) > 0 and isfloat(x[0]) else np.nan for x in t.branch_release_num\n",
    "    ]\n",
    "\n",
    "    t['is_svc_release'] = ['svc' in c for c in t.branch]\n",
    "    t['is_escrow_release'] = ['escrow' in c for c in t.branch]\n",
    "    t['is_sec_release'] = ['sec' in c for c in t.branch]\n",
    "    t['is_st1_release'] = ['st1' in c for c in t.branch]\n",
    "    t['is_prerelease'] = ['pre' in c for c in t.branch]\n",
    "    t['is_special_release'] = [\n",
    "        any([y in c for y in ['flt', 'sigma', 'edge']]) \n",
    "        for c in t.branch\n",
    "    ]\n",
    "\n",
    "    t.loc[t.subrel_ver == 'prers', 'is_prerelease'] = True\n",
    "    t.loc[t.subrel_ver == 'prers', 'subrel_ver'] = 'rs'\n",
    "\n",
    "    t.loc[['win' in c for c in t.branch_ver], 'branch_ver'] = 'win'\n",
    "\n",
    "    t.loc[t.branch_release_num.isnull(), 'branch_release_num'] = 0\n",
    "\n",
    "    t.drop(columns=['branch', 'subrel'], inplace=True)\n",
    "    t.head()\n",
    "    t.branch_ver.value_counts()\n",
    "    t.subrel_ver.value_counts()\n",
    "\n",
    "    for c in t.columns:\n",
    "        df[c] = t[c]\n",
    "\n",
    "    df = df.drop(columns=['Census_OSBranch', 'OsPlatformSubRelease'])\n",
    "    \n",
    "    return df\n",
    "\n",
    "train = transform(train)\n",
    "test = transform(test)"
   ]
  },
  {
   "cell_type": "code",
   "execution_count": 4,
   "metadata": {},
   "outputs": [],
   "source": [
    "avsig = pipe.download_feature('AvSigVersion_float', cache=True)\n",
    "avsig_combined = pd.concat([avsig['train'], avsig['validate']], sort=False).sort_values(by='AvSigVersion_float')\n",
    "\n",
    "train_ = train.merge(avsig_combined, on='MachineIdentifier', how='inner', sort=False)\n",
    "assert len(train_) == len(train)\n",
    "\n",
    "train = train_\n",
    "del train_\n",
    "\n",
    "train = train.sort_values(by='AvSigVersion_float').drop(columns='AvSigVersion_float')"
   ]
  },
  {
   "cell_type": "code",
   "execution_count": 5,
   "metadata": {
    "ExecuteTime": {
     "end_time": "2019-02-01T16:24:56.379558Z",
     "start_time": "2019-02-01T16:24:56.366704Z"
    }
   },
   "outputs": [
    {
     "data": {
      "text/html": [
       "<div>\n",
       "<style scoped>\n",
       "    .dataframe tbody tr th:only-of-type {\n",
       "        vertical-align: middle;\n",
       "    }\n",
       "\n",
       "    .dataframe tbody tr th {\n",
       "        vertical-align: top;\n",
       "    }\n",
       "\n",
       "    .dataframe thead th {\n",
       "        text-align: right;\n",
       "    }\n",
       "</style>\n",
       "<table border=\"1\" class=\"dataframe\">\n",
       "  <thead>\n",
       "    <tr style=\"text-align: right;\">\n",
       "      <th></th>\n",
       "      <th>MachineIdentifier</th>\n",
       "      <th>Target</th>\n",
       "      <th>branch_ver</th>\n",
       "      <th>subrel_ver</th>\n",
       "      <th>subrel_ver_num</th>\n",
       "      <th>branch_release_num</th>\n",
       "      <th>is_svc_release</th>\n",
       "      <th>is_escrow_release</th>\n",
       "      <th>is_sec_release</th>\n",
       "      <th>is_st1_release</th>\n",
       "      <th>is_prerelease</th>\n",
       "      <th>is_special_release</th>\n",
       "    </tr>\n",
       "  </thead>\n",
       "  <tbody>\n",
       "    <tr>\n",
       "      <th>0</th>\n",
       "      <td>c3c4bc04dc5f1c7245a862e52634428e</td>\n",
       "      <td>0</td>\n",
       "      <td>th</td>\n",
       "      <td>th</td>\n",
       "      <td>2.0</td>\n",
       "      <td>2.0</td>\n",
       "      <td>False</td>\n",
       "      <td>False</td>\n",
       "      <td>True</td>\n",
       "      <td>False</td>\n",
       "      <td>False</td>\n",
       "      <td>False</td>\n",
       "    </tr>\n",
       "    <tr>\n",
       "      <th>37</th>\n",
       "      <td>60031444d3ec616c6e9084be521faa04</td>\n",
       "      <td>0</td>\n",
       "      <td>rs</td>\n",
       "      <td>rs</td>\n",
       "      <td>4.0</td>\n",
       "      <td>4.0</td>\n",
       "      <td>False</td>\n",
       "      <td>False</td>\n",
       "      <td>False</td>\n",
       "      <td>False</td>\n",
       "      <td>False</td>\n",
       "      <td>False</td>\n",
       "    </tr>\n",
       "    <tr>\n",
       "      <th>38</th>\n",
       "      <td>d938abff6012c1488b851247a3098160</td>\n",
       "      <td>0</td>\n",
       "      <td>rs</td>\n",
       "      <td>rs</td>\n",
       "      <td>4.0</td>\n",
       "      <td>4.0</td>\n",
       "      <td>False</td>\n",
       "      <td>False</td>\n",
       "      <td>False</td>\n",
       "      <td>False</td>\n",
       "      <td>False</td>\n",
       "      <td>False</td>\n",
       "    </tr>\n",
       "    <tr>\n",
       "      <th>39</th>\n",
       "      <td>910ddd20c6d334ca03a46d9f0008fe24</td>\n",
       "      <td>1</td>\n",
       "      <td>rs</td>\n",
       "      <td>rs</td>\n",
       "      <td>4.0</td>\n",
       "      <td>4.0</td>\n",
       "      <td>False</td>\n",
       "      <td>False</td>\n",
       "      <td>False</td>\n",
       "      <td>False</td>\n",
       "      <td>False</td>\n",
       "      <td>False</td>\n",
       "    </tr>\n",
       "    <tr>\n",
       "      <th>40</th>\n",
       "      <td>5e05d22ab9db72ccbc8e41d4bc632f64</td>\n",
       "      <td>0</td>\n",
       "      <td>th</td>\n",
       "      <td>th</td>\n",
       "      <td>1.0</td>\n",
       "      <td>1.0</td>\n",
       "      <td>False</td>\n",
       "      <td>False</td>\n",
       "      <td>False</td>\n",
       "      <td>True</td>\n",
       "      <td>False</td>\n",
       "      <td>False</td>\n",
       "    </tr>\n",
       "  </tbody>\n",
       "</table>\n",
       "</div>"
      ],
      "text/plain": [
       "                   MachineIdentifier  Target branch_ver subrel_ver  \\\n",
       "0   c3c4bc04dc5f1c7245a862e52634428e       0         th         th   \n",
       "37  60031444d3ec616c6e9084be521faa04       0         rs         rs   \n",
       "38  d938abff6012c1488b851247a3098160       0         rs         rs   \n",
       "39  910ddd20c6d334ca03a46d9f0008fe24       1         rs         rs   \n",
       "40  5e05d22ab9db72ccbc8e41d4bc632f64       0         th         th   \n",
       "\n",
       "    subrel_ver_num  branch_release_num  is_svc_release  is_escrow_release  \\\n",
       "0              2.0                 2.0           False              False   \n",
       "37             4.0                 4.0           False              False   \n",
       "38             4.0                 4.0           False              False   \n",
       "39             4.0                 4.0           False              False   \n",
       "40             1.0                 1.0           False              False   \n",
       "\n",
       "    is_sec_release  is_st1_release  is_prerelease  is_special_release  \n",
       "0             True           False          False               False  \n",
       "37           False           False          False               False  \n",
       "38           False           False          False               False  \n",
       "39           False           False          False               False  \n",
       "40           False            True          False               False  "
      ]
     },
     "execution_count": 5,
     "metadata": {},
     "output_type": "execute_result"
    }
   ],
   "source": [
    "train.head()"
   ]
  },
  {
   "cell_type": "code",
   "execution_count": 6,
   "metadata": {
    "ExecuteTime": {
     "end_time": "2019-02-01T16:25:01.904015Z",
     "start_time": "2019-02-01T16:25:01.893795Z"
    }
   },
   "outputs": [
    {
     "data": {
      "text/html": [
       "<div>\n",
       "<style scoped>\n",
       "    .dataframe tbody tr th:only-of-type {\n",
       "        vertical-align: middle;\n",
       "    }\n",
       "\n",
       "    .dataframe tbody tr th {\n",
       "        vertical-align: top;\n",
       "    }\n",
       "\n",
       "    .dataframe thead th {\n",
       "        text-align: right;\n",
       "    }\n",
       "</style>\n",
       "<table border=\"1\" class=\"dataframe\">\n",
       "  <thead>\n",
       "    <tr style=\"text-align: right;\">\n",
       "      <th></th>\n",
       "      <th>MachineIdentifier</th>\n",
       "      <th>branch_ver</th>\n",
       "      <th>subrel_ver</th>\n",
       "      <th>subrel_ver_num</th>\n",
       "      <th>branch_release_num</th>\n",
       "      <th>is_svc_release</th>\n",
       "      <th>is_escrow_release</th>\n",
       "      <th>is_sec_release</th>\n",
       "      <th>is_st1_release</th>\n",
       "      <th>is_prerelease</th>\n",
       "      <th>is_special_release</th>\n",
       "    </tr>\n",
       "  </thead>\n",
       "  <tbody>\n",
       "    <tr>\n",
       "      <th>7252423</th>\n",
       "      <td>ec6910b4d9e0baae203e9819227659ec</td>\n",
       "      <td>rs</td>\n",
       "      <td>rs</td>\n",
       "      <td>4.0</td>\n",
       "      <td>4.0</td>\n",
       "      <td>False</td>\n",
       "      <td>False</td>\n",
       "      <td>False</td>\n",
       "      <td>False</td>\n",
       "      <td>False</td>\n",
       "      <td>False</td>\n",
       "    </tr>\n",
       "    <tr>\n",
       "      <th>6804872</th>\n",
       "      <td>ddd66992da9cbb12db76d9d874fedf8b</td>\n",
       "      <td>rs</td>\n",
       "      <td>rs</td>\n",
       "      <td>4.0</td>\n",
       "      <td>4.0</td>\n",
       "      <td>False</td>\n",
       "      <td>False</td>\n",
       "      <td>False</td>\n",
       "      <td>False</td>\n",
       "      <td>False</td>\n",
       "      <td>False</td>\n",
       "    </tr>\n",
       "    <tr>\n",
       "      <th>6882538</th>\n",
       "      <td>e05db268c5f1e48e5fa63de1f39f02d7</td>\n",
       "      <td>rs</td>\n",
       "      <td>rs</td>\n",
       "      <td>4.0</td>\n",
       "      <td>4.0</td>\n",
       "      <td>False</td>\n",
       "      <td>False</td>\n",
       "      <td>False</td>\n",
       "      <td>False</td>\n",
       "      <td>False</td>\n",
       "      <td>False</td>\n",
       "    </tr>\n",
       "    <tr>\n",
       "      <th>6856130</th>\n",
       "      <td>df81a38177efaac6b95df42ddef504e6</td>\n",
       "      <td>rs</td>\n",
       "      <td>rs</td>\n",
       "      <td>4.0</td>\n",
       "      <td>4.0</td>\n",
       "      <td>False</td>\n",
       "      <td>False</td>\n",
       "      <td>False</td>\n",
       "      <td>False</td>\n",
       "      <td>False</td>\n",
       "      <td>False</td>\n",
       "    </tr>\n",
       "    <tr>\n",
       "      <th>2544324</th>\n",
       "      <td>52eb832b198099b467d39481a77afcef</td>\n",
       "      <td>rs</td>\n",
       "      <td>rs</td>\n",
       "      <td>5.0</td>\n",
       "      <td>5.0</td>\n",
       "      <td>False</td>\n",
       "      <td>False</td>\n",
       "      <td>False</td>\n",
       "      <td>False</td>\n",
       "      <td>True</td>\n",
       "      <td>False</td>\n",
       "    </tr>\n",
       "  </tbody>\n",
       "</table>\n",
       "</div>"
      ],
      "text/plain": [
       "                        MachineIdentifier branch_ver subrel_ver  \\\n",
       "7252423  ec6910b4d9e0baae203e9819227659ec         rs         rs   \n",
       "6804872  ddd66992da9cbb12db76d9d874fedf8b         rs         rs   \n",
       "6882538  e05db268c5f1e48e5fa63de1f39f02d7         rs         rs   \n",
       "6856130  df81a38177efaac6b95df42ddef504e6         rs         rs   \n",
       "2544324  52eb832b198099b467d39481a77afcef         rs         rs   \n",
       "\n",
       "         subrel_ver_num  branch_release_num  is_svc_release  \\\n",
       "7252423             4.0                 4.0           False   \n",
       "6804872             4.0                 4.0           False   \n",
       "6882538             4.0                 4.0           False   \n",
       "6856130             4.0                 4.0           False   \n",
       "2544324             5.0                 5.0           False   \n",
       "\n",
       "         is_escrow_release  is_sec_release  is_st1_release  is_prerelease  \\\n",
       "7252423              False           False           False          False   \n",
       "6804872              False           False           False          False   \n",
       "6882538              False           False           False          False   \n",
       "6856130              False           False           False          False   \n",
       "2544324              False           False           False           True   \n",
       "\n",
       "         is_special_release  \n",
       "7252423               False  \n",
       "6804872               False  \n",
       "6882538               False  \n",
       "6856130               False  \n",
       "2544324               False  "
      ]
     },
     "execution_count": 6,
     "metadata": {},
     "output_type": "execute_result"
    }
   ],
   "source": [
    "test.head()"
   ]
  },
  {
   "cell_type": "code",
   "execution_count": 7,
   "metadata": {
    "ExecuteTime": {
     "end_time": "2019-02-01T16:22:04.517931Z",
     "start_time": "2019-02-01T16:22:04.505628Z"
    }
   },
   "outputs": [
    {
     "data": {
      "text/plain": [
       "6245038"
      ]
     },
     "execution_count": 7,
     "metadata": {},
     "output_type": "execute_result"
    }
   ],
   "source": [
    "val_idx = int(len(train)*.7)\n",
    "val_idx"
   ]
  },
  {
   "cell_type": "code",
   "execution_count": 8,
   "metadata": {
    "ExecuteTime": {
     "end_time": "2019-02-01T22:38:07.787962Z",
     "start_time": "2019-02-01T16:25:25.259632Z"
    }
   },
   "outputs": [
    {
     "name": "stderr",
     "output_type": "stream",
     "text": [
      "is_special_release: 100%|██████████| 10/10 [21:07<00:00, 123.24s/it]"
     ]
    }
   ],
   "source": [
    "pbar = tqdm(total=len(train.columns)-2)\n",
    "\n",
    "for c in train.columns:\n",
    "    if c == 'MachineIdentifier' or c == 'Target':\n",
    "        continue\n",
    "        \n",
    "    pbar.set_description(c)\n",
    "    \n",
    "    train_ = train[['MachineIdentifier', c]].iloc[:val_idx, :]\n",
    "    val_   = train[['MachineIdentifier', c]].iloc[val_idx:, :]\n",
    "    test_  =  test[['MachineIdentifier', c]]\n",
    "    \n",
    "    try:\n",
    "        pipe.upload_feature(c, (train_, val_, test_), overwrite=True)\n",
    "    except ValueError:\n",
    "        pass\n",
    "    \n",
    "    pbar.update(1)"
   ]
  }
 ],
 "metadata": {
  "kernelspec": {
   "display_name": "Python [conda env:dankd]",
   "language": "python",
   "name": "conda-env-dankd-py"
  },
  "language_info": {
   "codemirror_mode": {
    "name": "ipython",
    "version": 3
   },
   "file_extension": ".py",
   "mimetype": "text/x-python",
   "name": "python",
   "nbconvert_exporter": "python",
   "pygments_lexer": "ipython3",
   "version": "3.6.8"
  },
  "varInspector": {
   "cols": {
    "lenName": 16,
    "lenType": 16,
    "lenVar": 40
   },
   "kernels_config": {
    "python": {
     "delete_cmd_postfix": "",
     "delete_cmd_prefix": "del ",
     "library": "var_list.py",
     "varRefreshCmd": "print(var_dic_list())"
    },
    "r": {
     "delete_cmd_postfix": ") ",
     "delete_cmd_prefix": "rm(",
     "library": "var_list.r",
     "varRefreshCmd": "cat(var_dic_list()) "
    }
   },
   "types_to_exclude": [
    "module",
    "function",
    "builtin_function_or_method",
    "instance",
    "_Feature"
   ],
   "window_display": false
  }
 },
 "nbformat": 4,
 "nbformat_minor": 2
}
