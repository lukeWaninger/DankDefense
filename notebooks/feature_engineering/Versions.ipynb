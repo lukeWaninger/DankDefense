{
 "cells": [
  {
   "cell_type": "code",
   "execution_count": 1,
   "metadata": {
    "ExecuteTime": {
     "end_time": "2019-02-01T16:33:19.818474Z",
     "start_time": "2019-02-01T16:33:18.621067Z"
    }
   },
   "outputs": [],
   "source": [
    "import re\n",
    "\n",
    "import multiprocessing as mul\n",
    "from multiprocessing.dummy import Pool\n",
    "import numpy as np\n",
    "import pandas as pd\n",
    "from tqdm import tqdm\n",
    "\n",
    "from dankypipe import pipe\n",
    "\n",
    "tqdm.pandas()\n",
    "\n",
    "def isfloat(x):\n",
    "    try:\n",
    "        float(x)\n",
    "        return True\n",
    "    except:\n",
    "        return False\n",
    "    \n",
    "def isint(x):\n",
    "    try:\n",
    "        int(x)\n",
    "        return True\n",
    "    except:\n",
    "        return False"
   ]
  },
  {
   "cell_type": "code",
   "execution_count": 2,
   "metadata": {
    "ExecuteTime": {
     "end_time": "2019-02-01T16:34:04.996949Z",
     "start_time": "2019-02-01T16:33:21.249266Z"
    }
   },
   "outputs": [],
   "source": [
    "train = pd.read_pickle('train.pickle').sort_values(by='AvSigVersion')\n",
    "test = pd.read_pickle('test.pickle').sort_values(by='AvSigVersion')\n",
    "\n",
    "train = train.rename(columns={'HasDetections':'Target'})"
   ]
  },
  {
   "cell_type": "code",
   "execution_count": 3,
   "metadata": {
    "ExecuteTime": {
     "end_time": "2019-02-01T16:45:49.680768Z",
     "start_time": "2019-02-01T16:45:49.619852Z"
    },
    "code_folding": [
     2
    ]
   },
   "outputs": [],
   "source": [
    "def transform(df):\n",
    "    df = df.copy()\n",
    "    df['MajorEngineVersion'] = df.EngineVersion.apply(lambda x: int(x.split('.')[2]))\n",
    "    df['MinorEngineVersion'] = df.EngineVersion.apply(lambda x: int(x.split('.')[3]))\n",
    "    df['EngineVersion_float'] = df.EngineVersion.apply(lambda x: float('.'.join(x.split('.')[2:])))\n",
    "\n",
    "    df['MajorAppVersion'] = df.AppVersion.apply(lambda x: int(x.split('.')[1]))\n",
    "    df['MinorAppVersion'] = df.AppVersion.apply(lambda x: x.split('.')[2])\n",
    "\n",
    "    mlen = np.max([len(v) for v in df['MinorAppVersion']])\n",
    "    df['MinorAppVersion'] = df.MinorAppVersion.apply(lambda x: int(f'1{x.zfill(mlen)}'))\n",
    "\n",
    "    df['FinestAppVersion'] = df.AppVersion.apply(lambda x: x.split('.')[3])\n",
    "\n",
    "    mlen = np.max([len(v) for v in df['FinestAppVersion']])\n",
    "    df['FinestAppVersion'] = df.FinestAppVersion.apply(lambda x: int(f'1{x.zfill(mlen)}'))\n",
    "\n",
    "    df['AppVersion_float'] = [\n",
    "        float(f'{t[0]}.{t[1]}{t[2]}') for t in df[\n",
    "            ['MajorAppVersion', 'MinorAppVersion', 'FinestAppVersion']\n",
    "        ].itertuples()\n",
    "    ]\n",
    "    \n",
    "    def intx(x, i):\n",
    "        x = x.split('.')[i]\n",
    "        return int(x) if isint(x) else np.nan\n",
    "    \n",
    "    def floatx(x, i, j=None):\n",
    "        if j is not None:\n",
    "            x = '.'.join(x.split('.')[i:j])\n",
    "        else:\n",
    "             x = '.'.join(x.split('.')[i:])\n",
    "                          \n",
    "        return float(x) if isfloat(x) else np.nan\n",
    "    \n",
    "    \n",
    "    df['MajorAvSigVersion'] = df.AvSigVersion.apply(intx, i=1)\n",
    "    df['MinorAvSigVersion'] = df.AvSigVersion.apply(intx, i=2)\n",
    "    df['AvSigVersion_float'] = df.AvSigVersion.apply(floatx, i=1, j=3)\n",
    "\n",
    "    df['Census_MajorOSVersion'] = df.Census_OSVersion.apply(intx, i=2)\n",
    "    df['Census_MinorOSVersion'] = df.Census_OSVersion.apply(intx, i=3)\n",
    "    df['Census_OSVersion_float'] = df.Census_OSVersion.apply(floatx, i=2)\n",
    "    \n",
    "    return df"
   ]
  },
  {
   "cell_type": "code",
   "execution_count": 4,
   "metadata": {
    "ExecuteTime": {
     "end_time": "2019-02-01T16:34:18.617662Z",
     "start_time": "2019-02-01T16:34:18.321540Z"
    }
   },
   "outputs": [],
   "source": [
    "cols  = ['EngineVersion', 'AppVersion', 'AvSigVersion', 'Census_OSVersion', 'MachineIdentifier']\n",
    "train = train[cols+['Target']]\n",
    "test  = test[cols]"
   ]
  },
  {
   "cell_type": "code",
   "execution_count": 5,
   "metadata": {
    "ExecuteTime": {
     "end_time": "2019-02-01T16:47:11.807172Z",
     "start_time": "2019-02-01T16:45:57.676008Z"
    }
   },
   "outputs": [],
   "source": [
    "train = transform(train)\n",
    "test  = transform(test)"
   ]
  },
  {
   "cell_type": "code",
   "execution_count": 6,
   "metadata": {
    "ExecuteTime": {
     "end_time": "2019-02-01T16:50:24.485703Z",
     "start_time": "2019-02-01T16:50:21.140598Z"
    }
   },
   "outputs": [],
   "source": [
    "train.drop(columns=['EngineVersion', 'AppVersion', 'Census_OSVersion', 'AvSigVersion'], inplace=True, errors='ignore')\n",
    "test.drop(columns=['EngineVersion', 'AppVersion', 'Census_OSVersion', 'AvSigVersion'], inplace=True, errors='ignore')"
   ]
  },
  {
   "cell_type": "code",
   "execution_count": 7,
   "metadata": {},
   "outputs": [],
   "source": [
    "train = train.sort_values(by='AvSigVersion_float')\n",
    "test  = test.sort_values(by='AvSigVersion_float')"
   ]
  },
  {
   "cell_type": "code",
   "execution_count": 8,
   "metadata": {
    "ExecuteTime": {
     "end_time": "2019-02-01T16:50:30.659982Z",
     "start_time": "2019-02-01T16:50:30.645050Z"
    }
   },
   "outputs": [
    {
     "data": {
      "text/html": [
       "<div>\n",
       "<style scoped>\n",
       "    .dataframe tbody tr th:only-of-type {\n",
       "        vertical-align: middle;\n",
       "    }\n",
       "\n",
       "    .dataframe tbody tr th {\n",
       "        vertical-align: top;\n",
       "    }\n",
       "\n",
       "    .dataframe thead th {\n",
       "        text-align: right;\n",
       "    }\n",
       "</style>\n",
       "<table border=\"1\" class=\"dataframe\">\n",
       "  <thead>\n",
       "    <tr style=\"text-align: right;\">\n",
       "      <th></th>\n",
       "      <th>MachineIdentifier</th>\n",
       "      <th>Target</th>\n",
       "      <th>MajorEngineVersion</th>\n",
       "      <th>MinorEngineVersion</th>\n",
       "      <th>EngineVersion_float</th>\n",
       "      <th>MajorAppVersion</th>\n",
       "      <th>MinorAppVersion</th>\n",
       "      <th>FinestAppVersion</th>\n",
       "      <th>AppVersion_float</th>\n",
       "      <th>MajorAvSigVersion</th>\n",
       "      <th>MinorAvSigVersion</th>\n",
       "      <th>AvSigVersion_float</th>\n",
       "      <th>Census_MajorOSVersion</th>\n",
       "      <th>Census_MinorOSVersion</th>\n",
       "      <th>Census_OSVersion_float</th>\n",
       "    </tr>\n",
       "  </thead>\n",
       "  <tbody>\n",
       "    <tr>\n",
       "      <th>6822125</th>\n",
       "      <td>c3c4bc04dc5f1c7245a862e52634428e</td>\n",
       "      <td>0</td>\n",
       "      <td>15100</td>\n",
       "      <td>1</td>\n",
       "      <td>15100.1</td>\n",
       "      <td>9</td>\n",
       "      <td>110586</td>\n",
       "      <td>101106</td>\n",
       "      <td>6.822126e+06</td>\n",
       "      <td>0.0</td>\n",
       "      <td>0</td>\n",
       "      <td>0.0</td>\n",
       "      <td>10586</td>\n",
       "      <td>1176</td>\n",
       "      <td>10586.11760</td>\n",
       "    </tr>\n",
       "    <tr>\n",
       "      <th>3345950</th>\n",
       "      <td>60031444d3ec616c6e9084be521faa04</td>\n",
       "      <td>0</td>\n",
       "      <td>15200</td>\n",
       "      <td>1</td>\n",
       "      <td>15200.1</td>\n",
       "      <td>13</td>\n",
       "      <td>117134</td>\n",
       "      <td>100001</td>\n",
       "      <td>3.345950e+06</td>\n",
       "      <td>0.0</td>\n",
       "      <td>0</td>\n",
       "      <td>0.0</td>\n",
       "      <td>17134</td>\n",
       "      <td>1</td>\n",
       "      <td>17134.10000</td>\n",
       "    </tr>\n",
       "    <tr>\n",
       "      <th>7570941</th>\n",
       "      <td>d938abff6012c1488b851247a3098160</td>\n",
       "      <td>0</td>\n",
       "      <td>14600</td>\n",
       "      <td>4</td>\n",
       "      <td>14600.4</td>\n",
       "      <td>13</td>\n",
       "      <td>117134</td>\n",
       "      <td>100228</td>\n",
       "      <td>7.570941e+06</td>\n",
       "      <td>0.0</td>\n",
       "      <td>0</td>\n",
       "      <td>0.0</td>\n",
       "      <td>17134</td>\n",
       "      <td>285</td>\n",
       "      <td>17134.28500</td>\n",
       "    </tr>\n",
       "    <tr>\n",
       "      <th>5054364</th>\n",
       "      <td>910ddd20c6d334ca03a46d9f0008fe24</td>\n",
       "      <td>1</td>\n",
       "      <td>14306</td>\n",
       "      <td>0</td>\n",
       "      <td>14306.0</td>\n",
       "      <td>13</td>\n",
       "      <td>117134</td>\n",
       "      <td>100228</td>\n",
       "      <td>5.054364e+06</td>\n",
       "      <td>0.0</td>\n",
       "      <td>0</td>\n",
       "      <td>0.0</td>\n",
       "      <td>17134</td>\n",
       "      <td>228</td>\n",
       "      <td>17134.22800</td>\n",
       "    </tr>\n",
       "    <tr>\n",
       "      <th>3277045</th>\n",
       "      <td>5e05d22ab9db72ccbc8e41d4bc632f64</td>\n",
       "      <td>0</td>\n",
       "      <td>15200</td>\n",
       "      <td>1</td>\n",
       "      <td>15200.1</td>\n",
       "      <td>8</td>\n",
       "      <td>110240</td>\n",
       "      <td>117443</td>\n",
       "      <td>3.277046e+06</td>\n",
       "      <td>0.0</td>\n",
       "      <td>0</td>\n",
       "      <td>0.0</td>\n",
       "      <td>10240</td>\n",
       "      <td>17443</td>\n",
       "      <td>10240.17443</td>\n",
       "    </tr>\n",
       "  </tbody>\n",
       "</table>\n",
       "</div>"
      ],
      "text/plain": [
       "                        MachineIdentifier  Target  MajorEngineVersion  \\\n",
       "6822125  c3c4bc04dc5f1c7245a862e52634428e       0               15100   \n",
       "3345950  60031444d3ec616c6e9084be521faa04       0               15200   \n",
       "7570941  d938abff6012c1488b851247a3098160       0               14600   \n",
       "5054364  910ddd20c6d334ca03a46d9f0008fe24       1               14306   \n",
       "3277045  5e05d22ab9db72ccbc8e41d4bc632f64       0               15200   \n",
       "\n",
       "         MinorEngineVersion EngineVersion_float  MajorAppVersion  \\\n",
       "6822125                   1             15100.1                9   \n",
       "3345950                   1             15200.1               13   \n",
       "7570941                   4             14600.4               13   \n",
       "5054364                   0             14306.0               13   \n",
       "3277045                   1             15200.1                8   \n",
       "\n",
       "         MinorAppVersion  FinestAppVersion  AppVersion_float  \\\n",
       "6822125           110586            101106      6.822126e+06   \n",
       "3345950           117134            100001      3.345950e+06   \n",
       "7570941           117134            100228      7.570941e+06   \n",
       "5054364           117134            100228      5.054364e+06   \n",
       "3277045           110240            117443      3.277046e+06   \n",
       "\n",
       "         MajorAvSigVersion  MinorAvSigVersion  AvSigVersion_float  \\\n",
       "6822125                0.0                  0                 0.0   \n",
       "3345950                0.0                  0                 0.0   \n",
       "7570941                0.0                  0                 0.0   \n",
       "5054364                0.0                  0                 0.0   \n",
       "3277045                0.0                  0                 0.0   \n",
       "\n",
       "         Census_MajorOSVersion  Census_MinorOSVersion  Census_OSVersion_float  \n",
       "6822125                  10586                   1176             10586.11760  \n",
       "3345950                  17134                      1             17134.10000  \n",
       "7570941                  17134                    285             17134.28500  \n",
       "5054364                  17134                    228             17134.22800  \n",
       "3277045                  10240                  17443             10240.17443  "
      ]
     },
     "execution_count": 8,
     "metadata": {},
     "output_type": "execute_result"
    }
   ],
   "source": [
    "train.head()"
   ]
  },
  {
   "cell_type": "code",
   "execution_count": 9,
   "metadata": {
    "ExecuteTime": {
     "end_time": "2019-02-01T16:50:41.943345Z",
     "start_time": "2019-02-01T16:50:41.930101Z"
    }
   },
   "outputs": [
    {
     "data": {
      "text/html": [
       "<div>\n",
       "<style scoped>\n",
       "    .dataframe tbody tr th:only-of-type {\n",
       "        vertical-align: middle;\n",
       "    }\n",
       "\n",
       "    .dataframe tbody tr th {\n",
       "        vertical-align: top;\n",
       "    }\n",
       "\n",
       "    .dataframe thead th {\n",
       "        text-align: right;\n",
       "    }\n",
       "</style>\n",
       "<table border=\"1\" class=\"dataframe\">\n",
       "  <thead>\n",
       "    <tr style=\"text-align: right;\">\n",
       "      <th></th>\n",
       "      <th>MachineIdentifier</th>\n",
       "      <th>MajorEngineVersion</th>\n",
       "      <th>MinorEngineVersion</th>\n",
       "      <th>EngineVersion_float</th>\n",
       "      <th>MajorAppVersion</th>\n",
       "      <th>MinorAppVersion</th>\n",
       "      <th>FinestAppVersion</th>\n",
       "      <th>AppVersion_float</th>\n",
       "      <th>MajorAvSigVersion</th>\n",
       "      <th>MinorAvSigVersion</th>\n",
       "      <th>AvSigVersion_float</th>\n",
       "      <th>Census_MajorOSVersion</th>\n",
       "      <th>Census_MinorOSVersion</th>\n",
       "      <th>Census_OSVersion_float</th>\n",
       "    </tr>\n",
       "  </thead>\n",
       "  <tbody>\n",
       "    <tr>\n",
       "      <th>7252423</th>\n",
       "      <td>ec6910b4d9e0baae203e9819227659ec</td>\n",
       "      <td>15400</td>\n",
       "      <td>5</td>\n",
       "      <td>15400.5</td>\n",
       "      <td>13</td>\n",
       "      <td>117134</td>\n",
       "      <td>100001</td>\n",
       "      <td>7.252423e+06</td>\n",
       "      <td>0</td>\n",
       "      <td>0</td>\n",
       "      <td>0.0</td>\n",
       "      <td>17134</td>\n",
       "      <td>1</td>\n",
       "      <td>17134.100</td>\n",
       "    </tr>\n",
       "    <tr>\n",
       "      <th>7626698</th>\n",
       "      <td>f899923f0a42719f588608018611c8c3</td>\n",
       "      <td>15400</td>\n",
       "      <td>5</td>\n",
       "      <td>15400.5</td>\n",
       "      <td>12</td>\n",
       "      <td>116299</td>\n",
       "      <td>100015</td>\n",
       "      <td>7.626698e+06</td>\n",
       "      <td>0</td>\n",
       "      <td>0</td>\n",
       "      <td>0.0</td>\n",
       "      <td>17134</td>\n",
       "      <td>376</td>\n",
       "      <td>17134.376</td>\n",
       "    </tr>\n",
       "    <tr>\n",
       "      <th>5153700</th>\n",
       "      <td>a7ebe733cd84fa1e029e641c8f3f14fd</td>\n",
       "      <td>15400</td>\n",
       "      <td>4</td>\n",
       "      <td>15400.4</td>\n",
       "      <td>13</td>\n",
       "      <td>117134</td>\n",
       "      <td>100320</td>\n",
       "      <td>5.153700e+06</td>\n",
       "      <td>0</td>\n",
       "      <td>0</td>\n",
       "      <td>0.0</td>\n",
       "      <td>17134</td>\n",
       "      <td>345</td>\n",
       "      <td>17134.345</td>\n",
       "    </tr>\n",
       "    <tr>\n",
       "      <th>6444125</th>\n",
       "      <td>d2137b74e1993cbaf04b365b0130df53</td>\n",
       "      <td>15300</td>\n",
       "      <td>6</td>\n",
       "      <td>15300.6</td>\n",
       "      <td>13</td>\n",
       "      <td>117134</td>\n",
       "      <td>100320</td>\n",
       "      <td>6.444125e+06</td>\n",
       "      <td>0</td>\n",
       "      <td>0</td>\n",
       "      <td>0.0</td>\n",
       "      <td>17134</td>\n",
       "      <td>320</td>\n",
       "      <td>17134.320</td>\n",
       "    </tr>\n",
       "    <tr>\n",
       "      <th>3735425</th>\n",
       "      <td>79bc7126412e62b121be8ad4d5f4097d</td>\n",
       "      <td>14600</td>\n",
       "      <td>4</td>\n",
       "      <td>14600.4</td>\n",
       "      <td>12</td>\n",
       "      <td>117007</td>\n",
       "      <td>118022</td>\n",
       "      <td>3.735425e+06</td>\n",
       "      <td>0</td>\n",
       "      <td>0</td>\n",
       "      <td>0.0</td>\n",
       "      <td>16299</td>\n",
       "      <td>431</td>\n",
       "      <td>16299.431</td>\n",
       "    </tr>\n",
       "  </tbody>\n",
       "</table>\n",
       "</div>"
      ],
      "text/plain": [
       "                        MachineIdentifier  MajorEngineVersion  \\\n",
       "7252423  ec6910b4d9e0baae203e9819227659ec               15400   \n",
       "7626698  f899923f0a42719f588608018611c8c3               15400   \n",
       "5153700  a7ebe733cd84fa1e029e641c8f3f14fd               15400   \n",
       "6444125  d2137b74e1993cbaf04b365b0130df53               15300   \n",
       "3735425  79bc7126412e62b121be8ad4d5f4097d               14600   \n",
       "\n",
       "         MinorEngineVersion EngineVersion_float  MajorAppVersion  \\\n",
       "7252423                   5             15400.5               13   \n",
       "7626698                   5             15400.5               12   \n",
       "5153700                   4             15400.4               13   \n",
       "6444125                   6             15300.6               13   \n",
       "3735425                   4             14600.4               12   \n",
       "\n",
       "         MinorAppVersion  FinestAppVersion  AppVersion_float  \\\n",
       "7252423           117134            100001      7.252423e+06   \n",
       "7626698           116299            100015      7.626698e+06   \n",
       "5153700           117134            100320      5.153700e+06   \n",
       "6444125           117134            100320      6.444125e+06   \n",
       "3735425           117007            118022      3.735425e+06   \n",
       "\n",
       "         MajorAvSigVersion  MinorAvSigVersion  AvSigVersion_float  \\\n",
       "7252423                  0                  0                 0.0   \n",
       "7626698                  0                  0                 0.0   \n",
       "5153700                  0                  0                 0.0   \n",
       "6444125                  0                  0                 0.0   \n",
       "3735425                  0                  0                 0.0   \n",
       "\n",
       "         Census_MajorOSVersion  Census_MinorOSVersion  Census_OSVersion_float  \n",
       "7252423                  17134                      1               17134.100  \n",
       "7626698                  17134                    376               17134.376  \n",
       "5153700                  17134                    345               17134.345  \n",
       "6444125                  17134                    320               17134.320  \n",
       "3735425                  16299                    431               16299.431  "
      ]
     },
     "execution_count": 9,
     "metadata": {},
     "output_type": "execute_result"
    }
   ],
   "source": [
    "test.head()"
   ]
  },
  {
   "cell_type": "code",
   "execution_count": 10,
   "metadata": {
    "ExecuteTime": {
     "end_time": "2019-02-01T16:51:05.481136Z",
     "start_time": "2019-02-01T16:51:05.477630Z"
    }
   },
   "outputs": [
    {
     "data": {
      "text/plain": [
       "6245038"
      ]
     },
     "execution_count": 10,
     "metadata": {},
     "output_type": "execute_result"
    }
   ],
   "source": [
    "val_idx = int(len(train)*.7)\n",
    "val_idx"
   ]
  },
  {
   "cell_type": "code",
   "execution_count": 11,
   "metadata": {
    "ExecuteTime": {
     "end_time": "2019-02-02T03:20:04.041034Z",
     "start_time": "2019-02-01T16:51:14.589203Z"
    },
    "scrolled": false
   },
   "outputs": [
    {
     "name": "stderr",
     "output_type": "stream",
     "text": [
      "100%|██████████| 13/13 [16:18<00:00, 23.44s/it]  "
     ]
    }
   ],
   "source": [
    "pbar = tqdm(total=len(train.columns)-2)\n",
    "\n",
    "#for c in train.columns:\n",
    "def fx(c):\n",
    "    if c == 'MachineIdentifier' or c == 'Target':\n",
    "        return\n",
    "    \n",
    "    train_ = train[['MachineIdentifier', c]].iloc[:val_idx, :]\n",
    "    val_   = train[['MachineIdentifier', c]].iloc[val_idx:, :]\n",
    "    test_  =  test[['MachineIdentifier', c]]\n",
    "    \n",
    "    try:\n",
    "        pipe.upload_feature(c, (train_, val_, test_), overwrite=False)\n",
    "    except ValueError:\n",
    "        pass\n",
    "    \n",
    "    pbar.update(1)\n",
    "    \n",
    "pool = Pool(mul.cpu_count())\n",
    "pool.map(fx, train.columns.tolist())\n",
    "pool.close()\n",
    "pool.join()"
   ]
  }
 ],
 "metadata": {
  "kernelspec": {
   "display_name": "Python [conda env:dankd]",
   "language": "python",
   "name": "conda-env-dankd-py"
  },
  "language_info": {
   "codemirror_mode": {
    "name": "ipython",
    "version": 3
   },
   "file_extension": ".py",
   "mimetype": "text/x-python",
   "name": "python",
   "nbconvert_exporter": "python",
   "pygments_lexer": "ipython3",
   "version": "3.6.8"
  },
  "varInspector": {
   "cols": {
    "lenName": 16,
    "lenType": 16,
    "lenVar": 40
   },
   "kernels_config": {
    "python": {
     "delete_cmd_postfix": "",
     "delete_cmd_prefix": "del ",
     "library": "var_list.py",
     "varRefreshCmd": "print(var_dic_list())"
    },
    "r": {
     "delete_cmd_postfix": ") ",
     "delete_cmd_prefix": "rm(",
     "library": "var_list.r",
     "varRefreshCmd": "cat(var_dic_list()) "
    }
   },
   "types_to_exclude": [
    "module",
    "function",
    "builtin_function_or_method",
    "instance",
    "_Feature"
   ],
   "window_display": false
  }
 },
 "nbformat": 4,
 "nbformat_minor": 2
}
