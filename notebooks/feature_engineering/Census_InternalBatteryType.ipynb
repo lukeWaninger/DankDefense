{
 "cells": [
  {
   "cell_type": "code",
   "execution_count": 1,
   "metadata": {
    "ExecuteTime": {
     "end_time": "2019-02-01T16:19:12.346606Z",
     "start_time": "2019-02-01T16:19:11.188240Z"
    },
    "code_folding": [
     22
    ]
   },
   "outputs": [],
   "source": [
    "import re\n",
    "\n",
    "import numpy as np\n",
    "import pandas as pd\n",
    "from tqdm import tqdm\n",
    "\n",
    "from dankypipe import pipe\n",
    "\n",
    "tqdm.pandas()\n",
    "\n",
    "def isfloat(x):\n",
    "    try:\n",
    "        float(x)\n",
    "        return True\n",
    "    except:\n",
    "        return False\n",
    "    \n",
    "def isint(x):\n",
    "    try:\n",
    "        int(x)\n",
    "        return True\n",
    "    except:\n",
    "        return False"
   ]
  },
  {
   "cell_type": "code",
   "execution_count": 2,
   "metadata": {
    "ExecuteTime": {
     "end_time": "2019-02-01T16:19:56.264969Z",
     "start_time": "2019-02-01T16:19:12.350403Z"
    }
   },
   "outputs": [],
   "source": [
    "train = pd.read_pickle('train.pickle').sort_values(by='AvSigVersion')\n",
    "test = pd.read_pickle('test.pickle').sort_values(by='AvSigVersion')\n",
    "\n",
    "train = train.rename(columns={'HasDetections':'Target'})\n",
    "\n",
    "cols = ['Census_InternalBatteryType', 'MachineIdentifier']\n",
    "train = train.reindex(columns=cols+['Target'])\n",
    "test = test.reindex(columns=cols)"
   ]
  },
  {
   "cell_type": "markdown",
   "metadata": {},
   "source": [
    "I first replace any non-alphanumeric characters and then group the outlying minor battery types into one category - 'others'.\n",
    "\n",
    "I want to take a closer look at https://batteryuniversity.com/learn/article/types_of_battery_cells and estimate a device lifespan"
   ]
  },
  {
   "cell_type": "code",
   "execution_count": 3,
   "metadata": {},
   "outputs": [
    {
     "name": "stderr",
     "output_type": "stream",
     "text": [
      "  0%|          | 78/8921483 [00:00<10:57:21, 226.19it/s]\n",
      "  0%|          | 63/7853253 [00:00<10:18:06, 211.75it/s]\n"
     ]
    }
   ],
   "source": [
    "def transform(df):\n",
    "    df.Census_InternalBatteryType = df.Census_InternalBatteryType.progress_apply(\n",
    "        lambda x: re.sub('[^0-9a-zA-Z]+', '_', str(x).replace('#', 'pnd')) if pd.notna(x) else np.nan\n",
    "    )\n",
    "    return df\n",
    "\n",
    "train = transform(train)\n",
    "test = transform(test)"
   ]
  },
  {
   "cell_type": "code",
   "execution_count": 4,
   "metadata": {},
   "outputs": [],
   "source": [
    "def transform(df):\n",
    "    others = df.Census_InternalBatteryType.value_counts()\n",
    "    others = others[others < 184].index.tolist()\n",
    "\n",
    "    mask = [c in others for c in df.Census_InternalBatteryType]\n",
    "    df.loc[mask, 'Census_InternalBatteryType'] = 'other'\n",
    "\n",
    "    df.loc[df.Census_InternalBatteryType.isnull(), 'Census_InternalBatteryType'] = 'missing'\n",
    "    \n",
    "    return df\n",
    "\n",
    "train = transform(train)\n",
    "test = transform(test)"
   ]
  },
  {
   "cell_type": "code",
   "execution_count": 5,
   "metadata": {},
   "outputs": [],
   "source": [
    "avsig = pipe.download_feature('AvSigVersion_float', cache=True)\n",
    "avsig_combined = pd.concat([avsig['train'], avsig['validate']], sort=False).sort_values(by='AvSigVersion_float')\n",
    "\n",
    "train_ = train.merge(avsig_combined, on='MachineIdentifier', how='inner', sort=False)\n",
    "assert len(train_) == len(train)\n",
    "\n",
    "train = train_\n",
    "del train_\n",
    "\n",
    "train = train.sort_values(by='AvSigVersion_float').drop(columns='AvSigVersion_float')"
   ]
  },
  {
   "cell_type": "code",
   "execution_count": 6,
   "metadata": {},
   "outputs": [],
   "source": [
    "cols = {'Census_InternalBatteryType': 'Census_InternalBatteryType_reduced'}\n",
    "train = train.rename(columns=cols)\n",
    "test = test.rename(columns=cols)"
   ]
  },
  {
   "cell_type": "code",
   "execution_count": 7,
   "metadata": {
    "ExecuteTime": {
     "end_time": "2019-02-01T16:24:56.379558Z",
     "start_time": "2019-02-01T16:24:56.366704Z"
    }
   },
   "outputs": [
    {
     "data": {
      "text/html": [
       "<div>\n",
       "<style scoped>\n",
       "    .dataframe tbody tr th:only-of-type {\n",
       "        vertical-align: middle;\n",
       "    }\n",
       "\n",
       "    .dataframe tbody tr th {\n",
       "        vertical-align: top;\n",
       "    }\n",
       "\n",
       "    .dataframe thead th {\n",
       "        text-align: right;\n",
       "    }\n",
       "</style>\n",
       "<table border=\"1\" class=\"dataframe\">\n",
       "  <thead>\n",
       "    <tr style=\"text-align: right;\">\n",
       "      <th></th>\n",
       "      <th>Census_InternalBatteryType_reduced</th>\n",
       "      <th>MachineIdentifier</th>\n",
       "      <th>Target</th>\n",
       "    </tr>\n",
       "  </thead>\n",
       "  <tbody>\n",
       "    <tr>\n",
       "      <th>0</th>\n",
       "      <td>lion</td>\n",
       "      <td>c3c4bc04dc5f1c7245a862e52634428e</td>\n",
       "      <td>0</td>\n",
       "    </tr>\n",
       "    <tr>\n",
       "      <th>37</th>\n",
       "      <td>missing</td>\n",
       "      <td>60031444d3ec616c6e9084be521faa04</td>\n",
       "      <td>0</td>\n",
       "    </tr>\n",
       "    <tr>\n",
       "      <th>38</th>\n",
       "      <td>missing</td>\n",
       "      <td>d938abff6012c1488b851247a3098160</td>\n",
       "      <td>0</td>\n",
       "    </tr>\n",
       "    <tr>\n",
       "      <th>39</th>\n",
       "      <td>missing</td>\n",
       "      <td>910ddd20c6d334ca03a46d9f0008fe24</td>\n",
       "      <td>1</td>\n",
       "    </tr>\n",
       "    <tr>\n",
       "      <th>40</th>\n",
       "      <td>missing</td>\n",
       "      <td>5e05d22ab9db72ccbc8e41d4bc632f64</td>\n",
       "      <td>0</td>\n",
       "    </tr>\n",
       "  </tbody>\n",
       "</table>\n",
       "</div>"
      ],
      "text/plain": [
       "   Census_InternalBatteryType_reduced                 MachineIdentifier  \\\n",
       "0                                lion  c3c4bc04dc5f1c7245a862e52634428e   \n",
       "37                            missing  60031444d3ec616c6e9084be521faa04   \n",
       "38                            missing  d938abff6012c1488b851247a3098160   \n",
       "39                            missing  910ddd20c6d334ca03a46d9f0008fe24   \n",
       "40                            missing  5e05d22ab9db72ccbc8e41d4bc632f64   \n",
       "\n",
       "    Target  \n",
       "0        0  \n",
       "37       0  \n",
       "38       0  \n",
       "39       1  \n",
       "40       0  "
      ]
     },
     "execution_count": 7,
     "metadata": {},
     "output_type": "execute_result"
    }
   ],
   "source": [
    "train.head()"
   ]
  },
  {
   "cell_type": "code",
   "execution_count": 8,
   "metadata": {
    "ExecuteTime": {
     "end_time": "2019-02-01T16:25:01.904015Z",
     "start_time": "2019-02-01T16:25:01.893795Z"
    }
   },
   "outputs": [
    {
     "data": {
      "text/html": [
       "<div>\n",
       "<style scoped>\n",
       "    .dataframe tbody tr th:only-of-type {\n",
       "        vertical-align: middle;\n",
       "    }\n",
       "\n",
       "    .dataframe tbody tr th {\n",
       "        vertical-align: top;\n",
       "    }\n",
       "\n",
       "    .dataframe thead th {\n",
       "        text-align: right;\n",
       "    }\n",
       "</style>\n",
       "<table border=\"1\" class=\"dataframe\">\n",
       "  <thead>\n",
       "    <tr style=\"text-align: right;\">\n",
       "      <th></th>\n",
       "      <th>Census_InternalBatteryType_reduced</th>\n",
       "      <th>MachineIdentifier</th>\n",
       "    </tr>\n",
       "  </thead>\n",
       "  <tbody>\n",
       "    <tr>\n",
       "      <th>7252423</th>\n",
       "      <td>missing</td>\n",
       "      <td>ec6910b4d9e0baae203e9819227659ec</td>\n",
       "    </tr>\n",
       "    <tr>\n",
       "      <th>6804872</th>\n",
       "      <td>missing</td>\n",
       "      <td>ddd66992da9cbb12db76d9d874fedf8b</td>\n",
       "    </tr>\n",
       "    <tr>\n",
       "      <th>6882538</th>\n",
       "      <td>missing</td>\n",
       "      <td>e05db268c5f1e48e5fa63de1f39f02d7</td>\n",
       "    </tr>\n",
       "    <tr>\n",
       "      <th>6856130</th>\n",
       "      <td>missing</td>\n",
       "      <td>df81a38177efaac6b95df42ddef504e6</td>\n",
       "    </tr>\n",
       "    <tr>\n",
       "      <th>2544324</th>\n",
       "      <td>missing</td>\n",
       "      <td>52eb832b198099b467d39481a77afcef</td>\n",
       "    </tr>\n",
       "  </tbody>\n",
       "</table>\n",
       "</div>"
      ],
      "text/plain": [
       "        Census_InternalBatteryType_reduced                 MachineIdentifier\n",
       "7252423                            missing  ec6910b4d9e0baae203e9819227659ec\n",
       "6804872                            missing  ddd66992da9cbb12db76d9d874fedf8b\n",
       "6882538                            missing  e05db268c5f1e48e5fa63de1f39f02d7\n",
       "6856130                            missing  df81a38177efaac6b95df42ddef504e6\n",
       "2544324                            missing  52eb832b198099b467d39481a77afcef"
      ]
     },
     "execution_count": 8,
     "metadata": {},
     "output_type": "execute_result"
    }
   ],
   "source": [
    "test.head()"
   ]
  },
  {
   "cell_type": "code",
   "execution_count": 9,
   "metadata": {
    "ExecuteTime": {
     "end_time": "2019-02-01T16:22:04.517931Z",
     "start_time": "2019-02-01T16:22:04.505628Z"
    }
   },
   "outputs": [
    {
     "data": {
      "text/plain": [
       "6245038"
      ]
     },
     "execution_count": 9,
     "metadata": {},
     "output_type": "execute_result"
    }
   ],
   "source": [
    "val_idx = int(len(train)*.7)\n",
    "val_idx"
   ]
  },
  {
   "cell_type": "code",
   "execution_count": 11,
   "metadata": {
    "ExecuteTime": {
     "end_time": "2019-02-01T22:38:07.787962Z",
     "start_time": "2019-02-01T16:25:25.259632Z"
    }
   },
   "outputs": [
    {
     "name": "stderr",
     "output_type": "stream",
     "text": [
      "Census_InternalBatteryType_reduced: 100%|██████████| 1/1 [02:05<00:00, 125.71s/it]"
     ]
    }
   ],
   "source": [
    "pbar = tqdm(total=len(train.columns)-2)\n",
    "\n",
    "for c in train.columns:\n",
    "    if c == 'MachineIdentifier' or c == 'Target':\n",
    "        continue\n",
    "        \n",
    "    pbar.set_description(c)\n",
    "    \n",
    "    train_ = train[['MachineIdentifier', c]].iloc[:val_idx, :]\n",
    "    val_   = train[['MachineIdentifier', c]].iloc[val_idx:, :]\n",
    "    test_  =  test[['MachineIdentifier', c]]\n",
    "    \n",
    "    try:\n",
    "        pipe.upload_feature(c, (train_, val_, test_), overwrite=True)\n",
    "    except ValueError:\n",
    "        pass\n",
    "    \n",
    "    pbar.update(1)"
   ]
  }
 ],
 "metadata": {
  "kernelspec": {
   "display_name": "Python [conda env:dankd]",
   "language": "python",
   "name": "conda-env-dankd-py"
  },
  "language_info": {
   "codemirror_mode": {
    "name": "ipython",
    "version": 3
   },
   "file_extension": ".py",
   "mimetype": "text/x-python",
   "name": "python",
   "nbconvert_exporter": "python",
   "pygments_lexer": "ipython3",
   "version": "3.6.8"
  },
  "varInspector": {
   "cols": {
    "lenName": 16,
    "lenType": 16,
    "lenVar": 40
   },
   "kernels_config": {
    "python": {
     "delete_cmd_postfix": "",
     "delete_cmd_prefix": "del ",
     "library": "var_list.py",
     "varRefreshCmd": "print(var_dic_list())"
    },
    "r": {
     "delete_cmd_postfix": ") ",
     "delete_cmd_prefix": "rm(",
     "library": "var_list.r",
     "varRefreshCmd": "cat(var_dic_list()) "
    }
   },
   "types_to_exclude": [
    "module",
    "function",
    "builtin_function_or_method",
    "instance",
    "_Feature"
   ],
   "window_display": false
  }
 },
 "nbformat": 4,
 "nbformat_minor": 2
}
