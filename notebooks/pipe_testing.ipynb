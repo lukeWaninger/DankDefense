{
 "cells": [
  {
   "cell_type": "code",
   "execution_count": 1,
   "metadata": {
    "ExecuteTime": {
     "end_time": "2019-01-28T23:49:37.264533Z",
     "start_time": "2019-01-28T23:49:36.105509Z"
    },
    "code_folding": []
   },
   "outputs": [],
   "source": [
    "%matplotlib inline\n",
    "\n",
    "import os\n",
    "import sys\n",
    "import pickle\n",
    "import re\n",
    "\n",
    "from IPython.core.interactiveshell import InteractiveShell\n",
    "InteractiveShell.ast_node_interactivity = 'all'\n",
    "\n",
    "import matplotlib.pyplot as plt\n",
    "import numpy as np\n",
    "import pandas as pd\n",
    "import seaborn as sns\n",
    "from tqdm import tqdm\n",
    "\n",
    "sys.path.insert(0, os.path.abspath('../'))\n",
    "from scripts import pipe\n",
    "\n",
    "np.random.seed(42)\n",
    "tqdm.pandas()"
   ]
  },
  {
   "cell_type": "code",
   "execution_count": null,
   "metadata": {
    "ExecuteTime": {
     "end_time": "2019-01-28T18:04:44.817218Z",
     "start_time": "2019-01-28T18:03:49.105153Z"
    }
   },
   "outputs": [],
   "source": [
    "train = pd.read_csv('train_sample.csv')\n",
    "test = pd.read_csv('test_sample.csv')"
   ]
  },
  {
   "cell_type": "code",
   "execution_count": null,
   "metadata": {},
   "outputs": [],
   "source": [
    "train = train.sample(frac=0.05, replace=False)\n",
    "val   = train.sample(frac=0.02, replace=False)\n",
    "\n",
    "test  = dftest.sample(frac=0.02, replace=False)\n",
    "test['Target'] = np.nan"
   ]
  },
  {
   "cell_type": "code",
   "execution_count": 6,
   "metadata": {
    "ExecuteTime": {
     "end_time": "2019-01-29T00:03:26.673044Z",
     "start_time": "2019-01-29T00:00:25.395946Z"
    }
   },
   "outputs": [
    {
     "name": "stdout",
     "output_type": "stream",
     "text": [
      "initializing EC2 instance\n",
      "establishing connection with ec2-3-81-24-219.compute-1.amazonaws.com\n"
     ]
    },
    {
     "name": "stderr",
     "output_type": "stream",
     "text": [
      "/home/luke/anaconda3/envs/dankd/lib/python3.7/site-packages/paramiko/kex_ecdh_nist.py:39: CryptographyDeprecationWarning: encode_point has been deprecated on EllipticCurvePublicNumbers and will be removed in a future version. Please use EllipticCurvePublicKey.public_bytes to obtain both compressed and uncompressed point encoding.\n",
      "  m.add_string(self.Q_C.public_numbers().encode_point())\n",
      "/home/luke/anaconda3/envs/dankd/lib/python3.7/site-packages/paramiko/kex_ecdh_nist.py:96: CryptographyDeprecationWarning: Support for unsafe construction of public numbers from encoded data will be removed in a future version. Please use EllipticCurvePublicKey.from_encoded_point\n",
      "  self.curve, Q_S_bytes\n",
      "/home/luke/anaconda3/envs/dankd/lib/python3.7/site-packages/paramiko/kex_ecdh_nist.py:111: CryptographyDeprecationWarning: encode_point has been deprecated on EllipticCurvePublicNumbers and will be removed in a future version. Please use EllipticCurvePublicKey.public_bytes to obtain both compressed and uncompressed point encoding.\n",
      "  hm.add_string(self.Q_C.public_numbers().encode_point())\n"
     ]
    },
    {
     "name": "stdout",
     "output_type": "stream",
     "text": [
      "Tue Jan 29 00:02:15 UTC 2019:  starting job\n",
      "Tue Jan 29 00:02:15 UTC 2019:  downloading base data\n",
      "Tue Jan 29 00:02:51 UTC 2019:  downloading pipeline scripts\n",
      "Tue Jan 29 00:02:51 UTC 2019:  installing Python requirements\n",
      "Requirement already satisfied: asn1crypto==0.24.0 in /usr/lib/python3/dist-packages (from -r requirements.txt (line 1))\n",
      "Collecting bcrypt==3.1.6 (from -r requirements.txt (line 2))\n",
      "  Downloading https://files.pythonhosted.org/packages/d0/79/79a4d167a31cc206117d9b396926615fa9c1fdbd52017bcced80937ac501/bcrypt-3.1.6-cp34-abi3-manylinux1_x86_64.whl (55kB)\n",
      "Collecting bleach==3.1.0 (from -r requirements.txt (line 3))\n",
      "  Using cached https://files.pythonhosted.org/packages/ab/05/27e1466475e816d3001efb6e0a85a819be17411420494a1e602c36f8299d/bleach-3.1.0-py2.py3-none-any.whl\n",
      "Collecting boto3==1.9.84 (from -r requirements.txt (line 4))\n",
      "  Using cached https://files.pythonhosted.org/packages/c6/f3/be2ffdabba9a53fdc573add8f84325583926e21a8ba3d510b2aa02c06ad9/boto3-1.9.84-py2.py3-none-any.whl\n",
      "Collecting botocore==1.12.84 (from -r requirements.txt (line 5))\n",
      "  Using cached https://files.pythonhosted.org/packages/45/5b/0d85af8f526d9058080e6e40c6031afec5424f55ddc31009d506fb9b3356/botocore-1.12.84-py2.py3-none-any.whl\n",
      "Collecting certifi==2018.11.29 (from -r requirements.txt (line 6))\n",
      "  Using cached https://files.pythonhosted.org/packages/9f/e0/accfc1b56b57e9750eba272e24c4dddeac86852c2bebd1236674d7887e8a/certifi-2018.11.29-py2.py3-none-any.whl\n",
      "Collecting cffi==1.11.5 (from -r requirements.txt (line 7))\n",
      "  Downloading https://files.pythonhosted.org/packages/6d/c0/47db8f624f3e4e2f3f27be03a93379d1ba16a1450a7b1aacfa0366e2c0dd/cffi-1.11.5-cp36-cp36m-manylinux1_x86_64.whl (421kB)\n",
      "Requirement already satisfied: chardet==3.0.4 in /usr/lib/python3/dist-packages (from -r requirements.txt (line 8))\n",
      "Collecting cryptography==2.5 (from -r requirements.txt (line 9))\n",
      "  Downloading https://files.pythonhosted.org/packages/98/71/e632e222f34632e0527dd41799f7847305e701f38f512d81bdf96009bca4/cryptography-2.5-cp34-abi3-manylinux1_x86_64.whl (2.4MB)\n",
      "Requirement already satisfied: docutils==0.14 in /usr/local/lib/python3.6/dist-packages (from -r requirements.txt (line 10))\n",
      "Collecting idna==2.8 (from -r requirements.txt (line 11))\n",
      "  Using cached https://files.pythonhosted.org/packages/14/2c/cd551d81dbe15200be1cf41cd03869a46fe7226e7450af7a6545bfc474c9/idna-2.8-py2.py3-none-any.whl\n",
      "Requirement already satisfied: jmespath==0.9.3 in /usr/local/lib/python3.6/dist-packages (from -r requirements.txt (line 12))\n",
      "Requirement already satisfied: jsonschema==2.6.0 in /usr/lib/python3/dist-packages (from -r requirements.txt (line 13))\n",
      "Collecting lightgbm==2.2.2 (from -r requirements.txt (line 14))\n",
      "  Using cached https://files.pythonhosted.org/packages/4c/3b/4ae113193b4ee01387ed76d5eea32788aec0589df9ae7378a8b7443eaa8b/lightgbm-2.2.2-py2.py3-none-manylinux1_x86_64.whl\n",
      "Collecting numpy==1.16.0 (from -r requirements.txt (line 15))\n",
      "  Downloading https://files.pythonhosted.org/packages/7b/74/54c5f9bb9bd4dae27a61ec1b39076a39d359b3fb7ba15da79ef23858a9d8/numpy-1.16.0-cp36-cp36m-manylinux1_x86_64.whl (17.3MB)\n",
      "Collecting pandas==0.24.0 (from -r requirements.txt (line 16))\n",
      "  Downloading https://files.pythonhosted.org/packages/f9/e1/4a63ed31e1b1362d40ce845a5735c717a959bda992669468dae3420af2cd/pandas-0.24.0-cp36-cp36m-manylinux1_x86_64.whl (10.1MB)\n",
      "Collecting paramiko==2.4.2 (from -r requirements.txt (line 17))\n",
      "  Using cached https://files.pythonhosted.org/packages/cf/ae/94e70d49044ccc234bfdba20114fa947d7ba6eb68a2e452d89b920e62227/paramiko-2.4.2-py2.py3-none-any.whl\n",
      "Collecting pkginfo==1.5.0.1 (from -r requirements.txt (line 18))\n",
      "  Using cached https://files.pythonhosted.org/packages/e6/d5/451b913307b478c49eb29084916639dc53a88489b993530fed0a66bab8b9/pkginfo-1.5.0.1-py2.py3-none-any.whl\n",
      "Collecting pyasn1==0.4.5 (from -r requirements.txt (line 19))\n",
      "  Using cached https://files.pythonhosted.org/packages/7b/7c/c9386b82a25115cccf1903441bba3cbadcfae7b678a20167347fa8ded34c/pyasn1-0.4.5-py2.py3-none-any.whl\n",
      "Collecting pycparser==2.19 (from -r requirements.txt (line 20))\n",
      "Collecting Pygments==2.3.1 (from -r requirements.txt (line 21))\n",
      "  Using cached https://files.pythonhosted.org/packages/13/e5/6d710c9cf96c31ac82657bcfb441df328b22df8564d58d0c4cd62612674c/Pygments-2.3.1-py2.py3-none-any.whl\n",
      "Collecting PyNaCl==1.3.0 (from -r requirements.txt (line 22))\n",
      "  Downloading https://files.pythonhosted.org/packages/27/15/2cd0a203f318c2240b42cd9dd13c931ddd61067809fee3479f44f086103e/PyNaCl-1.3.0-cp34-abi3-manylinux1_x86_64.whl (759kB)\n",
      "Collecting pysftp==0.2.9 (from -r requirements.txt (line 23))\n",
      "  Using cached https://files.pythonhosted.org/packages/36/60/45f30390a38b1f92e0a8cf4de178cd7c2bc3f874c85430e40ccf99df8fe7/pysftp-0.2.9.tar.gz\n",
      "Requirement already satisfied: python-dateutil==2.7.5 in /usr/local/lib/python3.6/dist-packages (from -r requirements.txt (line 24))\n",
      "Collecting pytz==2018.9 (from -r requirements.txt (line 25))\n",
      "  Using cached https://files.pythonhosted.org/packages/61/28/1d3920e4d1d50b19bc5d24398a7cd85cc7b9a75a490570d5a30c57622d34/pytz-2018.9-py2.py3-none-any.whl\n",
      "Collecting PyYAML==3.13 (from -r requirements.txt (line 26))\n",
      "  Using cached https://files.pythonhosted.org/packages/9e/a3/1d13970c3f36777c583f136c136f804d70f500168edc1edea6daa7200769/PyYAML-3.13.tar.gz\n",
      "Collecting readme-renderer==24.0 (from -r requirements.txt (line 27))\n",
      "  Using cached https://files.pythonhosted.org/packages/c3/7e/d1aae793900f36b097cbfcc5e70eef82b5b56423a6c52a36dce51fedd8f0/readme_renderer-24.0-py2.py3-none-any.whl\n",
      "Collecting requests==2.21.0 (from -r requirements.txt (line 28))\n",
      "  Using cached https://files.pythonhosted.org/packages/7d/e3/20f3d364d6c8e5d2353c72a67778eb189176f08e873c9900e10c0287b84b/requests-2.21.0-py2.py3-none-any.whl\n",
      "Collecting requests-toolbelt==0.8.0 (from -r requirements.txt (line 29))\n",
      "  Using cached https://files.pythonhosted.org/packages/97/8a/d710f792d6f6ecc089c5e55b66e66c3f2f35516a1ede5a8f54c13350ffb0/requests_toolbelt-0.8.0-py2.py3-none-any.whl\n",
      "Requirement already satisfied: s3transfer==0.1.13 in /usr/local/lib/python3.6/dist-packages (from -r requirements.txt (line 30))\n",
      "Collecting scikit-learn==0.20.2 (from -r requirements.txt (line 31))\n",
      "  Downloading https://files.pythonhosted.org/packages/0d/3a/b92670f5c368c20329ecc4c255993fae7934564d485c3ed7ea7b8da7f741/scikit_learn-0.20.2-cp36-cp36m-manylinux1_x86_64.whl (5.4MB)\n",
      "Collecting scipy==1.2.0 (from -r requirements.txt (line 32))\n",
      "  Downloading https://files.pythonhosted.org/packages/67/e6/6d4edaceee6a110ecf6f318482f5229792f143e468b34a631f5a0899f56d/scipy-1.2.0-cp36-cp36m-manylinux1_x86_64.whl (26.6MB)\n",
      "Collecting six==1.12.0 (from -r requirements.txt (line 33))\n",
      "  Using cached https://files.pythonhosted.org/packages/73/fb/00a976f728d0d1fecfe898238ce23f502a721c0ac0ecfedb80e0d88c64e9/six-1.12.0-py2.py3-none-any.whl\n",
      "Collecting tqdm==4.29.1 (from -r requirements.txt (line 34))\n",
      "  Using cached https://files.pythonhosted.org/packages/ed/d6/3458d39cf4978f4ece846295e83daf5ece710ab0a4106774f7f7b3a68697/tqdm-4.29.1-py2.py3-none-any.whl\n",
      "Collecting twine==1.12.1 (from -r requirements.txt (line 35))\n",
      "  Using cached https://files.pythonhosted.org/packages/26/7f/92c7083b66bc7ed32940cc0e25ae070c033d384d158617635222e7a08e92/twine-1.12.1-py2.py3-none-any.whl\n",
      "Collecting urllib3==1.24.1 (from -r requirements.txt (line 36))\n",
      "  Using cached https://files.pythonhosted.org/packages/62/00/ee1d7de624db8ba7090d1226aebefab96a2c71cd5cfa7629d6ad3f61b79e/urllib3-1.24.1-py2.py3-none-any.whl\n",
      "Collecting webencodings==0.5.1 (from -r requirements.txt (line 37))\n",
      "  Using cached https://files.pythonhosted.org/packages/f4/24/2a3e3df732393fed8b3ebf2ec078f05546de641fe1b667ee316ec1dcf3b7/webencodings-0.5.1-py2.py3-none-any.whl\n",
      "Collecting wincertstore==0.2 (from -r requirements.txt (line 38))\n",
      "  Using cached https://files.pythonhosted.org/packages/d1/67/12f477fa1cc8cbcdc78027c9fb0933ad41daf2e95a29d1cc8f34fe80c692/wincertstore-0.2-py2.py3-none-any.whl\n",
      "Requirement already satisfied: setuptools>=0.7.0 in /usr/lib/python3/dist-packages (from twine==1.12.1->-r requirements.txt (line 35))\n",
      "Building wheels for collected packages: pysftp, PyYAML\n",
      "  Running setup.py bdist_wheel for pysftp: started\n",
      "  Running setup.py bdist_wheel for pysftp: finished with status 'done'\n",
      "  Stored in directory: /root/.cache/pip/wheels/d4/53/02/181ea4f6c795b40c4f1d2022ba2ed15cf811d22975eb2e5968\n",
      "  Running setup.py bdist_wheel for PyYAML: started\n",
      "  Running setup.py bdist_wheel for PyYAML: finished with status 'done'\n",
      "  Stored in directory: /root/.cache/pip/wheels/ad/da/0c/74eb680767247273e2cf2723482cb9c924fe70af57c334513f\n",
      "Successfully built pysftp PyYAML\n",
      "Installing collected packages: pycparser, cffi, six, bcrypt, webencodings, bleach, urllib3, botocore, boto3, certifi, cryptography, idna, numpy, scipy, scikit-learn, lightgbm, pytz, pandas, pyasn1, PyNaCl, paramiko, pkginfo, Pygments, pysftp, PyYAML, readme-renderer, requests, requests-toolbelt, tqdm, twine, wincertstore\n",
      "  Found existing installation: six 1.11.0\n",
      "    Not uninstalling six at /usr/lib/python3/dist-packages, outside environment /usr\n",
      "  Found existing installation: urllib3 1.22\n",
      "    Not uninstalling urllib3 at /usr/lib/python3/dist-packages, outside environment /usr\n",
      "  Found existing installation: botocore 1.12.86\n",
      "    Uninstalling botocore-1.12.86:\n",
      "      Successfully uninstalled botocore-1.12.86\n",
      "  Found existing installation: certifi 2018.1.18\n",
      "    Not uninstalling certifi at /usr/lib/python3/dist-packages, outside environment /usr\n",
      "  Found existing installation: cryptography 2.1.4\n",
      "    Not uninstalling cryptography at /usr/lib/python3/dist-packages, outside environment /usr\n",
      "  Found existing installation: idna 2.6\n",
      "    Not uninstalling idna at /usr/lib/python3/dist-packages, outside environment /usr\n"
     ]
    },
    {
     "name": "stdout",
     "output_type": "stream",
     "text": [
      "  Found existing installation: pyasn1 0.4.2\n",
      "    Not uninstalling pyasn1 at /usr/lib/python3/dist-packages, outside environment /usr\n",
      "  Found existing installation: PyYAML 3.12\n",
      "    Not uninstalling pyyaml at /usr/lib/python3/dist-packages, outside environment /usr\n",
      "  Found existing installation: requests 2.18.4\n",
      "    Not uninstalling requests at /usr/lib/python3/dist-packages, outside environment /usr\n",
      "Successfully installed PyNaCl-1.3.0 PyYAML-3.13 Pygments-2.3.1 bcrypt-3.1.6 bleach-3.1.0 boto3-1.9.84 botocore-1.12.84 certifi-2018.11.29 cffi-1.11.5 cryptography-2.5 idna-2.8 lightgbm-2.2.2 numpy-1.16.0 pandas-0.24.0 paramiko-2.4.2 pkginfo-1.5.0.1 pyasn1-0.4.5 pycparser-2.19 pysftp-0.2.9 pytz-2018.9 readme-renderer-24.0 requests-2.21.0 requests-toolbelt-0.8.0 scikit-learn-0.20.2 scipy-1.2.0 six-1.12.0 tqdm-4.29.1 twine-1.12.1 urllib3-1.24.1 webencodings-0.5.1 wincertstore-0.2\n",
      "Tue Jan 29 00:03:18 UTC 2019:  executing runner\n",
      "no secrets file found. resorting to environment variables\n",
      "Traceback (most recent call last):\n",
      "  File \"runner.py\", line 228, in <module>\n",
      "    main()\n",
      "  File \"runner.py\", line 224, in main\n",
      "    run_task(config)\n",
      "  File \"runner.py\", line 71, in run_task\n",
      "    job = config['job']\n",
      "KeyError: 'job'\n",
      "Tue Jan 29 00:03:23 UTC 2019:  uploading logs\n",
      "Tue Jan 29 00:03:23 UTC 2019:  job complete\n"
     ]
    },
    {
     "data": {
      "text/plain": [
       "{'instance_id': 'i-0b4984df0bd292f30',\n",
       " 'run_time': 'WARNING: your instance is still running',\n",
       " 'exception': ValueError('Job <test_job_1> has not reported results')}"
      ]
     },
     "execution_count": 6,
     "metadata": {},
     "output_type": "execute_result"
    }
   ],
   "source": [
    "job = pipe.Ec2Job(\n",
    "    config = dict(\n",
    "        job_name='test_job_1',\n",
    "        features=['AvSigVersion', 'Census_FlightRing'],\n",
    "        model=dict(\n",
    "            name='lightgbm',\n",
    "            parameters=dict(\n",
    "                verbosity=1\n",
    "            )\n",
    "        ),\n",
    "        task='tune',\n",
    "        tuning=dict(\n",
    "            search_type='grid',\n",
    "            parameters=[\n",
    "                dict(\n",
    "                    name='max_depth',\n",
    "                    values=[2]\n",
    "                ),\n",
    "                dict(\n",
    "                    name='learning_rate',\n",
    "                    values=[.1, .2, .3]\n",
    "                )\n",
    "            ],\n",
    "            metric='auc'\n",
    "        )\n",
    "    ), \n",
    "    overwrite=True, \n",
    "    ssh_key_path='/home/luke/.ssh/aws_virginia1.pem',\n",
    "    instance_type='t3.medium'\n",
    ")\n",
    "job.run_job()"
   ]
  },
  {
   "cell_type": "code",
   "execution_count": 7,
   "metadata": {
    "ExecuteTime": {
     "end_time": "2019-01-29T00:06:25.044599Z",
     "start_time": "2019-01-29T00:06:24.419038Z"
    }
   },
   "outputs": [
    {
     "data": {
      "text/plain": [
       "{'TerminatingInstances': [{'CurrentState': {'Code': 32,\n",
       "    'Name': 'shutting-down'},\n",
       "   'InstanceId': 'i-0b4984df0bd292f30',\n",
       "   'PreviousState': {'Code': 16, 'Name': 'running'}}],\n",
       " 'ResponseMetadata': {'RequestId': 'b6a6fce2-758f-4704-a753-ae2851fce75b',\n",
       "  'HTTPStatusCode': 200,\n",
       "  'HTTPHeaders': {'content-type': 'text/xml;charset=UTF-8',\n",
       "   'transfer-encoding': 'chunked',\n",
       "   'vary': 'Accept-Encoding',\n",
       "   'date': 'Tue, 29 Jan 2019 00:06:24 GMT',\n",
       "   'server': 'AmazonEC2'},\n",
       "  'RetryAttempts': 0}}"
      ]
     },
     "execution_count": 7,
     "metadata": {},
     "output_type": "execute_result"
    }
   ],
   "source": [
    "job.terminate_instance()"
   ]
  }
 ],
 "metadata": {
  "kernelspec": {
   "display_name": "Python [conda env:dankd]",
   "language": "python",
   "name": "conda-env-dankd-py"
  },
  "language_info": {
   "codemirror_mode": {
    "name": "ipython",
    "version": 3
   },
   "file_extension": ".py",
   "mimetype": "text/x-python",
   "name": "python",
   "nbconvert_exporter": "python",
   "pygments_lexer": "ipython3",
   "version": "3.7.2"
  },
  "varInspector": {
   "cols": {
    "lenName": 16,
    "lenType": 16,
    "lenVar": 40
   },
   "kernels_config": {
    "python": {
     "delete_cmd_postfix": "",
     "delete_cmd_prefix": "del ",
     "library": "var_list.py",
     "varRefreshCmd": "print(var_dic_list())"
    },
    "r": {
     "delete_cmd_postfix": ") ",
     "delete_cmd_prefix": "rm(",
     "library": "var_list.r",
     "varRefreshCmd": "cat(var_dic_list()) "
    }
   },
   "types_to_exclude": [
    "module",
    "function",
    "builtin_function_or_method",
    "instance",
    "_Feature"
   ],
   "window_display": false
  }
 },
 "nbformat": 4,
 "nbformat_minor": 2
}
