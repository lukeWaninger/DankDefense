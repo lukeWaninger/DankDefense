{
 "cells": [
  {
   "cell_type": "code",
   "execution_count": 2,
   "metadata": {
    "ExecuteTime": {
     "end_time": "2019-02-22T21:49:00.804111Z",
     "start_time": "2019-02-22T21:48:59.138636Z"
    }
   },
   "outputs": [],
   "source": [
    "import gc\n",
    "import multiprocessing as mul\n",
    "from multiprocessing.dummy import Pool as TPool\n",
    "import os\n",
    "\n",
    "import cache_magic\n",
    "import lightgbm as lgb\n",
    "import matplotlib\n",
    "import matplotlib.pyplot as plt\n",
    "import numpy as np\n",
    "#import modin.pandas as pd\n",
    "import pandas as pd\n",
    "import seaborn as sns\n",
    "from tqdm import tqdm_notebook as tqdm\n",
    "from IPython.core.interactiveshell import InteractiveShell\n",
    "\n",
    "import dankypipe.pipe as pipe\n",
    "from dankypipe.utils import *\n",
    "\n",
    "InteractiveShell.ast_node_interactivity = 'all'"
   ]
  },
  {
   "cell_type": "code",
   "execution_count": 3,
   "metadata": {
    "ExecuteTime": {
     "end_time": "2019-02-22T21:49:31.053260Z",
     "start_time": "2019-02-22T21:49:31.042467Z"
    },
    "code_folding": [
     0
    ]
   },
   "outputs": [],
   "source": [
    "dtypes = DTypes({\n",
    "        'MachineIdentifier':                                    'category',\n",
    "        'ProductName':                                          'category',\n",
    "        'EngineVersion_float':                                  'float16',\n",
    "        'AppVersion_float':                                     'float16',\n",
    "        'AvSigVersion_float':                                   'float16',\n",
    "        'IsBeta':                                               'int8',\n",
    "        'RtpStateBitfield_1':                                   'int8',\n",
    "        'RtpStateBitfield_2':                                   'int8',\n",
    "        'RtpStateBitfield_3':                                   'int8',\n",
    "        'RtpStateBitfield_4':                                   'int8',\n",
    "        'IsSxsPassiveMode':                                     'int8',\n",
    "        'DefaultBrowsersIdentifier':                            'category',\n",
    "        'AVProductStatesIdentifier_filled':                     'category',\n",
    "        'AVProductsInstalled':                                  'float16',\n",
    "        'AVProductsEnabled':                                    'float16',\n",
    "        'HasTpm':                                               'int8',\n",
    "        'CountryIdentifier':                                    'category',\n",
    "        'CityIdentifier_filled':                                'category',\n",
    "        'OrganizationIdentifier_filled':                        'category',\n",
    "        'LocaleEnglishNameIdentifier':                          'category',\n",
    "        'Platform':                                             'category',\n",
    "        'Processor':                                            'category',\n",
    "        'OsVer':                                                'category',\n",
    "        'OsBuild':                                              'int16',\n",
    "        'OsSuite':                                              'int16',\n",
    "        'OsPlatformSubRelease':                                 'category',\n",
    "        'OsBuildLab':                                           'category',\n",
    "        'SkuEdition':                                           'category',\n",
    "        'IsProtected':                                          'float16',\n",
    "        'AutoSampleOptIn':                                      'int8',\n",
    "        'PuaMode':                                              'category',\n",
    "        'SMode':                                                'float16',\n",
    "        'IeVerIdentifier_filled':                               'float16',\n",
    "        'SmartScreen_filled':                                   'category',\n",
    "        'Firewall':                                             'float16',\n",
    "        'UacLuaenable':                                         'float32',\n",
    "        'Census_MDC2_FormFactor_clean':                         'category',\n",
    "        'Census_MDC2_FormFactor_isValid':                       'int8',\n",
    "        'Census_FFMatch':                                       'int8',\n",
    "        'Census_DeviceFamily':                                  'category',\n",
    "        'Census_OEMNameIdentifier_filled':                      'float16',\n",
    "        'Census_OEMModelIdentifier_filled':                     'float32',\n",
    "        'Census_ProcessorCoreCount':                            'float16',\n",
    "        'Census_ProcessorManufacturerIdentifier_filled':        'category',\n",
    "        'Census_ProcessorModelIdentifier_filled':               'category',\n",
    "        'Census_ProcessorClass':                                'category',\n",
    "        'Census_PrimaryDiskTotalCapacity':                      'float32',\n",
    "        'Census_PrimaryDiskTypeName':                           'category',\n",
    "        'Census_SystemVolumeTotalCapacity':                     'float32',\n",
    "        'Census_HasOpticalDiskDrive':                           'int8',\n",
    "        'Census_TotalPhysicalRAM':                              'float32',\n",
    "        'Census_ChassisTypeName_clean':                         'category',\n",
    "        'Census_ChassisTypeName_isValid':                       'int8',\n",
    "        'Census_InternalPrimaryDiagonalDisplaySizeInInches':    'float16',\n",
    "        'Census_InternalPrimaryDisplayResolutionHorizontal':    'float16',\n",
    "        'Census_InternalPrimaryDisplayResolutionVertical':      'float16',\n",
    "        'Census_PowerPlatformRoleName_filled':                  'category',\n",
    "        'Census_InternalBatteryType_reduced':                   'category',\n",
    "        'Census_InternalBatteryNumberOfCharges':                'float32',\n",
    "        'Census_OSVersion':                                     'category',\n",
    "        'Census_OSArchitecture':                                'category',\n",
    "        'Census_OSBuildNumber':                                 'int16',\n",
    "        'Census_OSBuildRevision':                               'int32',\n",
    "        'Census_OSEdition_clean':                               'category',\n",
    "        'OS_Reduced_Media':                                     'int8',\n",
    "        'Census_OSInstallTypeName':                             'category',\n",
    "        'Census_OSInstallLanguageIdentifier_filled':            'float16',\n",
    "        'Census_OSUILocaleIdentifier':                          'int16',\n",
    "        'Census_OSEdSkuMatch':                                  'int8',\n",
    "        'Census_OSVersion_float':                               'float16',\n",
    "        'Census_OSWUAutoUpdateOptionsName':                     'category',\n",
    "        'Census_IsPortableOperatingSystem':                     'int8',\n",
    "        'Census_GenuineStateName_filled':                       'category',\n",
    "        'Census_ActivationChannel':                             'category',\n",
    "        'Census_IsFlightingInternal':                           'float16',\n",
    "        'Census_IsFlightsDisabled':                             'float16',\n",
    "        'Census_FlightRing_filled':                             'category',\n",
    "        'Census_ThresholdOptIn':                                'float16',\n",
    "        'Census_FirmwareManufacturerIdentifier_filled':         'float16',\n",
    "        'Census_FirmwareVersionIdentifier_filled':              'float32',\n",
    "        'Census_IsSecureBootEnabled':                           'int8',\n",
    "        'Census_IsWIMBootEnabled':                              'float16',\n",
    "        'Census_IsVirtualDevice':                               'float16',\n",
    "        'Census_IsTouchEnabled':                                'int8',\n",
    "        'Census_IsPenCapable':                                  'int8',\n",
    "        'Census_IsAlwaysOnAlwaysConnectedCapable':              'float16',\n",
    "        'Wdft_IsGamer':                                         'float16',\n",
    "        'Wdft_RegionIdentifier':                                'float16',\n",
    "        'branch_ver':                                           'category',\n",
    "        'subrel_ver':                                           'category',\n",
    "        'subrel_ver_num':                                       'int',\n",
    "        'branch_release_num':                                   'int',\n",
    "        'is_svc_release':                                       'int8',\n",
    "        'is_escrow_release':                                    'int8',\n",
    "        'is_sec_release':                                       'int8',\n",
    "        'is_st1_release':                                       'int8',\n",
    "        'is_prerelease':                                        'int8',\n",
    "        'is_special_release':                                   'int8',\n",
    "        'HasDetections':                                        'int8'\n",
    "    }\n",
    ")\n",
    "\n",
    "def get_feat(n, t):\n",
    "    df = pd.read_csv(n, dtypes=t)\n",
    "    dtypes.add_type(n, t)\n",
    "    \n",
    "    return df"
   ]
  },
  {
   "cell_type": "code",
   "execution_count": 4,
   "metadata": {
    "ExecuteTime": {
     "end_time": "2019-02-22T21:50:19.085088Z",
     "start_time": "2019-02-22T21:49:33.903782Z"
    }
   },
   "outputs": [
    {
     "name": "stdout",
     "output_type": "stream",
     "text": [
      "Loading cached value for variable 'train'. Time since caching: 4:05:30.520683\n",
      "Loading cached value for variable 'test'. Time since caching: 3:58:00.001885\n"
     ]
    }
   ],
   "source": [
    "def load(s):\n",
    "    train_cleaned = pd.read_csv(dp(f'{s}_r1.csv'), dtype=dtypes.dict)\n",
    "    train_raw = pd.read_pickle(dp(f'{s}.pickle'))\n",
    "\n",
    "    cols = list(set(train_raw.columns) - set(train_cleaned.columns)) + ['MachineIdentifier']\n",
    "    df = train_cleaned.merge(train_raw[cols], on='MachineIdentifier', how='left')\n",
    "    \n",
    "    df['avsig_dt'] = df.AvSigVersion.apply(mx)\n",
    "    df = df.dropna(subset=['avsig_dt'], axis=0)\n",
    "    df = df.sort_values(by='avsig_dt')\n",
    "    return df\n",
    "\n",
    "%cache train = load('train')\n",
    "%cache test = load('test')"
   ]
  },
  {
   "cell_type": "code",
   "execution_count": null,
   "metadata": {},
   "outputs": [],
   "source": [
    "to_drop = [\n",
    "    'Census_OSWUAutoUpdateOptionsName_filled'\n",
    "]\n",
    "\n",
    "train = train.drop(columns=to_drop, errors='ignore')\n",
    "test = test.drop(columns=to_drop, errors='ignore')"
   ]
  },
  {
   "cell_type": "code",
   "execution_count": null,
   "metadata": {
    "code_folding": [
     4
    ]
   },
   "outputs": [],
   "source": [
    "to_load = [\n",
    "    {'Census_OSWUAutoUpdateOptionsName_filled': 'category'}\n",
    "]\n",
    "\n",
    "for feat in tqdm(to_load):\n",
    "    c, t = feat.key(), feat[feat.key()]\n",
    "    \n",
    "    if c in train.columns and c in test.columns:\n",
    "        continue\n",
    "    elif c not in train.columns and c in test.columns:\n",
    "        print(f'{c} in test but not train')\n",
    "        continue\n",
    "    elif c in train.columns and c not in test.columns:\n",
    "        print(f'{c} in train but not test')\n",
    "        continue\n",
    "        \n",
    "    x = pd.read_csv(dp(f'{c}.csv'), dtype=t)\n",
    "    dtypes.add_type(feat)\n",
    "    \n",
    "    a, b = len(train), len(test)\n",
    "    train_ = train.merge(x, on='MachineIdentifier', how='inner')\n",
    "    test_ = test.merge(x, on='MachineIdentifier', how='inner')\n",
    "    \n",
    "    assert a == len(train) and b == len(test)\n",
    "    train = train_\n",
    "    test = test_\n",
    "    \n",
    "    del train_, test_\n",
    "    gc.collect()"
   ]
  },
  {
   "cell_type": "code",
   "execution_count": 5,
   "metadata": {
    "ExecuteTime": {
     "end_time": "2019-02-22T21:51:14.977497Z",
     "start_time": "2019-02-22T21:51:09.654824Z"
    }
   },
   "outputs": [
    {
     "data": {
      "text/plain": [
       "7137132"
      ]
     },
     "execution_count": 5,
     "metadata": {},
     "output_type": "execute_result"
    }
   ],
   "source": [
    "split_idx = int(train.shape[0]*.8); split_idx\n",
    "\n",
    "y = train.HasDetections\n",
    "\n",
    "train = train.drop(columns='HasDetections')\n",
    "x = train.iloc[:split_idx, :]\n",
    "val = train.iloc[split_idx:, :]"
   ]
  },
  {
   "cell_type": "code",
   "execution_count": 6,
   "metadata": {
    "ExecuteTime": {
     "end_time": "2019-02-22T21:52:31.262232Z",
     "start_time": "2019-02-22T21:52:31.255460Z"
    },
    "scrolled": false
   },
   "outputs": [
    {
     "name": "stdout",
     "output_type": "stream",
     "text": [
      "AVProductStatesIdentifier\n",
      "AVProductStatesIdentifier_filled\n",
      "AVProductsEnabled\n",
      "AVProductsInstalled\n",
      "AppVersion\n",
      "AppVersion_float\n",
      "AutoSampleOptIn\n",
      "AvSigVersion\n",
      "AvSigVersion_float\n",
      "Census_ActivationChannel\n",
      "Census_ChassisTypeName\n",
      "Census_ChassisTypeName_clean\n",
      "Census_ChassisTypeName_isValid\n",
      "Census_DeviceFamily\n",
      "Census_FFMatch\n",
      "Census_FirmwareManufacturerIdentifier\n",
      "Census_FirmwareManufacturerIdentifier_filled\n",
      "Census_FirmwareVersionIdentifier\n",
      "Census_FirmwareVersionIdentifier_filled\n",
      "Census_FlightRing\n",
      "Census_FlightRing_filled\n",
      "Census_GenuineStateName\n",
      "Census_GenuineStateName_filled\n",
      "Census_HasOpticalDiskDrive\n",
      "Census_InternalBatteryNumberOfCharges\n",
      "Census_InternalBatteryType\n",
      "Census_InternalBatteryType_reduced\n",
      "Census_InternalPrimaryDiagonalDisplaySizeInInches\n",
      "Census_InternalPrimaryDisplayResolutionHorizontal\n",
      "Census_InternalPrimaryDisplayResolutionVertical\n",
      "Census_IsAlwaysOnAlwaysConnectedCapable\n",
      "Census_IsFlightingInternal\n",
      "Census_IsFlightsDisabled\n",
      "Census_IsPenCapable\n",
      "Census_IsPortableOperatingSystem\n",
      "Census_IsSecureBootEnabled\n",
      "Census_IsTouchEnabled\n",
      "Census_IsVirtualDevice\n",
      "Census_IsWIMBootEnabled\n",
      "Census_MDC2FormFactor\n",
      "Census_MDC2_FormFactor_clean\n",
      "Census_MDC2_FormFactor_isValid\n",
      "Census_OEMModelIdentifier\n",
      "Census_OEMModelIdentifier_filled\n",
      "Census_OEMNameIdentifier\n",
      "Census_OEMNameIdentifier_filled\n",
      "Census_OSArchitecture\n",
      "Census_OSBranch\n",
      "Census_OSBuildNumber\n",
      "Census_OSBuildRevision\n",
      "Census_OSEdSkuMatch\n",
      "Census_OSEdition\n",
      "Census_OSEdition_clean\n",
      "Census_OSInstallLanguageIdentifier\n",
      "Census_OSInstallLanguageIdentifier_filled\n",
      "Census_OSInstallTypeName\n",
      "Census_OSSkuName\n",
      "Census_OSUILocaleIdentifier\n",
      "Census_OSVersion\n",
      "Census_OSVersion_float\n",
      "Census_OSWUAutoUpdateOptionsName\n",
      "Census_OSWUAutoUpdateOptionsName_filled\n",
      "Census_PowerPlatformRoleName\n",
      "Census_PowerPlatformRoleName_filled\n",
      "Census_PrimaryDiskTotalCapacity\n",
      "Census_PrimaryDiskTypeName\n",
      "Census_ProcessorClass\n",
      "Census_ProcessorCoreCount\n",
      "Census_ProcessorManufacturerIdentifier\n",
      "Census_ProcessorManufacturerIdentifier_filled\n",
      "Census_ProcessorModelIdentifier\n",
      "Census_ProcessorModelIdentifier_filled\n",
      "Census_SystemVolumeTotalCapacity\n",
      "Census_ThresholdOptIn\n",
      "Census_TotalPhysicalRAM\n",
      "CityIdentifier\n",
      "CityIdentifier_filled\n",
      "CountryIdentifier\n",
      "DefaultBrowsersIdentifier\n",
      "EngineVersion\n",
      "EngineVersion_float\n",
      "Firewall\n",
      "GeoNameIdentifier\n",
      "HasTpm\n",
      "IeVerIdentifier\n",
      "IeVerIdentifier_filled\n",
      "IsBeta\n",
      "IsProtected\n",
      "IsSxsPassiveMode\n",
      "LocaleEnglishNameIdentifier\n",
      "MachineIdentifier\n",
      "OS_Reduced_Media\n",
      "OrganizationIdentifier\n",
      "OrganizationIdentifier_filled\n",
      "OsBuild\n",
      "OsBuildLab\n",
      "OsPlatformSubRelease\n",
      "OsSuite\n",
      "OsVer\n",
      "Platform\n",
      "Processor\n",
      "ProductName\n",
      "PuaMode\n",
      "RtpStateBitfield\n",
      "RtpStateBitfield_1\n",
      "RtpStateBitfield_2\n",
      "RtpStateBitfield_3\n",
      "RtpStateBitfield_4\n",
      "SMode\n",
      "SkuEdition\n",
      "SmartScreen\n",
      "SmartScreen_filled\n",
      "Target\n",
      "UacLuaenable\n",
      "Wdft_IsGamer\n",
      "Wdft_RegionIdentifier\n",
      "avsig_dt\n",
      "branch_release_num\n",
      "branch_ver\n",
      "is_escrow_release\n",
      "is_prerelease\n",
      "is_sec_release\n",
      "is_special_release\n",
      "is_st1_release\n",
      "is_svc_release\n",
      "subrel_ver\n",
      "subrel_ver_num\n"
     ]
    }
   ],
   "source": [
    "pcols(train)"
   ]
  },
  {
   "cell_type": "code",
   "execution_count": null,
   "metadata": {},
   "outputs": [],
   "source": [
    "lgb_train = lgb.Dataset(x, )"
   ]
  }
 ],
 "metadata": {
  "kernelspec": {
   "display_name": "Python [conda env:dankd]",
   "language": "python",
   "name": "conda-env-dankd-py"
  },
  "language_info": {
   "codemirror_mode": {
    "name": "ipython",
    "version": 3
   },
   "file_extension": ".py",
   "mimetype": "text/x-python",
   "name": "python",
   "nbconvert_exporter": "python",
   "pygments_lexer": "ipython3",
   "version": "3.7.2"
  },
  "varInspector": {
   "cols": {
    "lenName": 16,
    "lenType": 16,
    "lenVar": 40
   },
   "kernels_config": {
    "python": {
     "delete_cmd_postfix": "",
     "delete_cmd_prefix": "del ",
     "library": "var_list.py",
     "varRefreshCmd": "print(var_dic_list())"
    },
    "r": {
     "delete_cmd_postfix": ") ",
     "delete_cmd_prefix": "rm(",
     "library": "var_list.r",
     "varRefreshCmd": "cat(var_dic_list()) "
    }
   },
   "types_to_exclude": [
    "module",
    "function",
    "builtin_function_or_method",
    "instance",
    "_Feature"
   ],
   "window_display": false
  }
 },
 "nbformat": 4,
 "nbformat_minor": 2
}
