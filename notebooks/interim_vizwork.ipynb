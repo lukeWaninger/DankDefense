{
 "cells": [
  {
   "cell_type": "code",
   "execution_count": null,
   "metadata": {
    "ExecuteTime": {
     "end_time": "2019-02-22T22:15:17.525093Z",
     "start_time": "2019-02-22T22:15:15.758208Z"
    },
    "code_folding": [
     27,
     34
    ]
   },
   "outputs": [],
   "source": [
    "%matplotlib inline\n",
    "import datetime as dt\n",
    "import gc\n",
    "import multiprocessing as mul\n",
    "from multiprocessing.dummy import Pool as TPool\n",
    "import os\n",
    "\n",
    "import cache_magic\n",
    "import matplotlib\n",
    "import matplotlib.pyplot as plt\n",
    "import numpy as np\n",
    "#import modin.pandas as pd\n",
    "import pandas as pd\n",
    "import seaborn as sns\n",
    "from tqdm import tqdm_notebook as tqdm\n",
    "from IPython.core.interactiveshell import InteractiveShell\n",
    "\n",
    "from sklearn.ensemble import GradientBoostingClassifier, RandomForestClassifier\n",
    "from sklearn.linear_model import LogisticRegressionCV\n",
    "from sklearn.model_selection import GridSearchCV\n",
    "from sklearn.preprocessing import LabelEncoder, StandardScaler, OneHotEncoder\n",
    "from sklearn.metrics import roc_curve, auc\n",
    "\n",
    "import dankypipe.pipe as pipe\n",
    "from dankypipe.utils import *\n",
    "\n",
    "InteractiveShell.ast_node_interactivity = 'all'"
   ]
  },
  {
   "cell_type": "markdown",
   "metadata": {},
   "source": [
    "### Data load"
   ]
  },
  {
   "cell_type": "code",
   "execution_count": null,
   "metadata": {
    "ExecuteTime": {
     "end_time": "2019-02-22T22:15:17.788510Z",
     "start_time": "2019-02-22T22:15:17.777953Z"
    },
    "code_folding": [
     0
    ]
   },
   "outputs": [],
   "source": [
    "dtypes = DTypes({\n",
    "        'MachineIdentifier':                                    'category',\n",
    "        'ProductName':                                          'category',\n",
    "        'EngineVersion_float':                                  'float16',\n",
    "        'AppVersion_float':                                     'float16',\n",
    "        'AvSigVersion_float':                                   'float16',\n",
    "        'IsBeta':                                               'int8',\n",
    "        'RtpStateBitfield_1':                                   'int8',\n",
    "        'RtpStateBitfield_2':                                   'int8',\n",
    "        'RtpStateBitfield_3':                                   'int8',\n",
    "        'RtpStateBitfield_4':                                   'int8',\n",
    "        'IsSxsPassiveMode':                                     'int8',\n",
    "        'DefaultBrowsersIdentifier':                            'category',\n",
    "        'AVProductStatesIdentifier_filled':                     'category',\n",
    "        'AVProductsInstalled':                                  'float16',\n",
    "        'AVProductsEnabled':                                    'float16',\n",
    "        'HasTpm':                                               'int8',\n",
    "        'CountryIdentifier':                                    'category',\n",
    "        'CityIdentifier_filled':                                'category',\n",
    "        'OrganizationIdentifier_filled':                        'category',\n",
    "        'LocaleEnglishNameIdentifier':                          'category',\n",
    "        'Platform':                                             'category',\n",
    "        'Processor':                                            'category',\n",
    "        'OsVer':                                                'category',\n",
    "        'OsBuild':                                              'int16',\n",
    "        'OsSuite':                                              'int16',\n",
    "        'OsPlatformSubRelease':                                 'category',\n",
    "        'OsBuildLab':                                           'category',\n",
    "        'SkuEdition':                                           'category',\n",
    "        'IsProtected':                                          'float16',\n",
    "        'AutoSampleOptIn':                                      'int8',\n",
    "        'PuaMode':                                              'category',\n",
    "        'SMode':                                                'float16',\n",
    "        'IeVerIdentifier_filled':                               'float16',\n",
    "        'SmartScreen_filled':                                   'category',\n",
    "        'Firewall':                                             'float16',\n",
    "        'UacLuaenable':                                         'float32',\n",
    "        'Census_MDC2_FormFactor_clean':                         'category',\n",
    "        'Census_MDC2_FormFactor_isValid':                       'int8',\n",
    "        'Census_FFMatch':                                       'int8',\n",
    "        'Census_DeviceFamily':                                  'category',\n",
    "        'Census_OEMNameIdentifier_filled':                      'float16',\n",
    "        'Census_OEMModelIdentifier_filled':                     'float32',\n",
    "        'Census_ProcessorCoreCount':                            'float16',\n",
    "        'Census_ProcessorManufacturerIdentifier_filled':        'category',\n",
    "        'Census_ProcessorModelIdentifier_filled':               'category',\n",
    "        'Census_ProcessorClass':                                'category',\n",
    "        'Census_PrimaryDiskTotalCapacity':                      'float32',\n",
    "        'Census_PrimaryDiskTypeName':                           'category',\n",
    "        'Census_SystemVolumeTotalCapacity':                     'float32',\n",
    "        'Census_HasOpticalDiskDrive':                           'int8',\n",
    "        'Census_TotalPhysicalRAM':                              'float32',\n",
    "        'Census_ChassisTypeName_clean':                         'category',\n",
    "        'Census_ChassisTypeName_isValid':                       'int8',\n",
    "        'Census_InternalPrimaryDiagonalDisplaySizeInInches':    'float16',\n",
    "        'Census_InternalPrimaryDisplayResolutionHorizontal':    'float16',\n",
    "        'Census_InternalPrimaryDisplayResolutionVertical':      'float16',\n",
    "        'Census_PowerPlatformRoleName_filled':                  'category',\n",
    "        'Census_InternalBatteryType_reduced':                   'category',\n",
    "        'Census_InternalBatteryNumberOfCharges':                'float32',\n",
    "        'Census_OSVersion':                                     'category',\n",
    "        'Census_OSArchitecture':                                'category',\n",
    "        'Census_OSBuildNumber':                                 'int16',\n",
    "        'Census_OSBuildRevision':                               'int32',\n",
    "        'Census_OSEdition_clean':                               'category',\n",
    "        'OS_Reduced_Media':                                     'int8',\n",
    "        'Census_OSInstallTypeName':                             'category',\n",
    "        'Census_OSInstallLanguageIdentifier_filled':            'float16',\n",
    "        'Census_OSUILocaleIdentifier':                          'int16',\n",
    "        'Census_OSEdSkuMatch':                                  'int8',\n",
    "        'Census_OSVersion_float':                               'float16',\n",
    "        'Census_OSWUAutoUpdateOptionsName_filled':              'category',\n",
    "        'Census_IsPortableOperatingSystem':                     'int8',\n",
    "        'Census_GenuineStateName_filled':                       'category',\n",
    "        'Census_ActivationChannel':                             'category',\n",
    "        'Census_IsFlightingInternal':                           'float16',\n",
    "        'Census_IsFlightsDisabled':                             'float16',\n",
    "        'Census_FlightRing_filled':                             'category',\n",
    "        'Census_ThresholdOptIn':                                'float16',\n",
    "        'Census_FirmwareManufacturerIdentifier_filled':         'float16',\n",
    "        'Census_FirmwareVersionIdentifier_filled':              'float32',\n",
    "        'Census_IsSecureBootEnabled':                           'int8',\n",
    "        'Census_IsWIMBootEnabled':                              'float16',\n",
    "        'Census_IsVirtualDevice':                               'float16',\n",
    "        'Census_IsTouchEnabled':                                'int8',\n",
    "        'Census_IsPenCapable':                                  'int8',\n",
    "        'Census_IsAlwaysOnAlwaysConnectedCapable':              'float16',\n",
    "        'Wdft_IsGamer':                                         'float16',\n",
    "        'Wdft_RegionIdentifier':                                'float16',\n",
    "        'branch_ver':                                           'category',\n",
    "        'subrel_ver':                                           'category',\n",
    "        'subrel_ver_num':                                       'int',\n",
    "        'branch_release_num':                                   'int',\n",
    "        'is_svc_release':                                       'int8',\n",
    "        'is_escrow_release':                                    'int8',\n",
    "        'is_sec_release':                                       'int8',\n",
    "        'is_st1_release':                                       'int8',\n",
    "        'is_prerelease':                                        'int8',\n",
    "        'is_special_release':                                   'int8',\n",
    "        'HasDetections':                                        'int8'\n",
    "})"
   ]
  },
  {
   "cell_type": "code",
   "execution_count": null,
   "metadata": {
    "ExecuteTime": {
     "end_time": "2019-02-22T22:15:53.755142Z",
     "start_time": "2019-02-22T22:15:53.656219Z"
    }
   },
   "outputs": [],
   "source": [
    "avsig_map = np.load(dp('AvSigVersionTimestamps.npy')).reshape(-1, 1)[0][0]\n",
    "mx = lambda x: avsig_map[x].date() if x in avsig_map.keys() else np.nan"
   ]
  },
  {
   "cell_type": "markdown",
   "metadata": {},
   "source": [
    "loat train, test set avsig datetime and cache results"
   ]
  },
  {
   "cell_type": "code",
   "execution_count": null,
   "metadata": {
    "ExecuteTime": {
     "end_time": "2019-02-22T22:16:39.777929Z",
     "start_time": "2019-02-22T22:15:55.778648Z"
    },
    "code_folding": [
     0
    ]
   },
   "outputs": [],
   "source": [
    "def load(s):\n",
    "    train_cleaned = pd.read_csv(dp(f'{s}_r1.csv'), dtype=dtypes.dict)\n",
    "    train_raw = pd.read_pickle(dp(f'{s}.pickle'))\n",
    "\n",
    "    cols = list(set(train_raw.columns) - set(train_cleaned.columns)) + ['MachineIdentifier']\n",
    "    df = train_cleaned.merge(train_raw[cols], on='MachineIdentifier', how='left')\n",
    "    \n",
    "    df['avsig_dt'] = df.AvSigVersion.apply(mx)\n",
    "    df = df.dropna(subset=['avsig_dt'], axis=0)\n",
    "    df = df.sort_values(by='avsig_dt')\n",
    "    return df\n",
    "\n",
    "%cache train = load('train')\n",
    "%cache test = load('test')"
   ]
  },
  {
   "cell_type": "markdown",
   "metadata": {},
   "source": [
    "### Plots"
   ]
  },
  {
   "cell_type": "markdown",
   "metadata": {
    "heading_collapsed": true
   },
   "source": [
    "#### sampling rates over time"
   ]
  },
  {
   "cell_type": "code",
   "execution_count": null,
   "metadata": {
    "ExecuteTime": {
     "end_time": "2019-02-20T05:27:05.182086Z",
     "start_time": "2019-02-20T05:26:58.934027Z"
    },
    "code_folding": [
     5
    ],
    "hidden": true
   },
   "outputs": [],
   "source": [
    "df_train = train[['AvSigVersion', 'avsig_dt', 'HasDetections']]\\\n",
    "    .rename(columns={'HasDetections':'train', 'avsig_dt':'dt'})\\\n",
    "    .groupby(['dt'])\\\n",
    "    .agg([len, np.mean])\\\n",
    "    .rename(columns={'len':'n_train', 'mean':'mean_detections_train'})\n",
    "df_test = test[['AvSigVersion', 'avsig_dt']]\\\n",
    "    .rename(columns={'avsig_dt':'dt'})\\\n",
    "    .groupby(['dt'])\\\n",
    "    .count()\\\n",
    "    .rename(columns={'AvSigVersion':'n_test'})\n",
    "    \n",
    "df = df_train.merge(df_test, on='dt', how='outer')\n",
    "df = df.fillna(0)\n",
    "df.columns = ['n_train', 'mean_detections_train', 'n_test']\n",
    "\n",
    "del df_train, df_test\n",
    "gc.collect()\n",
    "\n",
    "df.head()"
   ]
  },
  {
   "cell_type": "code",
   "execution_count": null,
   "metadata": {
    "ExecuteTime": {
     "end_time": "2019-02-20T06:24:10.822246Z",
     "start_time": "2019-02-20T06:24:09.908577Z"
    },
    "code_folding": [
     1
    ],
    "hidden": true
   },
   "outputs": [],
   "source": [
    "sns.set(style='whitegrid')\n",
    "font = {'family' : 'Arial',\n",
    "        'weight' : 'bold',\n",
    "        'size'   : 28}\n",
    "\n",
    "matplotlib.rc('font', **font)\n",
    "\n",
    "fig, ax1 = plt.subplots()\n",
    "fig.set_size_inches(17, 10)\n",
    "\n",
    "plt.xlim((dt.date(year=2018, month=6, day=1), dt.date(year=2018, month=12, day=1)))\n",
    "plt.grid(False)\n",
    "\n",
    "ax1.set_ylabel('Number of Machines', fontsize=20)\n",
    "\n",
    "ax2 = ax1.twinx()\n",
    "ax2.set_ylabel('Mean Detections', fontsize=20)\n",
    "ax2.tick_params(axis='y')\n",
    "leg2 = ax2.legend(loc='upper right')\n",
    "\n",
    "ax2.plot()\n",
    "\n",
    "sns.lineplot(\n",
    "    data=df[['n_train', 'n_test']], \n",
    "    ax=ax1,\n",
    "    linewidth=2,\n",
    "    legend='brief',\n",
    "    dashes=False\n",
    ")\n",
    "ax1.legend(loc='upper left')\n",
    "\n",
    "sns.lineplot(\n",
    "    data=df[['mean_detections_train']], \n",
    "    ax=ax2,\n",
    "    linewidth=2,\n",
    "    legend='brief',\n",
    "    dashes=[(2, 2), (2, 2)]\n",
    ")\n",
    "ax2.legend(loc='upper right')"
   ]
  },
  {
   "cell_type": "markdown",
   "metadata": {
    "heading_collapsed": true
   },
   "source": [
    "#### Major AvSigVersion density"
   ]
  },
  {
   "cell_type": "code",
   "execution_count": null,
   "metadata": {
    "ExecuteTime": {
     "end_time": "2019-02-20T18:43:32.132034Z",
     "start_time": "2019-02-20T18:37:22.388Z"
    },
    "hidden": true
   },
   "outputs": [],
   "source": [
    "fx = lambda x: x.split('.')[1]\n",
    "train['major'] = train.AvSigVersion.apply(fx)\n",
    "test['major'] = test.AvSigVersion.apply(fx)"
   ]
  },
  {
   "cell_type": "code",
   "execution_count": null,
   "metadata": {
    "ExecuteTime": {
     "end_time": "2019-02-20T04:42:37.377575Z",
     "start_time": "2019-02-20T04:42:32.777985Z"
    },
    "hidden": true
   },
   "outputs": [],
   "source": [
    "majors = pd.concat([\n",
    "    train[['avsig_dt', 'major']].drop_duplicates(),\n",
    "    test[['avsig_dt', 'major']].drop_duplicates()\n",
    "], axis=0, sort=False)\n",
    "\n",
    "majors.major = majors.major.apply(lambda x: int(x) if isint(x) else np.nan)\n",
    "majors = majors.dropna(subset=['major'])\n",
    "majors.head()"
   ]
  },
  {
   "cell_type": "code",
   "execution_count": null,
   "metadata": {
    "ExecuteTime": {
     "end_time": "2019-02-20T04:50:26.855036Z",
     "start_time": "2019-02-20T04:50:26.573635Z"
    },
    "hidden": true
   },
   "outputs": [],
   "source": [
    "sns.distplot(majors.major)"
   ]
  },
  {
   "cell_type": "code",
   "execution_count": null,
   "metadata": {
    "ExecuteTime": {
     "end_time": "2019-02-20T04:58:28.539793Z",
     "start_time": "2019-02-20T04:58:28.269136Z"
    },
    "hidden": true
   },
   "outputs": [],
   "source": [
    "majors['ts'] = majors.avsig_dt.apply(lambda x: dt.datetime(\n",
    "    x.year, x.month, x.day\n",
    ").timestamp())\n",
    "                                     \n",
    "sns.distplot(majors.ts)"
   ]
  },
  {
   "cell_type": "code",
   "execution_count": null,
   "metadata": {
    "ExecuteTime": {
     "end_time": "2019-02-20T05:06:29.767007Z",
     "start_time": "2019-02-20T05:06:29.757024Z"
    },
    "hidden": true,
    "scrolled": true
   },
   "outputs": [],
   "source": [
    "majors.major.describe()"
   ]
  },
  {
   "cell_type": "code",
   "execution_count": null,
   "metadata": {
    "ExecuteTime": {
     "end_time": "2019-02-20T05:14:31.240915Z",
     "start_time": "2019-02-20T05:14:31.230174Z"
    },
    "hidden": true
   },
   "outputs": [],
   "source": [
    "majors.loc[majors.major == 245].avsig_dt.agg([np.max, np.min])"
   ]
  },
  {
   "cell_type": "code",
   "execution_count": null,
   "metadata": {
    "ExecuteTime": {
     "end_time": "2019-02-20T05:43:19.416490Z",
     "start_time": "2019-02-20T05:43:19.410066Z"
    },
    "hidden": true
   },
   "outputs": [],
   "source": [
    "len(train['AppVersion'].dtype.categories)"
   ]
  },
  {
   "cell_type": "markdown",
   "metadata": {
    "heading_collapsed": true
   },
   "source": [
    "#### Generate all categories bars by HasDetections"
   ]
  },
  {
   "cell_type": "code",
   "execution_count": null,
   "metadata": {
    "hidden": true
   },
   "outputs": [],
   "source": [
    "for c in tqdm(categorical_cols):\n",
    "    cat_by_detections(c, close=True)"
   ]
  },
  {
   "cell_type": "markdown",
   "metadata": {},
   "source": [
    "#### Generate all density plots for numeric features"
   ]
  },
  {
   "cell_type": "code",
   "execution_count": null,
   "metadata": {},
   "outputs": [],
   "source": [
    "for c in dtypes.num_cols:    \n",
    "    numeric_by_dections(train, c, close=True)"
   ]
  },
  {
   "cell_type": "markdown",
   "metadata": {
    "heading_collapsed": true
   },
   "source": [
    "#### Psuedo time features"
   ]
  },
  {
   "cell_type": "code",
   "execution_count": null,
   "metadata": {
    "hidden": true,
    "scrolled": false
   },
   "outputs": [],
   "source": [
    "def appx(x):\n",
    "    try:\n",
    "        return float('.'.join(x.split('.')[1:3]))\n",
    "    except:\n",
    "        return np.nan\n",
    "    \n",
    "train['AppVersion_float'] = train.AppVersion.apply(appx)\n",
    "\n",
    "def avx(x):\n",
    "    try:\n",
    "        return float('.'.join(x.split('.')[1:3]))\n",
    "    except:\n",
    "        return np.nan\n",
    "\n",
    "train['AvSigVersion_float'] = train.AvSigVersion.apply(avx)"
   ]
  },
  {
   "cell_type": "code",
   "execution_count": null,
   "metadata": {
    "hidden": true
   },
   "outputs": [],
   "source": [
    "x = plt.gcf()\n",
    "fig, ax1 = plt.subplots()\n",
    "x = fig.set_size_inches(10, 8)\n",
    "x = plt.grid(False)\n",
    "\n",
    "df_ = train[['avsig_dt', 'AvSigVersion', 'AvSigVersion_float', 'AppVersion', 'AppVersion_float']].dropna().drop_duplicates()\n",
    "df_.head()\n",
    "\n",
    "sns.lineplot(\n",
    "    x='avsig_dt',\n",
    "    y='AvSigVersion_float',\n",
    "    data=df_)"
   ]
  },
  {
   "cell_type": "code",
   "execution_count": null,
   "metadata": {
    "hidden": true,
    "scrolled": false
   },
   "outputs": [],
   "source": [
    "t=[print(c) for c in sorted(train.columns)]"
   ]
  },
  {
   "cell_type": "code",
   "execution_count": null,
   "metadata": {
    "hidden": true
   },
   "outputs": [],
   "source": [
    "x = plt.gcf()\n",
    "fig, ax1 = plt.subplots()\n",
    "x = fig.set_size_inches(13, 6)\n",
    "x = plt.grid(False)\n",
    "\n",
    "x = sns.distplot(\n",
    "    train.loc[train.HasDetections == 0, 'AVProductStatesIdentifier_filled'].sample(20_000).astype(float).dropna(), \n",
    "    hist=True, \n",
    "    kde=False,\n",
    "    #kde_kws={\"shade\": True},\n",
    "    color=NO_DETECTIONS,\n",
    ")\n",
    "x = sns.distplot(\n",
    "    train.loc[train.HasDetections == 1, 'AVProductStatesIdentifier_filled'].sample(20_000).astype(float).dropna(), \n",
    "    hist=True, \n",
    "    kde=False,\n",
    "    #kde_kws={\"shade\": True},\n",
    "    color=DETECTIONS\n",
    ")"
   ]
  },
  {
   "cell_type": "markdown",
   "metadata": {
    "heading_collapsed": true
   },
   "source": [
    "#### Form Factors"
   ]
  },
  {
   "cell_type": "code",
   "execution_count": null,
   "metadata": {
    "hidden": true
   },
   "outputs": [],
   "source": [
    "x = plt.gcf()\n",
    "fig, ax1 = plt.subplots()\n",
    "x = fig.set_size_inches(15, 6)\n",
    "x = plt.grid(False)\n",
    "\n",
    "df_ = train[['HasDetections', 'Census_MDC2FormFactor']]\n",
    "ct = pd.crosstab(df_.Census_MDC2FormFactor, df_.HasDetections, normalize='index').reset_index()\n",
    "ct.columns = ['form', 'no_detections', 'detections']\n",
    "ct['difference'] = ct.detections-ct.no_detections\n",
    "\n",
    "a = ct[['form', 'no_detections', 'difference']].rename(columns={'no_detections':'rate'})\n",
    "a['detections'] = 'no'\n",
    "b = ct[['form', 'detections', 'difference']].rename(columns={'detections':'rate'})\n",
    "b['detections'] = 'yes'\n",
    "\n",
    "ct = pd.concat([a, b], axis=0, sort=False).sort_values(by='difference')\n",
    "\n",
    "ct = ct.loc[[c not in ['IoTOther'] for c in ct.form]]\n",
    "ct.form = ct.form.astype(str)\n",
    "\n",
    "ct.loc[(ct.form == 'SmallTablet') | (ct.form == 'LargeTablet'), 'form'] = 'Tablet'\n",
    "ct.loc[['server' in c.lower() for c in ct.form], 'form'] = 'Server'\n",
    "\n",
    "# ct\n",
    "# t=[print(c) for c in sorted(ct.form.unique())]\n",
    "\n",
    "x = sns.barplot(\n",
    "    x='form', \n",
    "    y='rate', \n",
    "    hue='detections',\n",
    "    palette={'no': NO_DETECTIONS, 'yes': DETECTIONS},\n",
    "    errwidth=0,\n",
    "    data=ct\n",
    ")\n",
    "\n",
    "x = ax1.set_xlabel('Form Factor', fontsize=18)\n",
    "x = ax1.set_ylabel('Detection Rate', fontsize=18)\n",
    "\n",
    "x = plt.savefig(os.path.join('figs', 'MDC2FormFactor_HasDetections.png'))"
   ]
  },
  {
   "cell_type": "markdown",
   "metadata": {
    "heading_collapsed": true
   },
   "source": [
    "#### AV Products"
   ]
  },
  {
   "cell_type": "code",
   "execution_count": null,
   "metadata": {
    "hidden": true
   },
   "outputs": [],
   "source": [
    "x = plt.gcf()\n",
    "fig, ax1 = plt.subplots()\n",
    "x = fig.set_size_inches(7, 5)\n",
    "x = plt.grid(False)\n",
    "\n",
    "df_ = train[['HasDetections', 'AVProductsInstalled']]\n",
    "ct = pd.crosstab(df_.AVProductsInstalled, df_.HasDetections, normalize='index').reset_index()\n",
    "ct.columns = ['n_installed', 'no_detections', 'detections']\n",
    "ct['difference'] = ct.detections-ct.no_detections\n",
    "\n",
    "a = ct[['n_installed', 'no_detections', 'difference']].rename(columns={'no_detections':'rate'})\n",
    "a['detections'] = 'no'\n",
    "\n",
    "b = ct[['n_installed', 'detections', 'difference']].rename(columns={'detections':'rate'})\n",
    "b['detections'] = 'yes'\n",
    "\n",
    "ct = pd.concat([a, b], axis=0, sort=False).sort_values(by='difference')\n",
    "ct = ct.sort_values(by='n_installed')\n",
    "\n",
    "ct.n_installed = ct.n_installed.astype(int)\n",
    "ct = ct.loc[(ct.n_installed > 0) & (ct.n_installed < 7)]\n",
    "\n",
    "x = sns.barplot(\n",
    "    x='n_installed', \n",
    "    y='rate', \n",
    "    hue='detections',\n",
    "    palette={'no': NO_DETECTIONS, 'yes': DETECTIONS},\n",
    "    errwidth=0,\n",
    "    data=ct\n",
    ")\n",
    "\n",
    "x = ax1.set_xlabel('Number of AV Products Installed', fontsize=18)\n",
    "x = ax1.set_ylabel('Detection Rate', fontsize=18)\n",
    "\n",
    "x = plt.savefig(os.path.join('figs', 'AVProducts_installed.png'))"
   ]
  },
  {
   "cell_type": "code",
   "execution_count": null,
   "metadata": {
    "hidden": true
   },
   "outputs": [],
   "source": [
    "x = plt.gcf()\n",
    "fig, ax1 = plt.subplots()\n",
    "x = fig.set_size_inches(7, 5)\n",
    "x = plt.grid(False)\n",
    "\n",
    "df_ = train[['HasDetections', 'AVProductsEnabled']]\n",
    "ct = pd.crosstab(df_.AVProductsEnabled, df_.HasDetections, normalize='index').reset_index()\n",
    "ct.columns = ['n_installed', 'no_detections', 'detections']\n",
    "ct['difference'] = ct.detections-ct.no_detections\n",
    "\n",
    "a = ct[['n_installed', 'no_detections', 'difference']].rename(columns={'no_detections':'rate'})\n",
    "a['detections'] = 'no'\n",
    "\n",
    "b = ct[['n_installed', 'detections', 'difference']].rename(columns={'detections':'rate'})\n",
    "b['detections'] = 'yes'\n",
    "\n",
    "ct = pd.concat([a, b], axis=0, sort=False).sort_values(by='difference')\n",
    "ct = ct.sort_values(by='n_installed')\n",
    "\n",
    "ct.n_installed = ct.n_installed.astype(int)\n",
    "\n",
    "x = sns.barplot(\n",
    "    x='n_installed', \n",
    "    y='rate', \n",
    "    hue='detections',\n",
    "    palette={'no': NO_DETECTIONS, 'yes': DETECTIONS},\n",
    "    errwidth=0,\n",
    "    data=ct\n",
    ")\n",
    "\n",
    "x = ax1.set_xlabel('Number of AV Products Enabled', fontsize=18)\n",
    "x = ax1.set_ylabel('Detection Rate', fontsize=18)\n",
    "\n",
    "x = plt.savefig(os.path.join('figs', 'AVProducts_enabled.png'))"
   ]
  },
  {
   "cell_type": "markdown",
   "metadata": {
    "heading_collapsed": true
   },
   "source": [
    "#### Detections"
   ]
  },
  {
   "cell_type": "code",
   "execution_count": null,
   "metadata": {
    "hidden": true
   },
   "outputs": [],
   "source": [
    "df = train[['MachineIdentifier', 'HasDetections']].groupby('HasDetections').count().reset_index()\n",
    "df\n",
    "\n",
    "x = plt.gcf()\n",
    "fig, ax1 = plt.subplots()\n",
    "x = fig.set_size_inches(7, 5)\n",
    "\n",
    "sns.barplot(\n",
    "    x='HasDetections',\n",
    "    y='MachineIdentifier',\n",
    "    data=df,\n",
    "    palette=[NO_DETECTIONS, DETECTIONS]\n",
    ")\n",
    "\n",
    "x = plt.savefig(os.path.join('figs', 'detections.png'))"
   ]
  },
  {
   "cell_type": "markdown",
   "metadata": {
    "heading_collapsed": true
   },
   "source": [
    "#### Numerical features by time"
   ]
  },
  {
   "cell_type": "code",
   "execution_count": null,
   "metadata": {
    "code_folding": [
     0
    ],
    "hidden": true
   },
   "outputs": [],
   "source": [
    "for c in numeric_cols:\n",
    "    numeric_over_time(c)"
   ]
  },
  {
   "cell_type": "markdown",
   "metadata": {
    "heading_collapsed": true
   },
   "source": [
    "#### Categorical features by time"
   ]
  },
  {
   "cell_type": "code",
   "execution_count": null,
   "metadata": {
    "ExecuteTime": {
     "end_time": "2019-02-22T20:51:50.622367Z",
     "start_time": "2019-02-22T20:51:50.522337Z"
    },
    "hidden": true
   },
   "outputs": [],
   "source": [
    "del cat_over_time\n",
    "gc.collect()"
   ]
  },
  {
   "cell_type": "code",
   "execution_count": null,
   "metadata": {
    "code_folding": [
     0
    ],
    "hidden": true
   },
   "outputs": [],
   "source": [
    "for c in categorical_cols:\n",
    "    cat_over_time(c, close=True)"
   ]
  },
  {
   "cell_type": "markdown",
   "metadata": {},
   "source": [
    "### Transformations"
   ]
  },
  {
   "cell_type": "markdown",
   "metadata": {
    "heading_collapsed": true
   },
   "source": [
    "#### Census_PrimaryDistkTypeName"
   ]
  },
  {
   "cell_type": "code",
   "execution_count": null,
   "metadata": {
    "ExecuteTime": {
     "end_time": "2019-02-22T20:52:56.787558Z",
     "start_time": "2019-02-22T20:52:54.104144Z"
    },
    "hidden": true
   },
   "outputs": [],
   "source": [
    "cat_by_detections('Census_PrimaryDiskTypeName')"
   ]
  },
  {
   "cell_type": "code",
   "execution_count": null,
   "metadata": {
    "ExecuteTime": {
     "end_time": "2019-02-22T20:53:58.015261Z",
     "start_time": "2019-02-22T20:53:14.313064Z"
    },
    "hidden": true,
    "scrolled": false
   },
   "outputs": [],
   "source": [
    "cat_over_time('Census_PrimaryDiskTypeName')"
   ]
  },
  {
   "cell_type": "code",
   "execution_count": null,
   "metadata": {
    "ExecuteTime": {
     "end_time": "2019-02-22T21:07:29.668781Z",
     "start_time": "2019-02-22T21:06:39.883772Z"
    },
    "hidden": true
   },
   "outputs": [],
   "source": [
    "def transform(df):\n",
    "    df.Census_PrimaryDiskTypeName = df.Census_PrimaryDiskTypeName.astype(str)\n",
    "    df.loc[\n",
    "        df.Census_PrimaryDiskTypeName.isnull() | \n",
    "        (df.Census_PrimaryDiskTypeName == 'nan') |\n",
    "        (df.Census_PrimaryDiskTypeName == 'UNKNOWN'), \n",
    "        'Census_PrimaryDiskTypeName'] = 'missing'\n",
    "    return df\n",
    "\n",
    "train = transform(train)\n",
    "test = transform(test)\n",
    "\n",
    "cat_by_detections('Census_PrimaryDiskTypeName')\n",
    "cat_over_time('Census_PrimaryDiskTypeName')"
   ]
  },
  {
   "cell_type": "markdown",
   "metadata": {},
   "source": [
    "#### Census_OSWWUAutoUpdateOptionsName"
   ]
  },
  {
   "cell_type": "code",
   "execution_count": null,
   "metadata": {
    "ExecuteTime": {
     "end_time": "2019-02-22T22:26:15.446463Z",
     "start_time": "2019-02-22T22:25:22.007287Z"
    },
    "scrolled": false
   },
   "outputs": [],
   "source": [
    "cat_by_detections(train, 'Census_OSWUAutoUpdateOptionsName')\n",
    "cat_over_time(train, 'Census_OSWUAutoUpdateOptionsName')"
   ]
  },
  {
   "cell_type": "code",
   "execution_count": null,
   "metadata": {
    "ExecuteTime": {
     "end_time": "2019-02-22T22:21:15.278433Z",
     "start_time": "2019-02-22T22:19:54.861656Z"
    }
   },
   "outputs": [],
   "source": [
    "def transform(df):\n",
    "    df.Census_OSWUAutoUpdateOptionsName_filled = df.Census_OSWUAutoUpdateOptionsName.astype(str).apply(str.strip)\n",
    "    \n",
    "    df.loc[df.Census_OSWUAutoUpdateOptionsName_filled == 'UNKNOWN', 'Census_OSWUAutoUpdateOptionsName'] = 'Notify'\n",
    "    \n",
    "    df.loc[\n",
    "        df.Census_OSWUAutoUpdateOptionsName_filled.isnull() | (df.Census_OSWUAutoUpdateOptionsName_filled == 'nan'),\n",
    "        'Census_OSWUAutoUpdateOptionsName'\n",
    "    ] = 'UNKNOWN'\n",
    "    \n",
    "    df.Census_OSWUAutoUpdateOptionsName_filled = df.Census_OSWUAutoUpdateOptionsName_filled.astype('category')\n",
    "    return df\n",
    "\n",
    "train = transform(train)\n",
    "test = transform(test)\n",
    "\n",
    "cat_by_detections(train, 'Census_OSWUAutoUpdateOptionsName')\n",
    "cat_over_time(train, 'Census_OSWUAutoUpdateOptionsName')"
   ]
  },
  {
   "cell_type": "markdown",
   "metadata": {},
   "source": [
    "#### AVProductsStateIdentifier"
   ]
  },
  {
   "cell_type": "code",
   "execution_count": null,
   "metadata": {},
   "outputs": [],
   "source": [
    "cateval(train, 'AVProductStatesIdentifier')\n",
    "cat_by_detections(train, 'AVProductStatesIdentifier')\n",
    "cat_over_time(train, 'AVProductStatesIdentifier')"
   ]
  },
  {
   "cell_type": "code",
   "execution_count": null,
   "metadata": {},
   "outputs": [],
   "source": [
    "cateval(train, 'AVProductStatesIdentifier_filled')\n",
    "cat_by_detections(train, 'AVProductStatesIdentifier_filled')\n",
    "cat_over_time(train, 'AVProductStatesIdentifier_filled')"
   ]
  },
  {
   "cell_type": "markdown",
   "metadata": {
    "heading_collapsed": true
   },
   "source": [
    "#### Census_FirmwareManufacturerIdentifier"
   ]
  },
  {
   "cell_type": "code",
   "execution_count": null,
   "metadata": {
    "hidden": true
   },
   "outputs": [],
   "source": [
    "cateval(train, 'Census_FirmwareManufacturerIdentifier')\n",
    "cat_by_detections(train, 'Census_FirmwareManufacturerIdentifier')\n",
    "cat_over_time(train, 'Census_FirmwareManufacturerIdentifier')"
   ]
  },
  {
   "cell_type": "code",
   "execution_count": null,
   "metadata": {
    "hidden": true
   },
   "outputs": [],
   "source": [
    "cateval(train, 'Census_FirmwareManufacturerIdentifier_filled')\n",
    "cat_by_detections(train, 'Census_FirmwareManufacturerIdentifier_filled')\n",
    "cat_over_time(train, 'Census_FirmwareManufacturerIdentifier_filled')"
   ]
  },
  {
   "cell_type": "markdown",
   "metadata": {
    "heading_collapsed": true
   },
   "source": [
    "#### Census_FlightRing"
   ]
  },
  {
   "cell_type": "code",
   "execution_count": null,
   "metadata": {
    "ExecuteTime": {
     "end_time": "2019-02-22T22:15:11.152999Z",
     "start_time": "2019-02-22T22:13:55.257Z"
    },
    "hidden": true
   },
   "outputs": [],
   "source": [
    "cateval(train, 'Census_FlightRing')\n",
    "cat_by_detections(train, 'Census_FlightRing')\n",
    "cat_over_time(train, 'Census_FlightRing')"
   ]
  },
  {
   "cell_type": "code",
   "execution_count": null,
   "metadata": {
    "hidden": true
   },
   "outputs": [],
   "source": [
    "cateval(train, 'Census_FlightRing_filled')\n",
    "cat_by_detections(train, 'Census_FlightRing_filled')\n",
    "cat_over_time(train, 'Census_FlightRing_filled')"
   ]
  },
  {
   "cell_type": "markdown",
   "metadata": {
    "heading_collapsed": true
   },
   "source": [
    "#### Census_GenuineStateName"
   ]
  },
  {
   "cell_type": "code",
   "execution_count": null,
   "metadata": {
    "hidden": true
   },
   "outputs": [],
   "source": [
    "cateval(train, 'Census_GenuineStateName')\n",
    "cat_by_detections(train, 'Census_GenuineStateName')\n",
    "cat_over_time(train, 'Census_GenuineStateName')"
   ]
  },
  {
   "cell_type": "code",
   "execution_count": null,
   "metadata": {
    "hidden": true
   },
   "outputs": [],
   "source": [
    "cateval(train, 'Census_GenuineStateName_filled')\n",
    "cat_by_detections(train, 'Census_GenuineStateName_filled')\n",
    "cat_over_time(train, 'Census_GenuineStateName_filled')"
   ]
  },
  {
   "cell_type": "markdown",
   "metadata": {
    "heading_collapsed": true
   },
   "source": [
    "#### Census_MDC2FormFactor"
   ]
  },
  {
   "cell_type": "code",
   "execution_count": null,
   "metadata": {
    "hidden": true
   },
   "outputs": [],
   "source": [
    "cateval(train, 'Census_MDC2FormFactor')\n",
    "cat_by_detections(train, 'Census_MDC2FormFactor')\n",
    "cat_over_time(train, 'Census_MDC2FormFactor')"
   ]
  },
  {
   "cell_type": "code",
   "execution_count": null,
   "metadata": {
    "hidden": true
   },
   "outputs": [],
   "source": [
    "cateval(train, 'Census_MDC2FormFactor_clean')\n",
    "cat_by_detections(train, 'Census_MDC2FormFactor_clean')\n",
    "cat_over_time(train, 'Census_MDC2FormFactor_clean')"
   ]
  },
  {
   "cell_type": "markdown",
   "metadata": {
    "heading_collapsed": true
   },
   "source": [
    "#### Census_OEMModelIdentifier"
   ]
  },
  {
   "cell_type": "code",
   "execution_count": null,
   "metadata": {
    "hidden": true
   },
   "outputs": [],
   "source": [
    "cateval(train, 'Census_OEMModelIdentifier')\n",
    "cat_by_detections(train, 'Census_OEMModelIdentifier')\n",
    "cat_over_time(train, 'Census_OEMModelIdentifier')"
   ]
  },
  {
   "cell_type": "code",
   "execution_count": null,
   "metadata": {
    "hidden": true
   },
   "outputs": [],
   "source": [
    "cateval(train, 'Census_OEMModelIdentifier_filled')\n",
    "cat_by_detections(train, 'Census_OEMModelIdentifier_filled')\n",
    "cat_over_time(train, 'Census_OEMModelIdentifier_filled')"
   ]
  },
  {
   "cell_type": "markdown",
   "metadata": {
    "heading_collapsed": true
   },
   "source": [
    "#### Census_OEMNameIdentifier"
   ]
  },
  {
   "cell_type": "code",
   "execution_count": null,
   "metadata": {
    "hidden": true
   },
   "outputs": [],
   "source": [
    "cateval(train, 'Census_OEMNameIdentifier')\n",
    "cat_by_detections(train, 'Census_OEMNameIdentifier')\n",
    "cat_over_time(train, 'Census_OEMNameIdentifier')"
   ]
  },
  {
   "cell_type": "code",
   "execution_count": null,
   "metadata": {
    "hidden": true
   },
   "outputs": [],
   "source": [
    "cateval(train, 'Census_OEMNameIdentifier_filled')\n",
    "cat_by_detections(train, 'Census_OEMNameIdentifier_filled')\n",
    "cat_over_time(train, 'Census_OEMNameIdentifier_filled')"
   ]
  },
  {
   "cell_type": "markdown",
   "metadata": {},
   "source": [
    "#### Census_OSEdition"
   ]
  },
  {
   "cell_type": "code",
   "execution_count": null,
   "metadata": {},
   "outputs": [],
   "source": [
    "cateval(train, 'Census_OSEdition')\n",
    "cat_by_detections(train, 'Census_OSEdition')\n",
    "cat_over_time(train, 'Census_OSEdition')"
   ]
  },
  {
   "cell_type": "code",
   "execution_count": null,
   "metadata": {},
   "outputs": [],
   "source": [
    "cateval(train, 'Census_OSEdition_clean')\n",
    "cat_by_detections(train, 'Census_OSEdition_clean')\n",
    "cat_over_time(train, 'Census_OSEdition_clean')"
   ]
  },
  {
   "cell_type": "markdown",
   "metadata": {},
   "source": [
    "#### Census_OSInstallLanguageIdentifier"
   ]
  },
  {
   "cell_type": "code",
   "execution_count": null,
   "metadata": {},
   "outputs": [],
   "source": [
    "cateval(train, 'Census_OSInstallLanguageIdentifier')\n",
    "cat_by_detections(train, 'Census_OSInstallLanguageIdentifier')\n",
    "cat_over_time(train, 'Census_OSInstallLanguageIdentifier')"
   ]
  },
  {
   "cell_type": "code",
   "execution_count": null,
   "metadata": {},
   "outputs": [],
   "source": [
    "cateval(train, 'Census_OSInstallLanguageIdentifier_filled')\n",
    "cat_by_detections(train, 'Census_OSInstallLanguageIdentifier_filled')\n",
    "cat_over_time(train, 'Census_OSInstallLanguageIdentifier_filled')"
   ]
  },
  {
   "cell_type": "markdown",
   "metadata": {},
   "source": [
    "#### Census_OSVersion"
   ]
  },
  {
   "cell_type": "code",
   "execution_count": null,
   "metadata": {},
   "outputs": [],
   "source": []
  },
  {
   "cell_type": "code",
   "execution_count": null,
   "metadata": {},
   "outputs": [],
   "source": []
  }
 ],
 "metadata": {
  "kernelspec": {
   "display_name": "Python [conda env:dankd]",
   "language": "python",
   "name": "conda-env-dankd-py"
  },
  "language_info": {
   "codemirror_mode": {
    "name": "ipython",
    "version": 3
   },
   "file_extension": ".py",
   "mimetype": "text/x-python",
   "name": "python",
   "nbconvert_exporter": "python",
   "pygments_lexer": "ipython3",
   "version": "3.7.2"
  },
  "varInspector": {
   "cols": {
    "lenName": 16,
    "lenType": 16,
    "lenVar": 40
   },
   "kernels_config": {
    "python": {
     "delete_cmd_postfix": "",
     "delete_cmd_prefix": "del ",
     "library": "var_list.py",
     "varRefreshCmd": "print(var_dic_list())"
    },
    "r": {
     "delete_cmd_postfix": ") ",
     "delete_cmd_prefix": "rm(",
     "library": "var_list.r",
     "varRefreshCmd": "cat(var_dic_list()) "
    }
   },
   "types_to_exclude": [
    "module",
    "function",
    "builtin_function_or_method",
    "instance",
    "_Feature"
   ],
   "window_display": false
  }
 },
 "nbformat": 4,
 "nbformat_minor": 2
}
