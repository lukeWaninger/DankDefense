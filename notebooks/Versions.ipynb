{
 "cells": [
  {
   "cell_type": "code",
   "execution_count": 2,
   "metadata": {
    "ExecuteTime": {
     "end_time": "2019-02-01T16:33:19.818474Z",
     "start_time": "2019-02-01T16:33:18.621067Z"
    }
   },
   "outputs": [],
   "source": [
    "import re\n",
    "\n",
    "import numpy as np\n",
    "import pandas as pd\n",
    "from tqdm import tqdm\n",
    "\n",
    "from dankypipe import pipe\n",
    "\n",
    "tqdm.pandas()\n",
    "\n",
    "def isfloat(x):\n",
    "    try:\n",
    "        float(x)\n",
    "        return True\n",
    "    except:\n",
    "        return False\n",
    "    \n",
    "def isint(x):\n",
    "    try:\n",
    "        int(x)\n",
    "        return True\n",
    "    except:\n",
    "        return False"
   ]
  },
  {
   "cell_type": "code",
   "execution_count": 3,
   "metadata": {
    "ExecuteTime": {
     "end_time": "2019-02-01T16:34:04.996949Z",
     "start_time": "2019-02-01T16:33:21.249266Z"
    }
   },
   "outputs": [],
   "source": [
    "train = pd.read_pickle('train.pickle').sort_values(by='AvSigVersion')\n",
    "test = pd.read_pickle('test.pickle').sort_values(by='AvSigVersion')\n",
    "\n",
    "train = train.rename(columns={'HasDetections':'Target'})"
   ]
  },
  {
   "cell_type": "code",
   "execution_count": 12,
   "metadata": {
    "ExecuteTime": {
     "end_time": "2019-02-01T16:45:49.680768Z",
     "start_time": "2019-02-01T16:45:49.619852Z"
    },
    "code_folding": [
     2
    ]
   },
   "outputs": [],
   "source": [
    "def transform(df):\n",
    "    df = df.copy()\n",
    "    df['MajorEngineVersion'] = df.EngineVersion.apply(lambda x: int(x.split('.')[2]))\n",
    "    df['MinorEngineVersion'] = df.EngineVersion.apply(lambda x: int(x.split('.')[3]))\n",
    "    df['EngineVersion_float'] = df.EngineVersion.apply(lambda x: float('.'.join(x.split('.')[2:])))\n",
    "\n",
    "    df['MajorAppVersion'] = df.AppVersion.apply(lambda x: int(x.split('.')[1]))\n",
    "    df['MinorAppVersion'] = df.AppVersion.apply(lambda x: x.split('.')[2])\n",
    "\n",
    "    mlen = np.max([len(v) for v in df['MinorAppVersion']])\n",
    "    df['MinorAppVersion'] = df.MinorAppVersion.apply(lambda x: int(f'1{x.zfill(mlen)}'))\n",
    "\n",
    "    df['FinestAppVersion'] = df.AppVersion.apply(lambda x: x.split('.')[3])\n",
    "\n",
    "    mlen = np.max([len(v) for v in df['FinestAppVersion']])\n",
    "    df['FinestAppVersion'] = df.FinestAppVersion.apply(lambda x: int(f'1{x.zfill(mlen)}'))\n",
    "\n",
    "    df['AppVersion_float'] = [\n",
    "        float(f'{t[0]}.{t[1]}{t[2]}') for t in df[\n",
    "            ['MajorAppVersion', 'MinorAppVersion', 'FinestAppVersion']\n",
    "        ].itertuples()\n",
    "    ]\n",
    "    \n",
    "    def intx(x, i):\n",
    "        x = x.split('.')[i]\n",
    "        return int(x) if isint(x) else np.nan\n",
    "    \n",
    "    def floatx(x, i, j=None):\n",
    "        if j is not None:\n",
    "            x = '.'.join(x.split('.')[i:j])\n",
    "        else:\n",
    "             x = '.'.join(x.split('.')[i:])\n",
    "                          \n",
    "        return float(x) if isfloat(x) else np.nan\n",
    "    \n",
    "    \n",
    "    df['MajorAvSigVersion'] = df.AvSigVersion.apply(intx, i=1)\n",
    "    df['MinorAvSigVersion'] = df.AvSigVersion.apply(intx, i=2)\n",
    "    df['AvSigVersion_float'] = df.AvSigVersion.apply(floatx, i=1, j=3)\n",
    "\n",
    "    df['Census_MajorOSVersion'] = df.Census_OSVersion.apply(intx, i=2)\n",
    "    df['Census_MinorOSVersion'] = df.Census_OSVersion.apply(intx, i=3)\n",
    "    df['Census_OSVersion_float'] = df.Census_OSVersion.apply(floatx, i=2)\n",
    "    \n",
    "    return df"
   ]
  },
  {
   "cell_type": "code",
   "execution_count": 4,
   "metadata": {
    "ExecuteTime": {
     "end_time": "2019-02-01T16:34:18.617662Z",
     "start_time": "2019-02-01T16:34:18.321540Z"
    }
   },
   "outputs": [],
   "source": [
    "cols  = ['EngineVersion', 'AppVersion', 'AvSigVersion', 'Census_OSVersion', 'MachineIdentifier']\n",
    "train = train[cols+['Target']]\n",
    "test  = test[cols]"
   ]
  },
  {
   "cell_type": "code",
   "execution_count": 13,
   "metadata": {
    "ExecuteTime": {
     "end_time": "2019-02-01T16:47:11.807172Z",
     "start_time": "2019-02-01T16:45:57.676008Z"
    }
   },
   "outputs": [],
   "source": [
    "train = transform(train)\n",
    "test  = transform(test)"
   ]
  },
  {
   "cell_type": "code",
   "execution_count": 19,
   "metadata": {
    "ExecuteTime": {
     "end_time": "2019-02-01T16:50:30.659982Z",
     "start_time": "2019-02-01T16:50:30.645050Z"
    }
   },
   "outputs": [
    {
     "data": {
      "text/html": [
       "<div>\n",
       "<style scoped>\n",
       "    .dataframe tbody tr th:only-of-type {\n",
       "        vertical-align: middle;\n",
       "    }\n",
       "\n",
       "    .dataframe tbody tr th {\n",
       "        vertical-align: top;\n",
       "    }\n",
       "\n",
       "    .dataframe thead th {\n",
       "        text-align: right;\n",
       "    }\n",
       "</style>\n",
       "<table border=\"1\" class=\"dataframe\">\n",
       "  <thead>\n",
       "    <tr style=\"text-align: right;\">\n",
       "      <th></th>\n",
       "      <th>MachineIdentifier</th>\n",
       "      <th>Target</th>\n",
       "      <th>MajorEngineVersion</th>\n",
       "      <th>MinorEngineVersion</th>\n",
       "      <th>EngineVersion_float</th>\n",
       "      <th>MajorAppVersion</th>\n",
       "      <th>MinorAppVersion</th>\n",
       "      <th>FinestAppVersion</th>\n",
       "      <th>AppVersion_float</th>\n",
       "      <th>MajorAvSigVersion</th>\n",
       "      <th>MinorAvSigVersion</th>\n",
       "      <th>AvSigVersion_float</th>\n",
       "      <th>Census_MajorOSVersion</th>\n",
       "      <th>Census_MinorOSVersion</th>\n",
       "      <th>Census_OSVersion_float</th>\n",
       "    </tr>\n",
       "  </thead>\n",
       "  <tbody>\n",
       "    <tr>\n",
       "      <th>6822125</th>\n",
       "      <td>c3c4bc04dc5f1c7245a862e52634428e</td>\n",
       "      <td>0</td>\n",
       "      <td>15100</td>\n",
       "      <td>1</td>\n",
       "      <td>15100.1</td>\n",
       "      <td>9</td>\n",
       "      <td>110586</td>\n",
       "      <td>101106</td>\n",
       "      <td>6.822126e+06</td>\n",
       "      <td>0.0</td>\n",
       "      <td>0</td>\n",
       "      <td>0.0</td>\n",
       "      <td>10586</td>\n",
       "      <td>1176</td>\n",
       "      <td>10586.1176</td>\n",
       "    </tr>\n",
       "    <tr>\n",
       "      <th>7285638</th>\n",
       "      <td>d106fcb0c6482265956c05ffbaf60744</td>\n",
       "      <td>0</td>\n",
       "      <td>15100</td>\n",
       "      <td>1</td>\n",
       "      <td>15100.1</td>\n",
       "      <td>12</td>\n",
       "      <td>116299</td>\n",
       "      <td>100015</td>\n",
       "      <td>7.285638e+06</td>\n",
       "      <td>0.0</td>\n",
       "      <td>0</td>\n",
       "      <td>0.0</td>\n",
       "      <td>16299</td>\n",
       "      <td>371</td>\n",
       "      <td>16299.3710</td>\n",
       "    </tr>\n",
       "    <tr>\n",
       "      <th>5050150</th>\n",
       "      <td>90eeb2d77a5f58c0afe71de24f29bb50</td>\n",
       "      <td>0</td>\n",
       "      <td>15200</td>\n",
       "      <td>1</td>\n",
       "      <td>15200.1</td>\n",
       "      <td>9</td>\n",
       "      <td>110586</td>\n",
       "      <td>101106</td>\n",
       "      <td>5.050151e+06</td>\n",
       "      <td>0.0</td>\n",
       "      <td>0</td>\n",
       "      <td>0.0</td>\n",
       "      <td>10586</td>\n",
       "      <td>1176</td>\n",
       "      <td>10586.1176</td>\n",
       "    </tr>\n",
       "    <tr>\n",
       "      <th>165482</th>\n",
       "      <td>04c1c463cbb6e2bfae34c4c66fd3242c</td>\n",
       "      <td>0</td>\n",
       "      <td>13701</td>\n",
       "      <td>0</td>\n",
       "      <td>13701.0</td>\n",
       "      <td>13</td>\n",
       "      <td>117134</td>\n",
       "      <td>100228</td>\n",
       "      <td>1.654821e+05</td>\n",
       "      <td>0.0</td>\n",
       "      <td>0</td>\n",
       "      <td>0.0</td>\n",
       "      <td>17134</td>\n",
       "      <td>285</td>\n",
       "      <td>17134.2850</td>\n",
       "    </tr>\n",
       "    <tr>\n",
       "      <th>735046</th>\n",
       "      <td>151dd3600408f025207073d09cbc6d5d</td>\n",
       "      <td>0</td>\n",
       "      <td>15200</td>\n",
       "      <td>1</td>\n",
       "      <td>15200.1</td>\n",
       "      <td>9</td>\n",
       "      <td>110586</td>\n",
       "      <td>101106</td>\n",
       "      <td>7.350469e+05</td>\n",
       "      <td>0.0</td>\n",
       "      <td>0</td>\n",
       "      <td>0.0</td>\n",
       "      <td>10586</td>\n",
       "      <td>1176</td>\n",
       "      <td>10586.1176</td>\n",
       "    </tr>\n",
       "  </tbody>\n",
       "</table>\n",
       "</div>"
      ],
      "text/plain": [
       "                        MachineIdentifier  Target  MajorEngineVersion  \\\n",
       "6822125  c3c4bc04dc5f1c7245a862e52634428e       0               15100   \n",
       "7285638  d106fcb0c6482265956c05ffbaf60744       0               15100   \n",
       "5050150  90eeb2d77a5f58c0afe71de24f29bb50       0               15200   \n",
       "165482   04c1c463cbb6e2bfae34c4c66fd3242c       0               13701   \n",
       "735046   151dd3600408f025207073d09cbc6d5d       0               15200   \n",
       "\n",
       "         MinorEngineVersion EngineVersion_float  MajorAppVersion  \\\n",
       "6822125                   1             15100.1                9   \n",
       "7285638                   1             15100.1               12   \n",
       "5050150                   1             15200.1                9   \n",
       "165482                    0             13701.0               13   \n",
       "735046                    1             15200.1                9   \n",
       "\n",
       "         MinorAppVersion  FinestAppVersion  AppVersion_float  \\\n",
       "6822125           110586            101106      6.822126e+06   \n",
       "7285638           116299            100015      7.285638e+06   \n",
       "5050150           110586            101106      5.050151e+06   \n",
       "165482            117134            100228      1.654821e+05   \n",
       "735046            110586            101106      7.350469e+05   \n",
       "\n",
       "         MajorAvSigVersion  MinorAvSigVersion  AvSigVersion_float  \\\n",
       "6822125                0.0                  0                 0.0   \n",
       "7285638                0.0                  0                 0.0   \n",
       "5050150                0.0                  0                 0.0   \n",
       "165482                 0.0                  0                 0.0   \n",
       "735046                 0.0                  0                 0.0   \n",
       "\n",
       "         Census_MajorOSVersion  Census_MinorOSVersion  Census_OSVersion_float  \n",
       "6822125                  10586                   1176              10586.1176  \n",
       "7285638                  16299                    371              16299.3710  \n",
       "5050150                  10586                   1176              10586.1176  \n",
       "165482                   17134                    285              17134.2850  \n",
       "735046                   10586                   1176              10586.1176  "
      ]
     },
     "execution_count": 19,
     "metadata": {},
     "output_type": "execute_result"
    }
   ],
   "source": [
    "train.head()"
   ]
  },
  {
   "cell_type": "code",
   "execution_count": 20,
   "metadata": {
    "ExecuteTime": {
     "end_time": "2019-02-01T16:50:41.943345Z",
     "start_time": "2019-02-01T16:50:41.930101Z"
    }
   },
   "outputs": [
    {
     "data": {
      "text/html": [
       "<div>\n",
       "<style scoped>\n",
       "    .dataframe tbody tr th:only-of-type {\n",
       "        vertical-align: middle;\n",
       "    }\n",
       "\n",
       "    .dataframe tbody tr th {\n",
       "        vertical-align: top;\n",
       "    }\n",
       "\n",
       "    .dataframe thead th {\n",
       "        text-align: right;\n",
       "    }\n",
       "</style>\n",
       "<table border=\"1\" class=\"dataframe\">\n",
       "  <thead>\n",
       "    <tr style=\"text-align: right;\">\n",
       "      <th></th>\n",
       "      <th>MachineIdentifier</th>\n",
       "      <th>MajorEngineVersion</th>\n",
       "      <th>MinorEngineVersion</th>\n",
       "      <th>EngineVersion_float</th>\n",
       "      <th>MajorAppVersion</th>\n",
       "      <th>MinorAppVersion</th>\n",
       "      <th>FinestAppVersion</th>\n",
       "      <th>AppVersion_float</th>\n",
       "      <th>MajorAvSigVersion</th>\n",
       "      <th>MinorAvSigVersion</th>\n",
       "      <th>AvSigVersion_float</th>\n",
       "      <th>Census_MajorOSVersion</th>\n",
       "      <th>Census_MinorOSVersion</th>\n",
       "      <th>Census_OSVersion_float</th>\n",
       "    </tr>\n",
       "  </thead>\n",
       "  <tbody>\n",
       "    <tr>\n",
       "      <th>7252423</th>\n",
       "      <td>ec6910b4d9e0baae203e9819227659ec</td>\n",
       "      <td>15400</td>\n",
       "      <td>5</td>\n",
       "      <td>15400.5</td>\n",
       "      <td>13</td>\n",
       "      <td>117134</td>\n",
       "      <td>100001</td>\n",
       "      <td>7.252423e+06</td>\n",
       "      <td>0</td>\n",
       "      <td>0</td>\n",
       "      <td>0.0</td>\n",
       "      <td>17134</td>\n",
       "      <td>1</td>\n",
       "      <td>17134.100</td>\n",
       "    </tr>\n",
       "    <tr>\n",
       "      <th>6804872</th>\n",
       "      <td>ddd66992da9cbb12db76d9d874fedf8b</td>\n",
       "      <td>14500</td>\n",
       "      <td>5</td>\n",
       "      <td>14500.5</td>\n",
       "      <td>13</td>\n",
       "      <td>117134</td>\n",
       "      <td>100320</td>\n",
       "      <td>6.804872e+06</td>\n",
       "      <td>0</td>\n",
       "      <td>0</td>\n",
       "      <td>0.0</td>\n",
       "      <td>17134</td>\n",
       "      <td>286</td>\n",
       "      <td>17134.286</td>\n",
       "    </tr>\n",
       "    <tr>\n",
       "      <th>6882538</th>\n",
       "      <td>e05db268c5f1e48e5fa63de1f39f02d7</td>\n",
       "      <td>14600</td>\n",
       "      <td>4</td>\n",
       "      <td>14600.4</td>\n",
       "      <td>13</td>\n",
       "      <td>117134</td>\n",
       "      <td>100228</td>\n",
       "      <td>6.882538e+06</td>\n",
       "      <td>0</td>\n",
       "      <td>0</td>\n",
       "      <td>0.0</td>\n",
       "      <td>17134</td>\n",
       "      <td>285</td>\n",
       "      <td>17134.285</td>\n",
       "    </tr>\n",
       "    <tr>\n",
       "      <th>6856130</th>\n",
       "      <td>df81a38177efaac6b95df42ddef504e6</td>\n",
       "      <td>15400</td>\n",
       "      <td>4</td>\n",
       "      <td>15400.4</td>\n",
       "      <td>18</td>\n",
       "      <td>101809</td>\n",
       "      <td>100002</td>\n",
       "      <td>6.856130e+06</td>\n",
       "      <td>0</td>\n",
       "      <td>0</td>\n",
       "      <td>0.0</td>\n",
       "      <td>17134</td>\n",
       "      <td>345</td>\n",
       "      <td>17134.345</td>\n",
       "    </tr>\n",
       "    <tr>\n",
       "      <th>2544324</th>\n",
       "      <td>52eb832b198099b467d39481a77afcef</td>\n",
       "      <td>15400</td>\n",
       "      <td>4</td>\n",
       "      <td>15400.4</td>\n",
       "      <td>18</td>\n",
       "      <td>101807</td>\n",
       "      <td>118075</td>\n",
       "      <td>2.544324e+06</td>\n",
       "      <td>0</td>\n",
       "      <td>0</td>\n",
       "      <td>0.0</td>\n",
       "      <td>17763</td>\n",
       "      <td>55</td>\n",
       "      <td>17763.550</td>\n",
       "    </tr>\n",
       "  </tbody>\n",
       "</table>\n",
       "</div>"
      ],
      "text/plain": [
       "                        MachineIdentifier  MajorEngineVersion  \\\n",
       "7252423  ec6910b4d9e0baae203e9819227659ec               15400   \n",
       "6804872  ddd66992da9cbb12db76d9d874fedf8b               14500   \n",
       "6882538  e05db268c5f1e48e5fa63de1f39f02d7               14600   \n",
       "6856130  df81a38177efaac6b95df42ddef504e6               15400   \n",
       "2544324  52eb832b198099b467d39481a77afcef               15400   \n",
       "\n",
       "         MinorEngineVersion EngineVersion_float  MajorAppVersion  \\\n",
       "7252423                   5             15400.5               13   \n",
       "6804872                   5             14500.5               13   \n",
       "6882538                   4             14600.4               13   \n",
       "6856130                   4             15400.4               18   \n",
       "2544324                   4             15400.4               18   \n",
       "\n",
       "         MinorAppVersion  FinestAppVersion  AppVersion_float  \\\n",
       "7252423           117134            100001      7.252423e+06   \n",
       "6804872           117134            100320      6.804872e+06   \n",
       "6882538           117134            100228      6.882538e+06   \n",
       "6856130           101809            100002      6.856130e+06   \n",
       "2544324           101807            118075      2.544324e+06   \n",
       "\n",
       "         MajorAvSigVersion  MinorAvSigVersion  AvSigVersion_float  \\\n",
       "7252423                  0                  0                 0.0   \n",
       "6804872                  0                  0                 0.0   \n",
       "6882538                  0                  0                 0.0   \n",
       "6856130                  0                  0                 0.0   \n",
       "2544324                  0                  0                 0.0   \n",
       "\n",
       "         Census_MajorOSVersion  Census_MinorOSVersion  Census_OSVersion_float  \n",
       "7252423                  17134                      1               17134.100  \n",
       "6804872                  17134                    286               17134.286  \n",
       "6882538                  17134                    285               17134.285  \n",
       "6856130                  17134                    345               17134.345  \n",
       "2544324                  17763                     55               17763.550  "
      ]
     },
     "execution_count": 20,
     "metadata": {},
     "output_type": "execute_result"
    }
   ],
   "source": [
    "test.head()"
   ]
  },
  {
   "cell_type": "code",
   "execution_count": 21,
   "metadata": {
    "ExecuteTime": {
     "end_time": "2019-02-01T16:51:05.481136Z",
     "start_time": "2019-02-01T16:51:05.477630Z"
    }
   },
   "outputs": [
    {
     "data": {
      "text/plain": [
       "6245038"
      ]
     },
     "execution_count": 21,
     "metadata": {},
     "output_type": "execute_result"
    }
   ],
   "source": [
    "val_idx = int(len(train)*.7)\n",
    "val_idx"
   ]
  },
  {
   "cell_type": "code",
   "execution_count": 18,
   "metadata": {
    "ExecuteTime": {
     "end_time": "2019-02-01T16:50:24.485703Z",
     "start_time": "2019-02-01T16:50:21.140598Z"
    }
   },
   "outputs": [],
   "source": [
    "train.drop(columns=['EngineVersion', 'AppVersion', 'Census_OSVersion', 'AvSigVersion'], inplace=True, errors='ignore')\n",
    "test.drop(columns=['EngineVersion', 'AppVersion', 'Census_OSVersion', 'AvSigVersion'], inplace=True, errors='ignore')"
   ]
  },
  {
   "cell_type": "code",
   "execution_count": 22,
   "metadata": {
    "ExecuteTime": {
     "end_time": "2019-02-02T03:20:04.041034Z",
     "start_time": "2019-02-01T16:51:14.589203Z"
    }
   },
   "outputs": [
    {
     "name": "stderr",
     "output_type": "stream",
     "text": [
      "\n",
      "  0%|          | 0/13 [00:00<?, ?it/s]\u001b[A\n",
      "MajorEngineVersion:   0%|          | 0/13 [00:00<?, ?it/s]\u001b[A\n",
      "MajorEngineVersion:   8%|▊         | 1/13 [1:12:10<14:26:05, 4330.43s/it]\u001b[A\n",
      "MinorEngineVersion:   8%|▊         | 1/13 [1:12:10<14:26:05, 4330.43s/it]\u001b[A\n",
      "MinorEngineVersion:  15%|█▌        | 2/13 [2:29:29<13:30:52, 4422.95s/it]\u001b[A\n",
      "EngineVersion_float:  15%|█▌        | 2/13 [2:29:29<13:30:52, 4422.95s/it]\u001b[A\n",
      "EngineVersion_float:  23%|██▎       | 3/13 [3:49:44<12:36:46, 4540.65s/it]\u001b[A\n",
      "MajorAppVersion:  23%|██▎       | 3/13 [3:49:44<12:36:46, 4540.65s/it]    \u001b[A\n",
      "MajorAppVersion:  31%|███       | 4/13 [5:09:55<11:33:15, 4621.68s/it]\u001b[A\n",
      "MinorAppVersion:  31%|███       | 4/13 [5:09:55<11:33:15, 4621.68s/it]\u001b[A\n",
      "MinorAppVersion:  38%|███▊      | 5/13 [5:57:24<9:05:18, 4089.82s/it] \u001b[A\n",
      "FinestAppVersion:  38%|███▊      | 5/13 [5:57:24<9:05:18, 4089.82s/it]\u001b[A\n",
      "FinestAppVersion:  46%|████▌     | 6/13 [6:29:58<6:42:24, 3449.16s/it]\u001b[A\n",
      "AppVersion_float:  46%|████▌     | 6/13 [6:29:58<6:42:24, 3449.16s/it]\u001b[A\n",
      "AppVersion_float:  54%|█████▍    | 7/13 [7:06:03<5:06:22, 3063.80s/it]\u001b[A\n",
      "MajorAvSigVersion:  54%|█████▍    | 7/13 [7:06:03<5:06:22, 3063.80s/it]\u001b[A\n",
      "MajorAvSigVersion:  62%|██████▏   | 8/13 [7:37:58<3:46:35, 2719.19s/it]\u001b[A\n",
      "MinorAvSigVersion:  62%|██████▏   | 8/13 [7:37:58<3:46:35, 2719.19s/it]\u001b[A\n",
      "MinorAvSigVersion:  69%|██████▉   | 9/13 [8:10:02<2:45:23, 2480.85s/it]\u001b[A\n",
      "AvSigVersion_float:  69%|██████▉   | 9/13 [8:10:02<2:45:23, 2480.85s/it]\u001b[A\n",
      "AvSigVersion_float:  77%|███████▋  | 10/13 [8:42:27<1:55:59, 2319.92s/it]\u001b[A\n",
      "Census_MajorOSVersion:  77%|███████▋  | 10/13 [8:42:27<1:55:59, 2319.92s/it]\u001b[A\n",
      "Census_MajorOSVersion:  85%|████████▍ | 11/13 [9:16:19<1:14:27, 2233.62s/it]\u001b[A\n",
      "Census_MinorOSVersion:  85%|████████▍ | 11/13 [9:16:19<1:14:27, 2233.62s/it]\u001b[A\n",
      "Census_MinorOSVersion:  92%|█████████▏| 12/13 [9:52:27<36:54, 2214.06s/it]  \u001b[A\n",
      "Census_OSVersion_float:  92%|█████████▏| 12/13 [9:52:27<36:54, 2214.06s/it]\u001b[A\n",
      "Census_OSVersion_float: 100%|██████████| 13/13 [10:28:49<00:00, 2204.28s/it]\u001b[A"
     ]
    }
   ],
   "source": [
    "pbar = tqdm(total=len(train.columns)-2)\n",
    "\n",
    "for c in train.columns:\n",
    "    if c == 'MachineIdentifier' or c == 'Target':\n",
    "        continue\n",
    "        \n",
    "    pbar.set_description(c)\n",
    "    \n",
    "    train_ = train[['MachineIdentifier', c]].iloc[:val_idx, :]\n",
    "    val_   = train[['MachineIdentifier', c]].iloc[val_idx:, :]\n",
    "    test_  =  test[['MachineIdentifier', c]]\n",
    "    \n",
    "    try:\n",
    "        pipe.upload_feature(c, (train_, val_, test_))\n",
    "    except ValueError:\n",
    "        pass\n",
    "    \n",
    "    pbar.update(1)"
   ]
  }
 ],
 "metadata": {
  "kernelspec": {
   "display_name": "Python [conda env:dankd]",
   "language": "python",
   "name": "conda-env-dankd-py"
  },
  "language_info": {
   "codemirror_mode": {
    "name": "ipython",
    "version": 3
   },
   "file_extension": ".py",
   "mimetype": "text/x-python",
   "name": "python",
   "nbconvert_exporter": "python",
   "pygments_lexer": "ipython3",
   "version": "3.7.2"
  },
  "varInspector": {
   "cols": {
    "lenName": 16,
    "lenType": 16,
    "lenVar": 40
   },
   "kernels_config": {
    "python": {
     "delete_cmd_postfix": "",
     "delete_cmd_prefix": "del ",
     "library": "var_list.py",
     "varRefreshCmd": "print(var_dic_list())"
    },
    "r": {
     "delete_cmd_postfix": ") ",
     "delete_cmd_prefix": "rm(",
     "library": "var_list.r",
     "varRefreshCmd": "cat(var_dic_list()) "
    }
   },
   "types_to_exclude": [
    "module",
    "function",
    "builtin_function_or_method",
    "instance",
    "_Feature"
   ],
   "window_display": false
  }
 },
 "nbformat": 4,
 "nbformat_minor": 2
}
