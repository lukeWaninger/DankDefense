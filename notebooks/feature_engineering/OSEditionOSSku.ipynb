{
 "cells": [
  {
   "cell_type": "code",
   "execution_count": 1,
   "metadata": {
    "ExecuteTime": {
     "end_time": "2019-02-01T16:19:12.346606Z",
     "start_time": "2019-02-01T16:19:11.188240Z"
    },
    "code_folding": [
     22
    ]
   },
   "outputs": [],
   "source": [
    "import re\n",
    "\n",
    "import numpy as np\n",
    "import pandas as pd\n",
    "from tqdm import tqdm\n",
    "\n",
    "from dankypipe import pipe\n",
    "\n",
    "tqdm.pandas()\n",
    "\n",
    "def isfloat(x):\n",
    "    try:\n",
    "        float(x)\n",
    "        return True\n",
    "    except:\n",
    "        return False\n",
    "    \n",
    "def isint(x):\n",
    "    try:\n",
    "        int(x)\n",
    "        return True\n",
    "    except:\n",
    "        return False"
   ]
  },
  {
   "cell_type": "code",
   "execution_count": 2,
   "metadata": {
    "ExecuteTime": {
     "end_time": "2019-02-01T16:19:56.264969Z",
     "start_time": "2019-02-01T16:19:12.350403Z"
    }
   },
   "outputs": [],
   "source": [
    "train = pd.read_pickle('train.pickle').sort_values(by='AvSigVersion')\n",
    "test = pd.read_pickle('test.pickle').sort_values(by='AvSigVersion')\n",
    "\n",
    "train = train.rename(columns={'HasDetections':'Target'})\n",
    "\n",
    "cols = ['Census_OSSkuName', 'Census_OSEdition', 'MachineIdentifier']\n",
    "train = train.reindex(columns=cols+['Target'])\n",
    "test = test.reindex(columns=cols)"
   ]
  },
  {
   "cell_type": "markdown",
   "metadata": {},
   "source": [
    "These two features express the same information but differ on occasion. I first remove any non-alphanumeric characters from both features. Next, I check to see if they match by seeing if any substring of length four exists in the other. I do it like this because many are the same but with different orderings (datacenterserver and server_datacenter for example).\n",
    "\n",
    "I also extract the OS versions that have reduced media applications by default.\n",
    "https://www.howtogeek.com/322112/what-is-an-n-or-kn-edition-of-windows/"
   ]
  },
  {
   "cell_type": "code",
   "execution_count": 3,
   "metadata": {
    "code_folding": [
     0
    ]
   },
   "outputs": [],
   "source": [
    "def transform(df):\n",
    "    df['Census_OSSkuName'] = [re.sub(r'[^a-zA-Z]+', '', str(s)) for s in df.Census_OSSkuName]\n",
    "    df['Census_OSEdition'] = [re.sub(r'[^a-zA-Z]+', '', str(s)) for s in df.Census_OSEdition]\n",
    "\n",
    "    # extract the media reduced OS versions\n",
    "    OS_Reduced_Media = [\n",
    "        'professionaln',\n",
    "        'coren',\n",
    "        'enterprisesn',\n",
    "        'enterprisen',\n",
    "        'professionalworkstationn',\n",
    "        'cloudn',\n",
    "        'educationn',\n",
    "        'professionaleducationn'\n",
    "    ]\n",
    "\n",
    "    mask = [\n",
    "        c[0] in OS_Reduced_Media or c[1] in OS_Reduced_Media \n",
    "        for c in df[['Census_OSSkuName', 'Census_OSEdition']].itertuples() \n",
    "    ]\n",
    "    df['OS_Reduced_Media'] = mask\n",
    "\n",
    "    for c in OS_Reduced_Media:\n",
    "        df.loc[df.Census_OSSkuName == c, 'Census_OSSkuName'] = c[:-1]\n",
    "        df.loc[df.Census_OSEdition == c, 'Census_OSEdition'] = c[:-1]\n",
    "\n",
    "    # replace the obvious typo\n",
    "    df.loc[\n",
    "        (df.Census_OSEdition == 'enterprises') |\n",
    "        (df.Census_OSSkuName == 'enterprises'),\n",
    "        ['Census_OSEdition', 'Census_OSSkuName']\n",
    "    ] = 'enterprise'\n",
    "\n",
    "\n",
    "    # There are only one of these in the entire dataset\n",
    "    df.loc[\n",
    "        (df.Census_OSEdition == 'professionalsinglelanguage') |\n",
    "        (df.Census_OSSkuName == 'professionalsinglelanguage'),\n",
    "        ['Census_OSEdition', 'Census_OSSkuName']\n",
    "    ] = 'professional'\n",
    "\n",
    "    df.loc[\n",
    "        (df.Census_OSEdition == 'professionalcountryspecific') |\n",
    "        (df.Census_OSSkuName == 'professionalcountryspecific'),\n",
    "        ['Census_OSEdition', 'Census_OSSkuName']\n",
    "    ] = 'professional'\n",
    "\n",
    "    df.loc[\n",
    "        (df.Census_OSEdition == 'professionalcountryspecific') |\n",
    "        (df.Census_OSSkuName == 'professionalcountryspecific'),\n",
    "        ['Census_OSEdition', 'Census_OSSkuName']\n",
    "    ] = 'professional'\n",
    "\n",
    "    # look for substring matches\n",
    "    step, subsets = 4, {}\n",
    "    for s in df.Census_OSEdition.unique():\n",
    "        subsets[s] = {s[i:i+step] for i in range(len(s)-step+1)}\n",
    "\n",
    "    df['Census_OSEdSkuMatch'] = [\n",
    "        any([\n",
    "            x in z for x in subsets[y]\n",
    "        ])\n",
    "        for y, z in zip(df.Census_OSEdition, df.Census_OSSkuName)\n",
    "    ]\n",
    "    t = df[['Census_OSEdition', 'Census_OSSkuName', 'Census_OSEdSkuMatch', 'OS_Reduced_Media']]\n",
    "\n",
    "    osed_props = df.Census_OSEdition.value_counts(normalize=True)\n",
    "    ossku_props = df.Census_OSSkuName.value_counts(normalize=True)\n",
    "    \n",
    "    for ix, row in df.iloc[\n",
    "        t.loc[[not b for b in t.duplicated()] & ~t.Census_OSEdSkuMatch].index][\n",
    "            ['Census_OSEdition', 'Census_OSSkuName', 'Census_OSEdSkuMatch']].iterrows():\n",
    "        a, b = osed_props[row.Census_OSEdition], ossku_props[row.Census_OSSkuName]\n",
    "        p = b/(a+b)\n",
    "        choice = np.random.binomial(1, p, 1)\n",
    "        if choice == 1:\n",
    "            #print(p, 1, row.Census_OSSkuName)\n",
    "            df.loc[ix, 'Census_OSEdition'] = row.Census_OSSkuName\n",
    "        else:\n",
    "            #print(p, 0, row.Census_OSEdition)\n",
    "            df.loc[ix, 'Census_OSEdition'] = row.Census_OSEdition\n",
    "\n",
    "    df.drop(columns=['Census_OSSkuName'], inplace=True)\n",
    "    return df\n",
    "\n",
    "train = transform(train)\n",
    "test = transform(test)"
   ]
  },
  {
   "cell_type": "code",
   "execution_count": 4,
   "metadata": {},
   "outputs": [],
   "source": [
    "avsig = pipe.download_feature('AvSigVersion_float', cache=True)\n",
    "avsig_combined = pd.concat([avsig['train'], avsig['validate']], sort=False).sort_values(by='AvSigVersion_float')\n",
    "\n",
    "train_ = train.merge(avsig_combined, on='MachineIdentifier', how='inner', sort=False)\n",
    "assert len(train_) == len(train)\n",
    "\n",
    "train = train_\n",
    "del train_\n",
    "\n",
    "train = train.sort_values(by='AvSigVersion_float').drop(columns='AvSigVersion_float')"
   ]
  },
  {
   "cell_type": "code",
   "execution_count": 7,
   "metadata": {
    "ExecuteTime": {
     "end_time": "2019-02-01T16:22:04.517931Z",
     "start_time": "2019-02-01T16:22:04.505628Z"
    }
   },
   "outputs": [
    {
     "data": {
      "text/plain": [
       "6245038"
      ]
     },
     "execution_count": 7,
     "metadata": {},
     "output_type": "execute_result"
    }
   ],
   "source": [
    "val_idx = int(len(train)*.7)\n",
    "val_idx"
   ]
  },
  {
   "cell_type": "code",
   "execution_count": 8,
   "metadata": {},
   "outputs": [],
   "source": [
    "cols = {'Census_OSEdition': 'Census_OSEdition_clean'}\n",
    "train = train.rename(columns=cols)\n",
    "test = test.rename(columns=cols)"
   ]
  },
  {
   "cell_type": "code",
   "execution_count": 5,
   "metadata": {
    "ExecuteTime": {
     "end_time": "2019-02-01T16:24:56.379558Z",
     "start_time": "2019-02-01T16:24:56.366704Z"
    }
   },
   "outputs": [
    {
     "data": {
      "text/html": [
       "<div>\n",
       "<style scoped>\n",
       "    .dataframe tbody tr th:only-of-type {\n",
       "        vertical-align: middle;\n",
       "    }\n",
       "\n",
       "    .dataframe tbody tr th {\n",
       "        vertical-align: top;\n",
       "    }\n",
       "\n",
       "    .dataframe thead th {\n",
       "        text-align: right;\n",
       "    }\n",
       "</style>\n",
       "<table border=\"1\" class=\"dataframe\">\n",
       "  <thead>\n",
       "    <tr style=\"text-align: right;\">\n",
       "      <th></th>\n",
       "      <th>Census_OSEdition</th>\n",
       "      <th>MachineIdentifier</th>\n",
       "      <th>Target</th>\n",
       "      <th>OS_Reduced_Media</th>\n",
       "      <th>Census_OSEdSkuMatch</th>\n",
       "    </tr>\n",
       "  </thead>\n",
       "  <tbody>\n",
       "    <tr>\n",
       "      <th>0</th>\n",
       "      <td>CoreSingleLanguage</td>\n",
       "      <td>c3c4bc04dc5f1c7245a862e52634428e</td>\n",
       "      <td>0</td>\n",
       "      <td>False</td>\n",
       "      <td>False</td>\n",
       "    </tr>\n",
       "    <tr>\n",
       "      <th>37</th>\n",
       "      <td>CoreSingleLanguage</td>\n",
       "      <td>60031444d3ec616c6e9084be521faa04</td>\n",
       "      <td>0</td>\n",
       "      <td>False</td>\n",
       "      <td>False</td>\n",
       "    </tr>\n",
       "    <tr>\n",
       "      <th>38</th>\n",
       "      <td>Core</td>\n",
       "      <td>d938abff6012c1488b851247a3098160</td>\n",
       "      <td>0</td>\n",
       "      <td>False</td>\n",
       "      <td>False</td>\n",
       "    </tr>\n",
       "    <tr>\n",
       "      <th>39</th>\n",
       "      <td>Professional</td>\n",
       "      <td>910ddd20c6d334ca03a46d9f0008fe24</td>\n",
       "      <td>1</td>\n",
       "      <td>False</td>\n",
       "      <td>False</td>\n",
       "    </tr>\n",
       "    <tr>\n",
       "      <th>40</th>\n",
       "      <td>Professional</td>\n",
       "      <td>5e05d22ab9db72ccbc8e41d4bc632f64</td>\n",
       "      <td>0</td>\n",
       "      <td>False</td>\n",
       "      <td>False</td>\n",
       "    </tr>\n",
       "  </tbody>\n",
       "</table>\n",
       "</div>"
      ],
      "text/plain": [
       "      Census_OSEdition                 MachineIdentifier  Target  \\\n",
       "0   CoreSingleLanguage  c3c4bc04dc5f1c7245a862e52634428e       0   \n",
       "37  CoreSingleLanguage  60031444d3ec616c6e9084be521faa04       0   \n",
       "38                Core  d938abff6012c1488b851247a3098160       0   \n",
       "39        Professional  910ddd20c6d334ca03a46d9f0008fe24       1   \n",
       "40        Professional  5e05d22ab9db72ccbc8e41d4bc632f64       0   \n",
       "\n",
       "    OS_Reduced_Media  Census_OSEdSkuMatch  \n",
       "0              False                False  \n",
       "37             False                False  \n",
       "38             False                False  \n",
       "39             False                False  \n",
       "40             False                False  "
      ]
     },
     "execution_count": 5,
     "metadata": {},
     "output_type": "execute_result"
    }
   ],
   "source": [
    "train.head()"
   ]
  },
  {
   "cell_type": "code",
   "execution_count": 6,
   "metadata": {
    "ExecuteTime": {
     "end_time": "2019-02-01T16:25:01.904015Z",
     "start_time": "2019-02-01T16:25:01.893795Z"
    }
   },
   "outputs": [
    {
     "data": {
      "text/html": [
       "<div>\n",
       "<style scoped>\n",
       "    .dataframe tbody tr th:only-of-type {\n",
       "        vertical-align: middle;\n",
       "    }\n",
       "\n",
       "    .dataframe tbody tr th {\n",
       "        vertical-align: top;\n",
       "    }\n",
       "\n",
       "    .dataframe thead th {\n",
       "        text-align: right;\n",
       "    }\n",
       "</style>\n",
       "<table border=\"1\" class=\"dataframe\">\n",
       "  <thead>\n",
       "    <tr style=\"text-align: right;\">\n",
       "      <th></th>\n",
       "      <th>Census_OSEdition</th>\n",
       "      <th>MachineIdentifier</th>\n",
       "      <th>OS_Reduced_Media</th>\n",
       "      <th>Census_OSEdSkuMatch</th>\n",
       "    </tr>\n",
       "  </thead>\n",
       "  <tbody>\n",
       "    <tr>\n",
       "      <th>7252423</th>\n",
       "      <td>Professional</td>\n",
       "      <td>ec6910b4d9e0baae203e9819227659ec</td>\n",
       "      <td>False</td>\n",
       "      <td>False</td>\n",
       "    </tr>\n",
       "    <tr>\n",
       "      <th>6804872</th>\n",
       "      <td>Professional</td>\n",
       "      <td>ddd66992da9cbb12db76d9d874fedf8b</td>\n",
       "      <td>False</td>\n",
       "      <td>False</td>\n",
       "    </tr>\n",
       "    <tr>\n",
       "      <th>6882538</th>\n",
       "      <td>Professional</td>\n",
       "      <td>e05db268c5f1e48e5fa63de1f39f02d7</td>\n",
       "      <td>False</td>\n",
       "      <td>False</td>\n",
       "    </tr>\n",
       "    <tr>\n",
       "      <th>6856130</th>\n",
       "      <td>Professional</td>\n",
       "      <td>df81a38177efaac6b95df42ddef504e6</td>\n",
       "      <td>False</td>\n",
       "      <td>False</td>\n",
       "    </tr>\n",
       "    <tr>\n",
       "      <th>2544324</th>\n",
       "      <td>Professional</td>\n",
       "      <td>52eb832b198099b467d39481a77afcef</td>\n",
       "      <td>False</td>\n",
       "      <td>False</td>\n",
       "    </tr>\n",
       "  </tbody>\n",
       "</table>\n",
       "</div>"
      ],
      "text/plain": [
       "        Census_OSEdition                 MachineIdentifier  OS_Reduced_Media  \\\n",
       "7252423     Professional  ec6910b4d9e0baae203e9819227659ec             False   \n",
       "6804872     Professional  ddd66992da9cbb12db76d9d874fedf8b             False   \n",
       "6882538     Professional  e05db268c5f1e48e5fa63de1f39f02d7             False   \n",
       "6856130     Professional  df81a38177efaac6b95df42ddef504e6             False   \n",
       "2544324     Professional  52eb832b198099b467d39481a77afcef             False   \n",
       "\n",
       "         Census_OSEdSkuMatch  \n",
       "7252423                False  \n",
       "6804872                False  \n",
       "6882538                False  \n",
       "6856130                False  \n",
       "2544324                False  "
      ]
     },
     "execution_count": 6,
     "metadata": {},
     "output_type": "execute_result"
    }
   ],
   "source": [
    "test.head()"
   ]
  },
  {
   "cell_type": "code",
   "execution_count": 9,
   "metadata": {
    "ExecuteTime": {
     "end_time": "2019-02-01T22:38:07.787962Z",
     "start_time": "2019-02-01T16:25:25.259632Z"
    }
   },
   "outputs": [
    {
     "name": "stderr",
     "output_type": "stream",
     "text": [
      "Census_OSEdSkuMatch: 100%|██████████| 3/3 [01:45<00:00, 51.41s/it]    "
     ]
    }
   ],
   "source": [
    "pbar = tqdm(total=len(train.columns)-2)\n",
    "\n",
    "for c in train.columns:\n",
    "    if c == 'MachineIdentifier' or c == 'Target':\n",
    "        continue\n",
    "        \n",
    "    pbar.set_description(c)\n",
    "    \n",
    "    train_ = train[['MachineIdentifier', c]].iloc[:val_idx, :]\n",
    "    val_   = train[['MachineIdentifier', c]].iloc[val_idx:, :]\n",
    "    test_  =  test[['MachineIdentifier', c]]\n",
    "    \n",
    "    try:\n",
    "        pipe.upload_feature(c, (train_, val_, test_))\n",
    "    except ValueError:\n",
    "        pass\n",
    "    \n",
    "    pbar.update(1)"
   ]
  }
 ],
 "metadata": {
  "kernelspec": {
   "display_name": "Python [conda env:dankd]",
   "language": "python",
   "name": "conda-env-dankd-py"
  },
  "language_info": {
   "codemirror_mode": {
    "name": "ipython",
    "version": 3
   },
   "file_extension": ".py",
   "mimetype": "text/x-python",
   "name": "python",
   "nbconvert_exporter": "python",
   "pygments_lexer": "ipython3",
   "version": "3.6.8"
  },
  "varInspector": {
   "cols": {
    "lenName": 16,
    "lenType": 16,
    "lenVar": 40
   },
   "kernels_config": {
    "python": {
     "delete_cmd_postfix": "",
     "delete_cmd_prefix": "del ",
     "library": "var_list.py",
     "varRefreshCmd": "print(var_dic_list())"
    },
    "r": {
     "delete_cmd_postfix": ") ",
     "delete_cmd_prefix": "rm(",
     "library": "var_list.r",
     "varRefreshCmd": "cat(var_dic_list()) "
    }
   },
   "types_to_exclude": [
    "module",
    "function",
    "builtin_function_or_method",
    "instance",
    "_Feature"
   ],
   "window_display": false
  }
 },
 "nbformat": 4,
 "nbformat_minor": 2
}
