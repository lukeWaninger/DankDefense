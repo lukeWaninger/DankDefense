{
 "cells": [
  {
   "cell_type": "code",
   "execution_count": 1,
   "metadata": {
    "ExecuteTime": {
     "end_time": "2019-02-12T23:33:33.137963Z",
     "start_time": "2019-02-12T23:33:30.964787Z"
    }
   },
   "outputs": [],
   "source": [
    "import re\n",
    "\n",
    "import numpy as np\n",
    "import pandas as pd\n",
    "from tqdm import tqdm\n",
    "\n",
    "from dankypipe import pipe"
   ]
  },
  {
   "cell_type": "code",
   "execution_count": 2,
   "metadata": {
    "ExecuteTime": {
     "end_time": "2019-02-12T23:38:54.035577Z",
     "start_time": "2019-02-12T23:33:36.384233Z"
    }
   },
   "outputs": [],
   "source": [
    "train = pd.read_pickle('train.pickle').sort_values(by='AvSigVersion')\n",
    "test = pd.read_pickle('test.pickle').sort_values(by='AvSigVersion')\n",
    "\n",
    "train = train.rename(columns={'HasDetections':'Target'})\n",
    "\n",
    "train = train.reindex(columns=['MachineIdentifier', 'Target'])\n",
    "test  = test.reindex(columns=['MachineIdentifier'])"
   ]
  },
  {
   "cell_type": "code",
   "execution_count": 3,
   "metadata": {},
   "outputs": [
    {
     "data": {
      "text/html": [
       "<div>\n",
       "<style scoped>\n",
       "    .dataframe tbody tr th:only-of-type {\n",
       "        vertical-align: middle;\n",
       "    }\n",
       "\n",
       "    .dataframe tbody tr th {\n",
       "        vertical-align: top;\n",
       "    }\n",
       "\n",
       "    .dataframe thead th {\n",
       "        text-align: right;\n",
       "    }\n",
       "</style>\n",
       "<table border=\"1\" class=\"dataframe\">\n",
       "  <thead>\n",
       "    <tr style=\"text-align: right;\">\n",
       "      <th></th>\n",
       "      <th>MachineIdentifier</th>\n",
       "      <th>Target</th>\n",
       "    </tr>\n",
       "  </thead>\n",
       "  <tbody>\n",
       "    <tr>\n",
       "      <th>6822125</th>\n",
       "      <td>c3c4bc04dc5f1c7245a862e52634428e</td>\n",
       "      <td>0</td>\n",
       "    </tr>\n",
       "    <tr>\n",
       "      <th>7285638</th>\n",
       "      <td>d106fcb0c6482265956c05ffbaf60744</td>\n",
       "      <td>0</td>\n",
       "    </tr>\n",
       "    <tr>\n",
       "      <th>5050150</th>\n",
       "      <td>90eeb2d77a5f58c0afe71de24f29bb50</td>\n",
       "      <td>0</td>\n",
       "    </tr>\n",
       "    <tr>\n",
       "      <th>165482</th>\n",
       "      <td>04c1c463cbb6e2bfae34c4c66fd3242c</td>\n",
       "      <td>0</td>\n",
       "    </tr>\n",
       "    <tr>\n",
       "      <th>735046</th>\n",
       "      <td>151dd3600408f025207073d09cbc6d5d</td>\n",
       "      <td>0</td>\n",
       "    </tr>\n",
       "  </tbody>\n",
       "</table>\n",
       "</div>"
      ],
      "text/plain": [
       "                        MachineIdentifier  Target\n",
       "6822125  c3c4bc04dc5f1c7245a862e52634428e       0\n",
       "7285638  d106fcb0c6482265956c05ffbaf60744       0\n",
       "5050150  90eeb2d77a5f58c0afe71de24f29bb50       0\n",
       "165482   04c1c463cbb6e2bfae34c4c66fd3242c       0\n",
       "735046   151dd3600408f025207073d09cbc6d5d       0"
      ]
     },
     "execution_count": 3,
     "metadata": {},
     "output_type": "execute_result"
    }
   ],
   "source": [
    "train.head()"
   ]
  },
  {
   "cell_type": "code",
   "execution_count": 4,
   "metadata": {},
   "outputs": [
    {
     "data": {
      "text/html": [
       "<div>\n",
       "<style scoped>\n",
       "    .dataframe tbody tr th:only-of-type {\n",
       "        vertical-align: middle;\n",
       "    }\n",
       "\n",
       "    .dataframe tbody tr th {\n",
       "        vertical-align: top;\n",
       "    }\n",
       "\n",
       "    .dataframe thead th {\n",
       "        text-align: right;\n",
       "    }\n",
       "</style>\n",
       "<table border=\"1\" class=\"dataframe\">\n",
       "  <thead>\n",
       "    <tr style=\"text-align: right;\">\n",
       "      <th></th>\n",
       "      <th>MachineIdentifier</th>\n",
       "    </tr>\n",
       "  </thead>\n",
       "  <tbody>\n",
       "    <tr>\n",
       "      <th>7252423</th>\n",
       "      <td>ec6910b4d9e0baae203e9819227659ec</td>\n",
       "    </tr>\n",
       "    <tr>\n",
       "      <th>6804872</th>\n",
       "      <td>ddd66992da9cbb12db76d9d874fedf8b</td>\n",
       "    </tr>\n",
       "    <tr>\n",
       "      <th>6882538</th>\n",
       "      <td>e05db268c5f1e48e5fa63de1f39f02d7</td>\n",
       "    </tr>\n",
       "    <tr>\n",
       "      <th>6856130</th>\n",
       "      <td>df81a38177efaac6b95df42ddef504e6</td>\n",
       "    </tr>\n",
       "    <tr>\n",
       "      <th>2544324</th>\n",
       "      <td>52eb832b198099b467d39481a77afcef</td>\n",
       "    </tr>\n",
       "  </tbody>\n",
       "</table>\n",
       "</div>"
      ],
      "text/plain": [
       "                        MachineIdentifier\n",
       "7252423  ec6910b4d9e0baae203e9819227659ec\n",
       "6804872  ddd66992da9cbb12db76d9d874fedf8b\n",
       "6882538  e05db268c5f1e48e5fa63de1f39f02d7\n",
       "6856130  df81a38177efaac6b95df42ddef504e6\n",
       "2544324  52eb832b198099b467d39481a77afcef"
      ]
     },
     "execution_count": 4,
     "metadata": {},
     "output_type": "execute_result"
    }
   ],
   "source": [
    "test.head()"
   ]
  },
  {
   "cell_type": "code",
   "execution_count": 5,
   "metadata": {},
   "outputs": [],
   "source": [
    "avsig = pipe.download_feature('AvSigVersion_float', cache=True)"
   ]
  },
  {
   "cell_type": "code",
   "execution_count": 6,
   "metadata": {},
   "outputs": [
    {
     "name": "stdout",
     "output_type": "stream",
     "text": [
      "train\n",
      "                  MachineIdentifier  AvSigVersion_float\n",
      "0  c3c4bc04dc5f1c7245a862e52634428e                 0.0\n",
      "1  60031444d3ec616c6e9084be521faa04                 0.0\n",
      "2  d938abff6012c1488b851247a3098160                 0.0\n",
      "3  910ddd20c6d334ca03a46d9f0008fe24                 0.0\n",
      "4  5e05d22ab9db72ccbc8e41d4bc632f64                 0.0\n",
      "\n",
      "validate\n",
      "                  MachineIdentifier  AvSigVersion_float\n",
      "0  d5632e2ad42c13b8e63f356f20d7d8bf            275.1509\n",
      "1  22e6c7ead3ec93be353261c3112eb8e6            275.1509\n",
      "2  ed1588afa4a556104e476772e396ed5c            275.1509\n",
      "3  92f9f2cb919773e0758a7760e3f96114            275.1509\n",
      "4  7b4d9b37aff8cc4c50d25731cd65a47e            275.1509\n",
      "\n",
      "test\n",
      "                  MachineIdentifier  AvSigVersion_float\n",
      "0  ec6910b4d9e0baae203e9819227659ec                 0.0\n",
      "1  f899923f0a42719f588608018611c8c3                 0.0\n",
      "2  a7ebe733cd84fa1e029e641c8f3f14fd                 0.0\n",
      "3  d2137b74e1993cbaf04b365b0130df53                 0.0\n",
      "4  79bc7126412e62b121be8ad4d5f4097d                 0.0\n",
      "\n"
     ]
    }
   ],
   "source": [
    "for k, v in avsig.items():\n",
    "    print(k)\n",
    "    print(v.head())\n",
    "    print()"
   ]
  },
  {
   "cell_type": "code",
   "execution_count": 7,
   "metadata": {},
   "outputs": [],
   "source": [
    "avsig_combined = pd.concat([avsig['train'], avsig['validate']], sort=False).sort_values(by='AvSigVersion_float')"
   ]
  },
  {
   "cell_type": "code",
   "execution_count": 8,
   "metadata": {},
   "outputs": [
    {
     "data": {
      "text/plain": [
       "8921483"
      ]
     },
     "execution_count": 8,
     "metadata": {},
     "output_type": "execute_result"
    }
   ],
   "source": [
    "len(train)"
   ]
  },
  {
   "cell_type": "code",
   "execution_count": 9,
   "metadata": {},
   "outputs": [
    {
     "data": {
      "text/plain": [
       "6245038"
      ]
     },
     "execution_count": 9,
     "metadata": {},
     "output_type": "execute_result"
    }
   ],
   "source": [
    "len(avsig['train'])"
   ]
  },
  {
   "cell_type": "code",
   "execution_count": 10,
   "metadata": {},
   "outputs": [
    {
     "data": {
      "text/plain": [
       "2676445"
      ]
     },
     "execution_count": 10,
     "metadata": {},
     "output_type": "execute_result"
    }
   ],
   "source": [
    "len(avsig['validate'])"
   ]
  },
  {
   "cell_type": "code",
   "execution_count": 11,
   "metadata": {},
   "outputs": [
    {
     "data": {
      "text/plain": [
       "8921483"
      ]
     },
     "execution_count": 11,
     "metadata": {},
     "output_type": "execute_result"
    }
   ],
   "source": [
    "len(avsig_combined)"
   ]
  },
  {
   "cell_type": "code",
   "execution_count": 12,
   "metadata": {},
   "outputs": [
    {
     "data": {
      "text/plain": [
       "8921483"
      ]
     },
     "execution_count": 12,
     "metadata": {},
     "output_type": "execute_result"
    }
   ],
   "source": [
    "combined = train.merge(avsig_combined, on='MachineIdentifier', how='inner')\n",
    "len(combined)"
   ]
  },
  {
   "cell_type": "code",
   "execution_count": 13,
   "metadata": {},
   "outputs": [],
   "source": [
    "combined = combined.sort_values(by='AvSigVersion_float')"
   ]
  },
  {
   "cell_type": "code",
   "execution_count": 14,
   "metadata": {
    "ExecuteTime": {
     "end_time": "2019-02-12T23:41:41.090565Z",
     "start_time": "2019-02-12T23:41:41.050768Z"
    }
   },
   "outputs": [
    {
     "data": {
      "text/plain": [
       "6245038"
      ]
     },
     "execution_count": 14,
     "metadata": {},
     "output_type": "execute_result"
    }
   ],
   "source": [
    "val_idx = int(len(combined)*.7)\n",
    "val_idx"
   ]
  },
  {
   "cell_type": "code",
   "execution_count": 15,
   "metadata": {
    "ExecuteTime": {
     "end_time": "2019-02-12T23:49:14.099756Z",
     "start_time": "2019-02-12T23:49:13.900072Z"
    }
   },
   "outputs": [],
   "source": [
    "train_ = combined[['MachineIdentifier', 'Target']].iloc[:val_idx, :]\n",
    "val_   = combined[['MachineIdentifier', 'Target']].iloc[val_idx:, :]\n",
    "test_  =  test[['MachineIdentifier']]"
   ]
  },
  {
   "cell_type": "code",
   "execution_count": 16,
   "metadata": {
    "ExecuteTime": {
     "end_time": "2019-02-12T23:55:31.381390Z",
     "start_time": "2019-02-12T23:55:31.374848Z"
    }
   },
   "outputs": [
    {
     "data": {
      "text/html": [
       "<div>\n",
       "<style scoped>\n",
       "    .dataframe tbody tr th:only-of-type {\n",
       "        vertical-align: middle;\n",
       "    }\n",
       "\n",
       "    .dataframe tbody tr th {\n",
       "        vertical-align: top;\n",
       "    }\n",
       "\n",
       "    .dataframe thead th {\n",
       "        text-align: right;\n",
       "    }\n",
       "</style>\n",
       "<table border=\"1\" class=\"dataframe\">\n",
       "  <thead>\n",
       "    <tr style=\"text-align: right;\">\n",
       "      <th></th>\n",
       "      <th>MachineIdentifier</th>\n",
       "      <th>Target</th>\n",
       "    </tr>\n",
       "  </thead>\n",
       "  <tbody>\n",
       "    <tr>\n",
       "      <th>0</th>\n",
       "      <td>c3c4bc04dc5f1c7245a862e52634428e</td>\n",
       "      <td>0</td>\n",
       "    </tr>\n",
       "    <tr>\n",
       "      <th>37</th>\n",
       "      <td>60031444d3ec616c6e9084be521faa04</td>\n",
       "      <td>0</td>\n",
       "    </tr>\n",
       "    <tr>\n",
       "      <th>38</th>\n",
       "      <td>d938abff6012c1488b851247a3098160</td>\n",
       "      <td>0</td>\n",
       "    </tr>\n",
       "    <tr>\n",
       "      <th>39</th>\n",
       "      <td>910ddd20c6d334ca03a46d9f0008fe24</td>\n",
       "      <td>1</td>\n",
       "    </tr>\n",
       "    <tr>\n",
       "      <th>40</th>\n",
       "      <td>5e05d22ab9db72ccbc8e41d4bc632f64</td>\n",
       "      <td>0</td>\n",
       "    </tr>\n",
       "  </tbody>\n",
       "</table>\n",
       "</div>"
      ],
      "text/plain": [
       "                   MachineIdentifier  Target\n",
       "0   c3c4bc04dc5f1c7245a862e52634428e       0\n",
       "37  60031444d3ec616c6e9084be521faa04       0\n",
       "38  d938abff6012c1488b851247a3098160       0\n",
       "39  910ddd20c6d334ca03a46d9f0008fe24       1\n",
       "40  5e05d22ab9db72ccbc8e41d4bc632f64       0"
      ]
     },
     "execution_count": 16,
     "metadata": {},
     "output_type": "execute_result"
    }
   ],
   "source": [
    "train_.head()"
   ]
  },
  {
   "cell_type": "code",
   "execution_count": 17,
   "metadata": {
    "ExecuteTime": {
     "end_time": "2019-02-13T00:01:45.854006Z",
     "start_time": "2019-02-13T00:01:45.846883Z"
    }
   },
   "outputs": [
    {
     "data": {
      "text/html": [
       "<div>\n",
       "<style scoped>\n",
       "    .dataframe tbody tr th:only-of-type {\n",
       "        vertical-align: middle;\n",
       "    }\n",
       "\n",
       "    .dataframe tbody tr th {\n",
       "        vertical-align: top;\n",
       "    }\n",
       "\n",
       "    .dataframe thead th {\n",
       "        text-align: right;\n",
       "    }\n",
       "</style>\n",
       "<table border=\"1\" class=\"dataframe\">\n",
       "  <thead>\n",
       "    <tr style=\"text-align: right;\">\n",
       "      <th></th>\n",
       "      <th>MachineIdentifier</th>\n",
       "      <th>Target</th>\n",
       "    </tr>\n",
       "  </thead>\n",
       "  <tbody>\n",
       "    <tr>\n",
       "      <th>6253882</th>\n",
       "      <td>d5632e2ad42c13b8e63f356f20d7d8bf</td>\n",
       "      <td>0</td>\n",
       "    </tr>\n",
       "    <tr>\n",
       "      <th>6253881</th>\n",
       "      <td>22e6c7ead3ec93be353261c3112eb8e6</td>\n",
       "      <td>0</td>\n",
       "    </tr>\n",
       "    <tr>\n",
       "      <th>6253880</th>\n",
       "      <td>ed1588afa4a556104e476772e396ed5c</td>\n",
       "      <td>1</td>\n",
       "    </tr>\n",
       "    <tr>\n",
       "      <th>6253879</th>\n",
       "      <td>92f9f2cb919773e0758a7760e3f96114</td>\n",
       "      <td>0</td>\n",
       "    </tr>\n",
       "    <tr>\n",
       "      <th>6253878</th>\n",
       "      <td>7b4d9b37aff8cc4c50d25731cd65a47e</td>\n",
       "      <td>1</td>\n",
       "    </tr>\n",
       "  </tbody>\n",
       "</table>\n",
       "</div>"
      ],
      "text/plain": [
       "                        MachineIdentifier  Target\n",
       "6253882  d5632e2ad42c13b8e63f356f20d7d8bf       0\n",
       "6253881  22e6c7ead3ec93be353261c3112eb8e6       0\n",
       "6253880  ed1588afa4a556104e476772e396ed5c       1\n",
       "6253879  92f9f2cb919773e0758a7760e3f96114       0\n",
       "6253878  7b4d9b37aff8cc4c50d25731cd65a47e       1"
      ]
     },
     "execution_count": 17,
     "metadata": {},
     "output_type": "execute_result"
    }
   ],
   "source": [
    "val_.head()"
   ]
  },
  {
   "cell_type": "code",
   "execution_count": 18,
   "metadata": {
    "ExecuteTime": {
     "end_time": "2019-02-13T00:08:01.826076Z",
     "start_time": "2019-02-13T00:08:01.820282Z"
    }
   },
   "outputs": [
    {
     "data": {
      "text/html": [
       "<div>\n",
       "<style scoped>\n",
       "    .dataframe tbody tr th:only-of-type {\n",
       "        vertical-align: middle;\n",
       "    }\n",
       "\n",
       "    .dataframe tbody tr th {\n",
       "        vertical-align: top;\n",
       "    }\n",
       "\n",
       "    .dataframe thead th {\n",
       "        text-align: right;\n",
       "    }\n",
       "</style>\n",
       "<table border=\"1\" class=\"dataframe\">\n",
       "  <thead>\n",
       "    <tr style=\"text-align: right;\">\n",
       "      <th></th>\n",
       "      <th>MachineIdentifier</th>\n",
       "    </tr>\n",
       "  </thead>\n",
       "  <tbody>\n",
       "    <tr>\n",
       "      <th>7252423</th>\n",
       "      <td>ec6910b4d9e0baae203e9819227659ec</td>\n",
       "    </tr>\n",
       "    <tr>\n",
       "      <th>6804872</th>\n",
       "      <td>ddd66992da9cbb12db76d9d874fedf8b</td>\n",
       "    </tr>\n",
       "    <tr>\n",
       "      <th>6882538</th>\n",
       "      <td>e05db268c5f1e48e5fa63de1f39f02d7</td>\n",
       "    </tr>\n",
       "    <tr>\n",
       "      <th>6856130</th>\n",
       "      <td>df81a38177efaac6b95df42ddef504e6</td>\n",
       "    </tr>\n",
       "    <tr>\n",
       "      <th>2544324</th>\n",
       "      <td>52eb832b198099b467d39481a77afcef</td>\n",
       "    </tr>\n",
       "  </tbody>\n",
       "</table>\n",
       "</div>"
      ],
      "text/plain": [
       "                        MachineIdentifier\n",
       "7252423  ec6910b4d9e0baae203e9819227659ec\n",
       "6804872  ddd66992da9cbb12db76d9d874fedf8b\n",
       "6882538  e05db268c5f1e48e5fa63de1f39f02d7\n",
       "6856130  df81a38177efaac6b95df42ddef504e6\n",
       "2544324  52eb832b198099b467d39481a77afcef"
      ]
     },
     "execution_count": 18,
     "metadata": {},
     "output_type": "execute_result"
    }
   ],
   "source": [
    "test_.head()"
   ]
  },
  {
   "cell_type": "code",
   "execution_count": 19,
   "metadata": {},
   "outputs": [
    {
     "data": {
      "text/plain": [
       "{'train': '35103ae560f64c488ba2d63b511f90ba',\n",
       " 'validate': '3eac187b2263a958ce3f2a658353048e',\n",
       " 'test': '9cf8908fcb17082b974dab478e14756f'}"
      ]
     },
     "execution_count": 19,
     "metadata": {},
     "output_type": "execute_result"
    }
   ],
   "source": [
    "pipe.upload_feature('Target', (train_, val_, test_), overwrite=True)"
   ]
  }
 ],
 "metadata": {
  "kernelspec": {
   "display_name": "Python [conda env:dankd]",
   "language": "python",
   "name": "conda-env-dankd-py"
  },
  "language_info": {
   "codemirror_mode": {
    "name": "ipython",
    "version": 3
   },
   "file_extension": ".py",
   "mimetype": "text/x-python",
   "name": "python",
   "nbconvert_exporter": "python",
   "pygments_lexer": "ipython3",
   "version": "3.6.8"
  },
  "varInspector": {
   "cols": {
    "lenName": 16,
    "lenType": 16,
    "lenVar": 40
   },
   "kernels_config": {
    "python": {
     "delete_cmd_postfix": "",
     "delete_cmd_prefix": "del ",
     "library": "var_list.py",
     "varRefreshCmd": "print(var_dic_list())"
    },
    "r": {
     "delete_cmd_postfix": ") ",
     "delete_cmd_prefix": "rm(",
     "library": "var_list.r",
     "varRefreshCmd": "cat(var_dic_list()) "
    }
   },
   "types_to_exclude": [
    "module",
    "function",
    "builtin_function_or_method",
    "instance",
    "_Feature"
   ],
   "window_display": false
  }
 },
 "nbformat": 4,
 "nbformat_minor": 2
}
