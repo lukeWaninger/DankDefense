{
 "cells": [
  {
   "cell_type": "code",
   "execution_count": 1,
   "metadata": {},
   "outputs": [],
   "source": [
    "%matplotlib inline\n",
    "\n",
    "import gc\n",
    "import os, sys\n",
    "import multiprocessing as mul\n",
    "from multiprocessing.dummy import Pool\n",
    "import time\n",
    "\n",
    "sys.path.insert(0, os.path.abspath('..'))\n",
    "sys.path.insert(0, os.path.abspath('../ctrNet'))\n",
    "\n",
    "from ctrNet import ctrNet\n",
    "import pandas as pd\n",
    "import numpy as np\n",
    "import random\n",
    "import tensorflow as tf\n",
    "from ctrNet import misc_utils as utils\n",
    "import gc\n",
    "from tqdm import tqdm_notebook as tqdm\n",
    "from IPython.core.interactiveshell import InteractiveShell\n",
    "import seaborn as sns\n",
    "\n",
    "import dankypipe.pipe as pipe\n",
    "\n",
    "InteractiveShell.ast_node_interactivity = 'all'\n",
    "random.seed(42)\n",
    "np.random.seed(42)"
   ]
  },
  {
   "cell_type": "code",
   "execution_count": 2,
   "metadata": {
    "code_folding": []
   },
   "outputs": [],
   "source": [
    "dtypes = {\n",
    "        'MachineIdentifier':                                    'category',\n",
    "        'ProductName':                                          'category',\n",
    "        'EngineVersion_float':                                  'float16',\n",
    "        'AppVersion_float':                                     'float16',\n",
    "        'AvSigVersion_float':                                   'float16',\n",
    "        'IsBeta':                                               'int8',\n",
    "        'RtpStateBitfield_1':                                   'int8',\n",
    "        'RtpStateBitfield_2':                                   'int8',\n",
    "        'RtpStateBitfield_3':                                   'int8',\n",
    "        'RtpStateBitfield_4':                                   'int8',\n",
    "        'IsSxsPassiveMode':                                     'int8',\n",
    "        'DefaultBrowsersIdentifier':                            'category',\n",
    "        'AVProductStatesIdentifier_filled':                     'category',\n",
    "        'AVProductsInstalled':                                  'float16',\n",
    "        'AVProductsEnabled':                                    'float16',\n",
    "        'HasTpm':                                               'int8',\n",
    "        'CountryIdentifier':                                    'category',\n",
    "        'CityIdentifier_filled':                                'category',\n",
    "        'OrganizationIdentifier_filled':                        'category',\n",
    "        'LocaleEnglishNameIdentifier':                          'category',\n",
    "        'Platform':                                             'category',\n",
    "        'Processor':                                            'category',\n",
    "        'OsVer':                                                'category',\n",
    "        'OsBuild':                                              'int16',\n",
    "        'OsSuite':                                              'int16',\n",
    "        'OsPlatformSubRelease':                                 'category',\n",
    "        'OsBuildLab':                                           'category',\n",
    "        'SkuEdition':                                           'category',\n",
    "        'IsProtected':                                          'float16',\n",
    "        'AutoSampleOptIn':                                      'int8',\n",
    "        'PuaMode':                                              'category',\n",
    "        'SMode':                                                'float16',\n",
    "        'IeVerIdentifier_filled':                               'float16',\n",
    "        'SmartScreen_filled':                                   'category',\n",
    "        'Firewall':                                             'float16',\n",
    "        'UacLuaenable':                                         'float32',\n",
    "        'Census_MDC2_FormFactor_clean':                         'category',\n",
    "        'Census_MDC2_FormFactor_isValid':                       'int8',\n",
    "        'Census_FFMatch':                                       'int8',\n",
    "        'Census_DeviceFamily':                                  'category',\n",
    "        'Census_OEMNameIdentifier_filled':                      'float16',\n",
    "        'Census_OEMModelIdentifier_filled':                     'float32',\n",
    "        'Census_ProcessorCoreCount':                            'float16',\n",
    "        'Census_ProcessorManufacturerIdentifier_filled':        'category',\n",
    "        'Census_ProcessorModelIdentifier_filled':               'category',\n",
    "        'Census_ProcessorClass':                                'category',\n",
    "        'Census_PrimaryDiskTotalCapacity':                      'float32',\n",
    "        'Census_PrimaryDiskTypeName':                           'category',\n",
    "        'Census_SystemVolumeTotalCapacity':                     'float32',\n",
    "        'Census_HasOpticalDiskDrive':                           'int8',\n",
    "        'Census_TotalPhysicalRAM':                              'float32',\n",
    "        'Census_ChassisTypeName_clean':                         'category',\n",
    "        'Census_ChassisTypeName_isValid':                       'int8',\n",
    "        'Census_InternalPrimaryDiagonalDisplaySizeInInches':    'float16',\n",
    "        'Census_InternalPrimaryDisplayResolutionHorizontal':    'float16',\n",
    "        'Census_InternalPrimaryDisplayResolutionVertical':      'float16',\n",
    "        'Census_PowerPlatformRoleName_filled':                  'category',\n",
    "        'Census_InternalBatteryType_reduced':                   'category',\n",
    "        'Census_InternalBatteryNumberOfCharges':                'float32',\n",
    "        'Census_OSVersion':                                     'category',\n",
    "        'Census_OSArchitecture':                                'category',\n",
    "        'Census_OSBuildNumber':                                 'int16',\n",
    "        'Census_OSBuildRevision':                               'int32',\n",
    "        'Census_OSEdition_clean':                               'category',\n",
    "        'OS_Reduced_Media':                                     'int8',\n",
    "        'Census_OSInstallTypeName':                             'category',\n",
    "        'Census_OSInstallLanguageIdentifier_filled':            'float16',\n",
    "        'Census_OSUILocaleIdentifier':                          'int16',\n",
    "        'Census_OSEdSkuMatch':                                  'int8',\n",
    "        'Census_OSVersion_float':                               'float16',\n",
    "        'Census_OSWUAutoUpdateOptionsName_filled':              'category',\n",
    "        'Census_IsPortableOperatingSystem':                     'int8',\n",
    "        'Census_GenuineStateName_filled':                       'category',\n",
    "        'Census_ActivationChannel':                             'category',\n",
    "        'Census_IsFlightingInternal':                           'float16',\n",
    "        'Census_IsFlightsDisabled':                             'float16',\n",
    "        'Census_FlightRing_filled':                             'category',\n",
    "        'Census_ThresholdOptIn':                                'float16',\n",
    "        'Census_FirmwareManufacturerIdentifier_filled':         'float16',\n",
    "        'Census_FirmwareVersionIdentifier_filled':              'float32',\n",
    "        'Census_IsSecureBootEnabled':                           'int8',\n",
    "        'Census_IsWIMBootEnabled':                              'float16',\n",
    "        'Census_IsVirtualDevice':                               'float16',\n",
    "        'Census_IsTouchEnabled':                                'int8',\n",
    "        'Census_IsPenCapable':                                  'int8',\n",
    "        'Census_IsAlwaysOnAlwaysConnectedCapable':              'float16',\n",
    "        'Wdft_IsGamer':                                         'float16',\n",
    "        'Wdft_RegionIdentifier':                                'float16',\n",
    "        'branch_ver':                                           'category',\n",
    "        'subrel_ver':                                           'category',\n",
    "        'subrel_ver_num':                                       'int',\n",
    "        'branch_release_num':                                   'int',\n",
    "        'is_svc_release':                                       'int8',\n",
    "        'is_escrow_release':                                    'int8',\n",
    "        'is_sec_release':                                       'int8',\n",
    "        'is_st1_release':                                       'int8',\n",
    "        'is_prerelease':                                        'int8',\n",
    "        'is_special_release':                                   'int8',\n",
    "        'HasDetections':                                        'int8'\n",
    "}"
   ]
  },
  {
   "cell_type": "markdown",
   "metadata": {},
   "source": [
    "Which features have been engineered but not being used in this model?"
   ]
  },
  {
   "cell_type": "code",
   "execution_count": 3,
   "metadata": {},
   "outputs": [
    {
     "name": "stdout",
     "output_type": "stream",
     "text": [
      "Census_MajorOSVersion\n",
      "Census_MinorOSVersion\n",
      "FinestAppVersion\n",
      "MajorAppVersion\n",
      "MajorAvSigVersion\n",
      "MajorEngineVersion\n",
      "MinorAppVersion\n",
      "MinorAvSigVersion\n",
      "MinorEngineVersion\n",
      "RtpStateBitfield_str\n",
      "Target\n"
     ]
    }
   ],
   "source": [
    "available_features = list(set(pipe.get_feature_names())-set(dtypes.keys()))\n",
    "t = [print(f) for f in sorted(available_features)]"
   ]
  },
  {
   "cell_type": "code",
   "execution_count": 4,
   "metadata": {},
   "outputs": [],
   "source": [
    "train_fn = 'train_r1.csv'\n",
    "test_fn = 'test_r1.csv'\n",
    "\n",
    "try:    \n",
    "    train = pd.read_csv(train_fn, dtype=dtypes)\n",
    "    test = pd.read_csv_csv(test_fn, dtype=dtypes)\n",
    "    pre_loaded = True\n",
    "except FileNotFoundError:\n",
    "    train = pd.read_pickle('train.pickle').sort_values(by='AvSigVersion')\n",
    "    test = pd.read_pickle('test.pickle').sort_values(by='AvSigVersion')\n",
    "\n",
    "    train = train.rename(columns={'HasDetections':'Target'})"
   ]
  },
  {
   "cell_type": "markdown",
   "metadata": {},
   "source": [
    "drop the columns that we will be replacing with cleaned"
   ]
  },
  {
   "cell_type": "code",
   "execution_count": 5,
   "metadata": {
    "scrolled": false
   },
   "outputs": [
    {
     "data": {
      "text/plain": [
       "['AVProductStatesIdentifier',\n",
       " 'AppVersion',\n",
       " 'AvSigVersion',\n",
       " 'Census_ChassisTypeName',\n",
       " 'Census_FirmwareManufacturerIdentifier',\n",
       " 'Census_FirmwareVersionIdentifier',\n",
       " 'Census_FlightRing',\n",
       " 'Census_GenuineStateName',\n",
       " 'Census_InternalBatteryType',\n",
       " 'Census_MDC2FormFactor',\n",
       " 'Census_OEMModelIdentifier',\n",
       " 'Census_OEMNameIdentifier',\n",
       " 'Census_OSBranch',\n",
       " 'Census_OSEdition',\n",
       " 'Census_OSInstallLanguageIdentifier',\n",
       " 'Census_OSSkuName',\n",
       " 'Census_OSWUAutoUpdateOptionsName',\n",
       " 'Census_PowerPlatformRoleName',\n",
       " 'Census_ProcessorManufacturerIdentifier',\n",
       " 'Census_ProcessorModelIdentifier',\n",
       " 'CityIdentifier',\n",
       " 'EngineVersion',\n",
       " 'GeoNameIdentifier',\n",
       " 'IeVerIdentifier',\n",
       " 'OrganizationIdentifier',\n",
       " 'RtpStateBitfield',\n",
       " 'SmartScreen']"
      ]
     },
     "execution_count": 5,
     "metadata": {},
     "output_type": "execute_result"
    }
   ],
   "source": [
    "cols = sorted(list(set(train.columns) - set(dtypes.keys()) - {'Target'}))\n",
    "cols"
   ]
  },
  {
   "cell_type": "code",
   "execution_count": 6,
   "metadata": {},
   "outputs": [],
   "source": [
    "if not_preloaded:\n",
    "    train = train.drop(columns=cols)\n",
    "    test = test.drop(columns=cols)"
   ]
  },
  {
   "cell_type": "markdown",
   "metadata": {},
   "source": [
    "get the columns we dont't have"
   ]
  },
  {
   "cell_type": "code",
   "execution_count": 38,
   "metadata": {
    "scrolled": false
   },
   "outputs": [
    {
     "data": {
      "text/plain": [
       "(0, [])"
      ]
     },
     "execution_count": 38,
     "metadata": {},
     "output_type": "execute_result"
    }
   ],
   "source": [
    "cols = sorted(list(set(dtypes.keys())-set(train.columns)-{'HasDetections'}))\n",
    "len(cols), cols"
   ]
  },
  {
   "cell_type": "markdown",
   "metadata": {},
   "source": [
    "Before doing this, I downloaded all the features into the tmp directory using the AWS CLI. The call to pipe to download the feature checks and pulls from the tmp directory before making the call to S3."
   ]
  },
  {
   "cell_type": "code",
   "execution_count": 35,
   "metadata": {
    "code_folding": [],
    "run_control": {
     "marked": false
    },
    "scrolled": false
   },
   "outputs": [
    {
     "data": {
      "application/vnd.jupyter.widget-view+json": {
       "model_id": "2c3707c670b14ec4b21f7fa88702d44c",
       "version_major": 2,
       "version_minor": 0
      },
      "text/plain": [
       "HBox(children=(IntProgress(value=0, description='joining', max=1, style=ProgressStyle(description_width='initi…"
      ]
     },
     "metadata": {},
     "output_type": "display_data"
    }
   ],
   "source": [
    "if not pre_loaded:\n",
    "    joined, failed = [], []\n",
    "\n",
    "    def fx(c):\n",
    "        try:\n",
    "            t = pipe.download_feature(c, cache=True)\n",
    "\n",
    "            combined = pd.concat([t['train'], t['validate']], axis=0, sort=False)\n",
    "            test = t['test']\n",
    "\n",
    "            return combined, test\n",
    "        except Exception as e:\n",
    "            failed.append((c, e))\n",
    "\n",
    "    step = 5\n",
    "    pbar = tqdm(total=len(cols), desc='joining')\n",
    "    \n",
    "    for i in range(0, len(cols), step):\n",
    "        pool = Pool(step)        \n",
    "        \n",
    "        cols_ = list(set(cols[i:i+step]) - set(train.columns))\n",
    "        pbar.update(step-len(cols_))\n",
    "        \n",
    "        if len(cols_) == 0:\n",
    "            continue\n",
    "        \n",
    "        features = list(pool.map(fx, cols_))\n",
    "        \n",
    "        for j, t in enumerate(features):\n",
    "            try:\n",
    "                combined, ti = t\n",
    "                c = cols[i+j]\n",
    "                \n",
    "                if c in train.columns:\n",
    "                    pbar.update(1)\n",
    "                    continue\n",
    "                    \n",
    "                train_ = train.merge(combined, on='MachineIdentifier', how='left')\n",
    "                test_ = test.merge(ti, on='MachineIdentifier', how='left')\n",
    "\n",
    "                assert len(train) == len(train_)\n",
    "                train = train_\n",
    "                del train_\n",
    "\n",
    "                assert len(test) == len(test_)\n",
    "                test = test_\n",
    "                del test_\n",
    "\n",
    "                joined.append(c)\n",
    "                \n",
    "                tmp = features[j]\n",
    "                features[j] = None\n",
    "                del tmp, ti, combined\n",
    "                x = gc.collect()\n",
    "            except Exception as e:\n",
    "                failed.append((c, e))\n",
    "\n",
    "            pbar.update(1)\n",
    "        \n",
    "        pool.close(); pool.join()\n",
    "        del pool, features\n",
    "        x = gc.collect()\n",
    "        time.sleep(5)"
   ]
  },
  {
   "cell_type": "markdown",
   "metadata": {},
   "source": [
    "Convert to data types"
   ]
  },
  {
   "cell_type": "code",
   "execution_count": 44,
   "metadata": {},
   "outputs": [
    {
     "name": "stdout",
     "output_type": "stream",
     "text": [
      "[]\n"
     ]
    },
    {
     "data": {
      "application/vnd.jupyter.widget-view+json": {
       "model_id": "fa8cf529230d4223985ad233db0ad33e",
       "version_major": 2,
       "version_minor": 0
      },
      "text/plain": [
       "HBox(children=(IntProgress(value=0, description='converting dtypes', max=99, style=ProgressStyle(description_w…"
      ]
     },
     "metadata": {},
     "output_type": "display_data"
    }
   ],
   "source": [
    "if not pre_loaded:\n",
    "    t = [print(ti[0] + ': ' + str(ti[1])) for ti in failed]; del t\n",
    "    failed_cols = [ti[0] for ti in failed]\n",
    "\n",
    "    for k, v in tqdm(dtypes.items(), desc='converting dtypes'):\n",
    "        if k == 'HasDetections' or k == 'MachineIdentifier' or k in failed_cols:\n",
    "            continue\n",
    "\n",
    "        try:\n",
    "            train.loc[:, k] = train.loc[:, k].astype(v)\n",
    "            test.loc[:, k] = test.loc[:, k].astype(v)\n",
    "        except KeyError:\n",
    "            print(f'{k} is {\"not \" if k not in train.columns else \" \"}in the cols')"
   ]
  },
  {
   "cell_type": "markdown",
   "metadata": {},
   "source": [
    "Write to disk"
   ]
  },
  {
   "cell_type": "code",
   "execution_count": 48,
   "metadata": {},
   "outputs": [
    {
     "ename": "AttributeError",
     "evalue": "'Process' object has no attribute 'close'",
     "output_type": "error",
     "traceback": [
      "\u001b[0;31m---------------------------------------------------------------------------\u001b[0m",
      "\u001b[0;31mAttributeError\u001b[0m                            Traceback (most recent call last)",
      "\u001b[0;32m<ipython-input-48-77749fb00a34>\u001b[0m in \u001b[0;36m<module>\u001b[0;34m\u001b[0m\n\u001b[1;32m      5\u001b[0m \u001b[0mp2\u001b[0m\u001b[0;34m.\u001b[0m\u001b[0mstart\u001b[0m\u001b[0;34m(\u001b[0m\u001b[0;34m)\u001b[0m\u001b[0;34m\u001b[0m\u001b[0;34m\u001b[0m\u001b[0m\n\u001b[1;32m      6\u001b[0m \u001b[0;34m\u001b[0m\u001b[0m\n\u001b[0;32m----> 7\u001b[0;31m \u001b[0mp1\u001b[0m\u001b[0;34m.\u001b[0m\u001b[0mjoin\u001b[0m\u001b[0;34m(\u001b[0m\u001b[0;34m)\u001b[0m\u001b[0;34m;\u001b[0m \u001b[0mp1\u001b[0m\u001b[0;34m.\u001b[0m\u001b[0mclose\u001b[0m\u001b[0;34m(\u001b[0m\u001b[0;34m)\u001b[0m\u001b[0;34m;\u001b[0m \u001b[0;32mdel\u001b[0m \u001b[0mp1\u001b[0m\u001b[0;34m\u001b[0m\u001b[0;34m\u001b[0m\u001b[0m\n\u001b[0m\u001b[1;32m      8\u001b[0m \u001b[0mp2\u001b[0m\u001b[0;34m.\u001b[0m\u001b[0mjoin\u001b[0m\u001b[0;34m(\u001b[0m\u001b[0;34m)\u001b[0m\u001b[0;34m;\u001b[0m \u001b[0mp2\u001b[0m\u001b[0;34m.\u001b[0m\u001b[0mclose\u001b[0m\u001b[0;34m(\u001b[0m\u001b[0;34m)\u001b[0m\u001b[0;34m;\u001b[0m \u001b[0;32mdel\u001b[0m \u001b[0mp2\u001b[0m\u001b[0;34m\u001b[0m\u001b[0;34m\u001b[0m\u001b[0m\n",
      "\u001b[0;31mAttributeError\u001b[0m: 'Process' object has no attribute 'close'"
     ]
    }
   ],
   "source": [
    "if not preloaded:\n",
    "    p1 = mul.Process(target=train.to_csv, args=(train_fn,), kwargs=dict(index=None))\n",
    "    p1.start()\n",
    "\n",
    "    p2 = mul.Process(target=test.to_csv, args=(test_fn,), kwargs=dict(index=None))\n",
    "    p2.start()\n",
    "\n",
    "    p1.join(); p1.terminate(); del p1\n",
    "    p2.join(); p2.terminate(); del p2"
   ]
  },
  {
   "cell_type": "markdown",
   "metadata": {},
   "source": [
    "The model"
   ]
  },
  {
   "cell_type": "code",
   "execution_count": 63,
   "metadata": {},
   "outputs": [],
   "source": [
    "try:\n",
    "    del dtypes['MachineIdentifier'], dtypes['HasDetections']\n",
    "except KeyError:\n",
    "    pass\n",
    "\n",
    "features = dtypes.keys()\n",
    "\n",
    "hparam = tf.contrib.training.HParams(\n",
    "    model='nffm',\n",
    "    norm=True,\n",
    "    batch_norm_decay=0.9,\n",
    "    hidden_size=[128,128],\n",
    "    k=8,\n",
    "    hash_ids=int(2e5),\n",
    "    batch_size=1024,\n",
    "    optimizer=\"adam\",\n",
    "    learning_rate=0.001,\n",
    "    num_display_steps=1000,\n",
    "    num_eval_steps=1000,\n",
    "    epoch=1,\n",
    "    metric='auc',\n",
    "    init_method='uniform',\n",
    "    init_value=0.1,\n",
    "    feature_nums=len(features),\n",
    "    kfold=5\n",
    ")"
   ]
  },
  {
   "cell_type": "code",
   "execution_count": 65,
   "metadata": {
    "scrolled": false
   },
   "outputs": [
    {
     "name": "stdout",
     "output_type": "stream",
     "text": [
      "Number: 1784296\n",
      "Number: 1784296\n",
      "Number: 1784296\n",
      "Number: 1784296\n",
      "Number: 1784299\n",
      "Fold 0\n",
      "# Trainable variables\n",
      "  emb_v1:0, (200000, 1), \n",
      "  emb_v2:0, (200000, 97, 8), \n",
      "  Variable:0, (4656, 128), \n",
      "  norm_0/beta:0, (128,), \n",
      "  norm_0/gamma:0, (128,), \n",
      "  Variable_1:0, (128, 128), \n",
      "  norm_1/beta:0, (128,), \n",
      "  norm_1/gamma:0, (128,), \n",
      "  Variable_2:0, (128, 1), \n",
      "  Variable_3:0, (), \n"
     ]
    },
    {
     "name": "stderr",
     "output_type": "stream",
     "text": [
      "/home/ubuntu/anaconda3/envs/dankd/lib/python3.6/site-packages/tensorflow/python/ops/gradients_impl.py:112: UserWarning: Converting sparse IndexedSlices to a dense Tensor of unknown shape. This may consume a large amount of memory.\n",
      "  \"Converting sparse IndexedSlices to a dense Tensor of unknown shape. \"\n"
     ]
    },
    {
     "name": "stdout",
     "output_type": "stream",
     "text": [
      "  epoch 0 step 1000 lr 0.001 logloss 0.640351 gN 0.25, Fri Feb 15 22:12:52 2019\n",
      "# Epcho-time 1562.66s Eval AUC 0.719883. Best AUC 0.719883.\n",
      "  epoch 0 step 2000 lr 0.001 logloss 0.606850 gN 0.16, Fri Feb 15 22:40:15 2019\n",
      "# Epcho-time 3205.13s Eval AUC 0.727680. Best AUC 0.727680.\n",
      "  epoch 0 step 3000 lr 0.001 logloss 0.603540 gN 0.15, Fri Feb 15 23:07:49 2019\n",
      "# Epcho-time 4858.80s Eval AUC 0.730085. Best AUC 0.730085.\n",
      "  epoch 0 step 4000 lr 0.001 logloss 0.601547 gN 0.14, Fri Feb 15 23:35:23 2019\n",
      "# Epcho-time 6512.98s Eval AUC 0.731329. Best AUC 0.731329.\n",
      "  epoch 0 step 5000 lr 0.001 logloss 0.600385 gN 0.14, Sat Feb 16 00:03:02 2019\n",
      "# Epcho-time 8171.71s Eval AUC 0.733851. Best AUC 0.733851.\n",
      "  epoch 0 step 6000 lr 0.001 logloss 0.605957 gN 0.16, Sat Feb 16 00:30:35 2019\n",
      "# Epcho-time 9825.56s Eval AUC 0.730014. Best AUC 0.733851.\n",
      "# Epcho-time 11426.89s Eval AUC 0.733374. Best AUC 0.733851.\n",
      "INFO:tensorflow:Restoring parameters from model_tmp/model\n",
      "# Epcho-time 11513.86s Eval AUC 0.733861. Best AUC 0.733861.\n",
      "Training Done! Inference...\n",
      "Fold 1\n",
      "# Trainable variables\n",
      "  emb_v1:0, (200000, 1), \n",
      "  emb_v2:0, (200000, 97, 8), \n",
      "  Variable:0, (4656, 128), \n",
      "  norm_0/beta:0, (128,), \n",
      "  norm_0/gamma:0, (128,), \n",
      "  Variable_1:0, (128, 128), \n",
      "  norm_1/beta:0, (128,), \n",
      "  norm_1/gamma:0, (128,), \n",
      "  Variable_2:0, (128, 1), \n",
      "  Variable_3:0, (), \n"
     ]
    },
    {
     "name": "stderr",
     "output_type": "stream",
     "text": [
      "/home/ubuntu/anaconda3/envs/dankd/lib/python3.6/site-packages/tensorflow/python/ops/gradients_impl.py:112: UserWarning: Converting sparse IndexedSlices to a dense Tensor of unknown shape. This may consume a large amount of memory.\n",
      "  \"Converting sparse IndexedSlices to a dense Tensor of unknown shape. \"\n"
     ]
    },
    {
     "name": "stdout",
     "output_type": "stream",
     "text": [
      "  epoch 0 step 1000 lr 0.001 logloss 0.641090 gN 0.26, Sat Feb 16 02:29:55 2019\n",
      "# Epcho-time 1547.81s Eval AUC 0.722583. Best AUC 0.722583.\n",
      "  epoch 0 step 2000 lr 0.001 logloss 0.608125 gN 0.17, Sat Feb 16 02:57:07 2019\n",
      "# Epcho-time 3179.59s Eval AUC 0.729086. Best AUC 0.729086.\n",
      "  epoch 0 step 3000 lr 0.001 logloss 0.603919 gN 0.16, Sat Feb 16 03:24:27 2019\n",
      "# Epcho-time 4819.58s Eval AUC 0.731141. Best AUC 0.731141.\n",
      "  epoch 0 step 4000 lr 0.001 logloss 0.601708 gN 0.15, Sat Feb 16 03:51:50 2019\n",
      "# Epcho-time 6462.53s Eval AUC 0.733335. Best AUC 0.733335.\n",
      "  epoch 0 step 5000 lr 0.001 logloss 0.600553 gN 0.14, Sat Feb 16 04:19:12 2019\n",
      "# Epcho-time 8104.36s Eval AUC 0.735840. Best AUC 0.735840.\n",
      "  epoch 0 step 6000 lr 0.001 logloss 0.605928 gN 0.17, Sat Feb 16 04:46:35 2019\n",
      "# Epcho-time 9747.92s Eval AUC 0.732510. Best AUC 0.735840.\n",
      "# Epcho-time 11340.71s Eval AUC 0.734865. Best AUC 0.735840.\n",
      "INFO:tensorflow:Restoring parameters from model_tmp/model\n",
      "# Epcho-time 11426.97s Eval AUC 0.735847. Best AUC 0.735847.\n",
      "Training Done! Inference...\n",
      "Fold 2\n",
      "# Trainable variables\n",
      "  emb_v1:0, (200000, 1), \n",
      "  emb_v2:0, (200000, 97, 8), \n",
      "  Variable:0, (4656, 128), \n",
      "  norm_0/beta:0, (128,), \n",
      "  norm_0/gamma:0, (128,), \n",
      "  Variable_1:0, (128, 128), \n",
      "  norm_1/beta:0, (128,), \n",
      "  norm_1/gamma:0, (128,), \n",
      "  Variable_2:0, (128, 1), \n",
      "  Variable_3:0, (), \n"
     ]
    },
    {
     "name": "stderr",
     "output_type": "stream",
     "text": [
      "/home/ubuntu/anaconda3/envs/dankd/lib/python3.6/site-packages/tensorflow/python/ops/gradients_impl.py:112: UserWarning: Converting sparse IndexedSlices to a dense Tensor of unknown shape. This may consume a large amount of memory.\n",
      "  \"Converting sparse IndexedSlices to a dense Tensor of unknown shape. \"\n"
     ]
    },
    {
     "name": "stdout",
     "output_type": "stream",
     "text": [
      "  epoch 0 step 1000 lr 0.001 logloss 0.637920 gN 0.25, Sat Feb 16 06:45:31 2019\n",
      "# Epcho-time 1570.28s Eval AUC 0.721901. Best AUC 0.721901.\n",
      "  epoch 0 step 2000 lr 0.001 logloss 0.607631 gN 0.17, Sat Feb 16 07:12:48 2019\n",
      "# Epcho-time 3206.72s Eval AUC 0.727320. Best AUC 0.727320.\n",
      "  epoch 0 step 3000 lr 0.001 logloss 0.603643 gN 0.16, Sat Feb 16 07:40:27 2019\n",
      "# Epcho-time 4865.91s Eval AUC 0.731639. Best AUC 0.731639.\n",
      "  epoch 0 step 4000 lr 0.001 logloss 0.601302 gN 0.15, Sat Feb 16 08:07:49 2019\n",
      "# Epcho-time 6508.14s Eval AUC 0.733951. Best AUC 0.733951.\n",
      "  epoch 0 step 5000 lr 0.001 logloss 0.600195 gN 0.14, Sat Feb 16 08:35:27 2019\n",
      "# Epcho-time 8166.25s Eval AUC 0.735670. Best AUC 0.735670.\n",
      "  epoch 0 step 6000 lr 0.001 logloss 0.605953 gN 0.17, Sat Feb 16 09:02:52 2019\n",
      "# Epcho-time 9811.21s Eval AUC 0.732267. Best AUC 0.735670.\n",
      "# Epcho-time 11404.56s Eval AUC 0.734599. Best AUC 0.735670.\n",
      "INFO:tensorflow:Restoring parameters from model_tmp/model\n",
      "# Epcho-time 11491.31s Eval AUC 0.735649. Best AUC 0.735670.\n",
      "Training Done! Inference...\n",
      "Fold 3\n",
      "# Trainable variables\n",
      "  emb_v1:0, (200000, 1), \n",
      "  emb_v2:0, (200000, 97, 8), \n",
      "  Variable:0, (4656, 128), \n",
      "  norm_0/beta:0, (128,), \n",
      "  norm_0/gamma:0, (128,), \n",
      "  Variable_1:0, (128, 128), \n",
      "  norm_1/beta:0, (128,), \n",
      "  norm_1/gamma:0, (128,), \n",
      "  Variable_2:0, (128, 1), \n",
      "  Variable_3:0, (), \n"
     ]
    },
    {
     "name": "stderr",
     "output_type": "stream",
     "text": [
      "/home/ubuntu/anaconda3/envs/dankd/lib/python3.6/site-packages/tensorflow/python/ops/gradients_impl.py:112: UserWarning: Converting sparse IndexedSlices to a dense Tensor of unknown shape. This may consume a large amount of memory.\n",
      "  \"Converting sparse IndexedSlices to a dense Tensor of unknown shape. \"\n"
     ]
    },
    {
     "name": "stdout",
     "output_type": "stream",
     "text": [
      "  epoch 0 step 1000 lr 0.001 logloss 0.636444 gN 0.24, Sat Feb 16 11:01:57 2019\n",
      "# Epcho-time 1565.00s Eval AUC 0.720947. Best AUC 0.720947.\n",
      "  epoch 0 step 2000 lr 0.001 logloss 0.607656 gN 0.17, Sat Feb 16 11:29:23 2019\n",
      "# Epcho-time 3210.37s Eval AUC 0.726227. Best AUC 0.726227.\n",
      "  epoch 0 step 3000 lr 0.001 logloss 0.603925 gN 0.16, Sat Feb 16 11:56:57 2019\n",
      "# Epcho-time 4864.65s Eval AUC 0.729027. Best AUC 0.729027.\n",
      "  epoch 0 step 4000 lr 0.001 logloss 0.601326 gN 0.15, Sat Feb 16 12:24:26 2019\n",
      "# Epcho-time 6513.73s Eval AUC 0.729393. Best AUC 0.729393.\n",
      "  epoch 0 step 5000 lr 0.001 logloss 0.599996 gN 0.14, Sat Feb 16 12:51:59 2019\n",
      "# Epcho-time 8166.34s Eval AUC 0.733116. Best AUC 0.733116.\n",
      "  epoch 0 step 6000 lr 0.001 logloss 0.606247 gN 0.17, Sat Feb 16 13:19:27 2019\n",
      "# Epcho-time 9814.86s Eval AUC 0.731242. Best AUC 0.733116.\n",
      "# Epcho-time 11412.44s Eval AUC 0.732414. Best AUC 0.733116.\n",
      "INFO:tensorflow:Restoring parameters from model_tmp/model\n",
      "# Epcho-time 11498.58s Eval AUC 0.733126. Best AUC 0.733126.\n",
      "Training Done! Inference...\n",
      "Fold 4\n",
      "# Trainable variables\n",
      "  emb_v1:0, (200000, 1), \n",
      "  emb_v2:0, (200000, 97, 8), \n",
      "  Variable:0, (4656, 128), \n",
      "  norm_0/beta:0, (128,), \n",
      "  norm_0/gamma:0, (128,), \n",
      "  Variable_1:0, (128, 128), \n",
      "  norm_1/beta:0, (128,), \n",
      "  norm_1/gamma:0, (128,), \n",
      "  Variable_2:0, (128, 1), \n",
      "  Variable_3:0, (), \n"
     ]
    },
    {
     "name": "stderr",
     "output_type": "stream",
     "text": [
      "/home/ubuntu/anaconda3/envs/dankd/lib/python3.6/site-packages/tensorflow/python/ops/gradients_impl.py:112: UserWarning: Converting sparse IndexedSlices to a dense Tensor of unknown shape. This may consume a large amount of memory.\n",
      "  \"Converting sparse IndexedSlices to a dense Tensor of unknown shape. \"\n"
     ]
    },
    {
     "name": "stdout",
     "output_type": "stream",
     "text": [
      "  epoch 0 step 1000 lr 0.001 logloss 0.628425 gN 0.23, Sat Feb 16 15:19:44 2019\n",
      "# Epcho-time 1594.51s Eval AUC 0.721445. Best AUC 0.721445.\n",
      "  epoch 0 step 2000 lr 0.001 logloss 0.607623 gN 0.17, Sat Feb 16 15:47:22 2019\n",
      "# Epcho-time 3252.15s Eval AUC 0.726726. Best AUC 0.726726.\n",
      "  epoch 0 step 3000 lr 0.001 logloss 0.603730 gN 0.16, Sat Feb 16 16:15:18 2019\n",
      "# Epcho-time 4927.73s Eval AUC 0.730599. Best AUC 0.730599.\n",
      "  epoch 0 step 4000 lr 0.001 logloss 0.601213 gN 0.15, Sat Feb 16 16:43:00 2019\n",
      "# Epcho-time 6590.49s Eval AUC 0.731544. Best AUC 0.731544.\n",
      "  epoch 0 step 5000 lr 0.001 logloss 0.599833 gN 0.14, Sat Feb 16 17:10:58 2019\n",
      "# Epcho-time 8268.22s Eval AUC 0.734618. Best AUC 0.734618.\n",
      "  epoch 0 step 6000 lr 0.001 logloss 0.598988 gN 0.14, Sat Feb 16 17:38:39 2019\n",
      "# Epcho-time 9929.33s Eval AUC 0.735126. Best AUC 0.735126.\n",
      "# Epcho-time 11557.71s Eval AUC 0.736626. Best AUC 0.736626.\n",
      "INFO:tensorflow:Restoring parameters from model_tmp/model\n",
      "# Epcho-time 11649.99s Eval AUC 0.736628. Best AUC 0.736628.\n",
      "Training Done! Inference...\n"
     ]
    }
   ],
   "source": [
    "index = set(range(train.shape[0]))\n",
    "K_fold=[]\n",
    "\n",
    "for i in range(hparam.kfold):\n",
    "    if i == hparam.kfold-1:\n",
    "        tmp = index \n",
    "    else:\n",
    "        tmp = random.sample(index,int(1.0/hparam.kfold*train.shape[0]))\n",
    "    index = index-set(tmp)\n",
    "    \n",
    "    print(\"Number:\",len(tmp))\n",
    "    K_fold.append(tmp)\n",
    "    \n",
    "\n",
    "for i in range(hparam.kfold):\n",
    "    print(\"Fold\", i)\n",
    "    dev_index = K_fold[i]\n",
    "    dev_index = random.sample(dev_index,int(0.1*len(dev_index)))\n",
    "    train_index = []\n",
    "    \n",
    "    for j in range(hparam.kfold):\n",
    "        if j != i:\n",
    "            train_index += K_fold[j]\n",
    "            \n",
    "    model = ctrNet.build_model(hparam)\n",
    "    model.train(\n",
    "        train_data=(\n",
    "            train.iloc[train_index][features], \n",
    "            train.iloc[train_index]['Target']\n",
    "        ),\n",
    "        dev_data=(\n",
    "            train.iloc[dev_index][features], \n",
    "            train.iloc[dev_index]['Target']\n",
    "        )\n",
    "    )\n",
    "    \n",
    "    print(\"Training Done! Inference...\")\n",
    "    test['Target'] = np.nan\n",
    "    if i == 0:\n",
    "        preds = model.infer(dev_data=(test[features], test['Target']))/hparam.kfold\n",
    "    else:\n",
    "        preds += model.infer(dev_data=(test[features], test['Target']))/hparam.kfold"
   ]
  },
  {
   "cell_type": "code",
   "execution_count": null,
   "metadata": {},
   "outputs": [],
   "source": [
    "df = pd.DataFrame()\n",
    "df['MachineIdentifier'] = test.MachineIdentifier\n",
    "df['HasDetections'] = preds\n",
    "\n",
    "df.to_csv('submission.csv', index=None)\n",
    "df.head()"
   ]
  }
 ],
 "metadata": {
  "kernelspec": {
   "display_name": "Python [conda env:dankd]",
   "language": "python",
   "name": "conda-env-dankd-py"
  },
  "language_info": {
   "codemirror_mode": {
    "name": "ipython",
    "version": 3
   },
   "file_extension": ".py",
   "mimetype": "text/x-python",
   "name": "python",
   "nbconvert_exporter": "python",
   "pygments_lexer": "ipython3",
   "version": "3.6.8"
  }
 },
 "nbformat": 4,
 "nbformat_minor": 2
}
