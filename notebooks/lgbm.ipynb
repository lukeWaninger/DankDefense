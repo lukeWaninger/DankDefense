{
 "cells": [
  {
   "cell_type": "code",
   "execution_count": 8,
   "metadata": {
    "ExecuteTime": {
     "end_time": "2019-02-22T21:22:53.969379Z",
     "start_time": "2019-02-22T21:22:53.881377Z"
    }
   },
   "outputs": [],
   "source": [
    "import gc\n",
    "import multiprocessing as mul\n",
    "from multiprocessing.dummy import Pool as TPool\n",
    "import os\n",
    "\n",
    "import cache_magic\n",
    "import lightgbm as lgb\n",
    "import matplotlib\n",
    "import matplotlib.pyplot as plt\n",
    "import numpy as np\n",
    "#import modin.pandas as pd\n",
    "import pandas as pd\n",
    "import seaborn as sns\n",
    "from tqdm import tqdm_notebook as tqdm\n",
    "from IPython.core.interactiveshell import InteractiveShell\n",
    "\n",
    "import dankypipe.pipe as pipe\n",
    "from dankypipe.utils importrt *\n",
    "\n",
    "InteractiveShell.ast_node_interactivity = 'all'"
   ]
  },
  {
   "cell_type": "code",
   "execution_count": 12,
   "metadata": {
    "ExecuteTime": {
     "end_time": "2019-02-22T21:24:02.915412Z",
     "start_time": "2019-02-22T21:24:02.906549Z"
    },
    "code_folding": []
   },
   "outputs": [],
   "source": [
    "dtypes = DTypes({\n",
    "        'MachineIdentifier':                                    'category',\n",
    "        'ProductName':                                          'category',\n",
    "        'EngineVersion_float':                                  'float16',\n",
    "        'AppVersion_float':                                     'float16',\n",
    "        'AvSigVersion_float':                                   'float16',\n",
    "        'IsBeta':                                               'int8',\n",
    "        'RtpStateBitfield_1':                                   'int8',\n",
    "        'RtpStateBitfield_2':                                   'int8',\n",
    "        'RtpStateBitfield_3':                                   'int8',\n",
    "        'RtpStateBitfield_4':                                   'int8',\n",
    "        'IsSxsPassiveMode':                                     'int8',\n",
    "        'DefaultBrowsersIdentifier':                            'category',\n",
    "        'AVProductStatesIdentifier_filled':                     'category',\n",
    "        'AVProductsInstalled':                                  'float16',\n",
    "        'AVProductsEnabled':                                    'float16',\n",
    "        'HasTpm':                                               'int8',\n",
    "        'CountryIdentifier':                                    'category',\n",
    "        'CityIdentifier_filled':                                'category',\n",
    "        'OrganizationIdentifier_filled':                        'category',\n",
    "        'LocaleEnglishNameIdentifier':                          'category',\n",
    "        'Platform':                                             'category',\n",
    "        'Processor':                                            'category',\n",
    "        'OsVer':                                                'category',\n",
    "        'OsBuild':                                              'int16',\n",
    "        'OsSuite':                                              'int16',\n",
    "        'OsPlatformSubRelease':                                 'category',\n",
    "        'OsBuildLab':                                           'category',\n",
    "        'SkuEdition':                                           'category',\n",
    "        'IsProtected':                                          'float16',\n",
    "        'AutoSampleOptIn':                                      'int8',\n",
    "        'PuaMode':                                              'category',\n",
    "        'SMode':                                                'float16',\n",
    "        'IeVerIdentifier_filled':                               'float16',\n",
    "        'SmartScreen_filled':                                   'category',\n",
    "        'Firewall':                                             'float16',\n",
    "        'UacLuaenable':                                         'float32',\n",
    "        'Census_MDC2_FormFactor_clean':                         'category',\n",
    "        'Census_MDC2_FormFactor_isValid':                       'int8',\n",
    "        'Census_FFMatch':                                       'int8',\n",
    "        'Census_DeviceFamily':                                  'category',\n",
    "        'Census_OEMNameIdentifier_filled':                      'float16',\n",
    "        'Census_OEMModelIdentifier_filled':                     'float32',\n",
    "        'Census_ProcessorCoreCount':                            'float16',\n",
    "        'Census_ProcessorManufacturerIdentifier_filled':        'category',\n",
    "        'Census_ProcessorModelIdentifier_filled':               'category',\n",
    "        'Census_ProcessorClass':                                'category',\n",
    "        'Census_PrimaryDiskTotalCapacity':                      'float32',\n",
    "        'Census_PrimaryDiskTypeName':                           'category',\n",
    "        'Census_SystemVolumeTotalCapacity':                     'float32',\n",
    "        'Census_HasOpticalDiskDrive':                           'int8',\n",
    "        'Census_TotalPhysicalRAM':                              'float32',\n",
    "        'Census_ChassisTypeName_clean':                         'category',\n",
    "        'Census_ChassisTypeName_isValid':                       'int8',\n",
    "        'Census_InternalPrimaryDiagonalDisplaySizeInInches':    'float16',\n",
    "        'Census_InternalPrimaryDisplayResolutionHorizontal':    'float16',\n",
    "        'Census_InternalPrimaryDisplayResolutionVertical':      'float16',\n",
    "        'Census_PowerPlatformRoleName_filled':                  'category',\n",
    "        'Census_InternalBatteryType_reduced':                   'category',\n",
    "        'Census_InternalBatteryNumberOfCharges':                'float32',\n",
    "        'Census_OSVersion':                                     'category',\n",
    "        'Census_OSArchitecture':                                'category',\n",
    "        'Census_OSBuildNumber':                                 'int16',\n",
    "        'Census_OSBuildRevision':                               'int32',\n",
    "        'Census_OSEdition_clean':                               'category',\n",
    "        'OS_Reduced_Media':                                     'int8',\n",
    "        'Census_OSInstallTypeName':                             'category',\n",
    "        'Census_OSInstallLanguageIdentifier_filled':            'float16',\n",
    "        'Census_OSUILocaleIdentifier':                          'int16',\n",
    "        'Census_OSEdSkuMatch':                                  'int8',\n",
    "        'Census_OSVersion_float':                               'float16',\n",
    "        'Census_OSWUAutoUpdateOptionsName':                     'category',\n",
    "        'Census_IsPortableOperatingSystem':                     'int8',\n",
    "        'Census_GenuineStateName_filled':                       'category',\n",
    "        'Census_ActivationChannel':                             'category',\n",
    "        'Census_IsFlightingInternal':                           'float16',\n",
    "        'Census_IsFlightsDisabled':                             'float16',\n",
    "        'Census_FlightRing_filled':                             'category',\n",
    "        'Census_ThresholdOptIn':                                'float16',\n",
    "        'Census_FirmwareManufacturerIdentifier_filled':         'float16',\n",
    "        'Census_FirmwareVersionIdentifier_filled':              'float32',\n",
    "        'Census_IsSecureBootEnabled':                           'int8',\n",
    "        'Census_IsWIMBootEnabled':                              'float16',\n",
    "        'Census_IsVirtualDevice':                               'float16',\n",
    "        'Census_IsTouchEnabled':                                'int8',\n",
    "        'Census_IsPenCapable':                                  'int8',\n",
    "        'Census_IsAlwaysOnAlwaysConnectedCapable':              'float16',\n",
    "        'Wdft_IsGamer':                                         'float16',\n",
    "        'Wdft_RegionIdentifier':                                'float16',\n",
    "        'branch_ver':                                           'category',\n",
    "        'subrel_ver':                                           'category',\n",
    "        'subrel_ver_num':                                       'int',\n",
    "        'branch_release_num':                                   'int',\n",
    "        'is_svc_release':                                       'int8',\n",
    "        'is_escrow_release':                                    'int8',\n",
    "        'is_sec_release':                                       'int8',\n",
    "        'is_st1_release':                                       'int8',\n",
    "        'is_prerelease':                                        'int8',\n",
    "        'is_special_release':                                   'int8',\n",
    "        'HasDetections':                                        'int8'\n",
    "    }\n",
    ")"
   ]
  },
  {
   "cell_type": "code",
   "execution_count": 2,
   "metadata": {
    "ExecuteTime": {
     "end_time": "2019-02-22T21:06:55.566283Z",
     "start_time": "2019-02-22T21:06:11.710707Z"
    }
   },
   "outputs": [
    {
     "name": "stdout",
     "output_type": "stream",
     "text": [
      "Loading cached value for variable 'train'. Time since caching: 3:22:07.587638\n",
      "Loading cached value for variable 'test'. Time since caching: 3:14:36.483331\n"
     ]
    }
   ],
   "source": [
    "def load(s):\n",
    "    train_cleaned = pd.read_csv(dp(f'{s}_r1.csv'), dtype=dtypes.dict)\n",
    "    train_raw = pd.read_pickle(dp(f'{s}.pickle'))\n",
    "\n",
    "    cols = list(set(train_raw.columns) - set(train_cleaned.columns)) + ['MachineIdentifier']\n",
    "    df = train_cleaned.merge(train_raw[cols], on='MachineIdentifier', how='left')\n",
    "    \n",
    "    df['avsig_dt'] = df.AvSigVersion.apply(mx)\n",
    "    df = df.dropna(subset=['avsig_dt'], axis=0)\n",
    "    df = df.sort_values(by='avsig_dt')\n",
    "    return df\n",
    "\n",
    "%cache train = load('train')\n",
    "%cache test = load('test')"
   ]
  },
  {
   "cell_type": "code",
   "execution_count": 4,
   "metadata": {
    "ExecuteTime": {
     "end_time": "2019-02-22T21:13:30.476027Z",
     "start_time": "2019-02-22T21:13:25.480203Z"
    }
   },
   "outputs": [
    {
     "data": {
      "text/plain": [
       "7137132"
      ]
     },
     "execution_count": 4,
     "metadata": {},
     "output_type": "execute_result"
    }
   ],
   "source": [
    "split_idx = int(train.shape[0]*.8); split_idx\n",
    "\n",
    "y = train.HasDetections\n",
    "\n",
    "train = train.drop(columns='HasDetections')\n",
    "x = train.iloc[:split_idx, :]\n",
    "val = train.iloc[split_idx:, :]"
   ]
  },
  {
   "cell_type": "code",
   "execution_count": null,
   "metadata": {},
   "outputs": [],
   "source": [
    "lgb_train = lgb."
   ]
  }
 ],
 "metadata": {
  "kernelspec": {
   "display_name": "Python [conda env:dankd]",
   "language": "python",
   "name": "conda-env-dankd-py"
  },
  "language_info": {
   "codemirror_mode": {
    "name": "ipython",
    "version": 3
   },
   "file_extension": ".py",
   "mimetype": "text/x-python",
   "name": "python",
   "nbconvert_exporter": "python",
   "pygments_lexer": "ipython3",
   "version": "3.7.2"
  },
  "varInspector": {
   "cols": {
    "lenName": 16,
    "lenType": 16,
    "lenVar": 40
   },
   "kernels_config": {
    "python": {
     "delete_cmd_postfix": "",
     "delete_cmd_prefix": "del ",
     "library": "var_list.py",
     "varRefreshCmd": "print(var_dic_list())"
    },
    "r": {
     "delete_cmd_postfix": ") ",
     "delete_cmd_prefix": "rm(",
     "library": "var_list.r",
     "varRefreshCmd": "cat(var_dic_list()) "
    }
   },
   "types_to_exclude": [
    "module",
    "function",
    "builtin_function_or_method",
    "instance",
    "_Feature"
   ],
   "window_display": false
  }
 },
 "nbformat": 4,
 "nbformat_minor": 2
}
